{
  "nbformat": 4,
  "nbformat_minor": 0,
  "metadata": {
    "kernelspec": {
      "display_name": "tensorflow",
      "language": "python",
      "name": "tensorflow"
    },
    "language_info": {
      "codemirror_mode": {
        "name": "ipython",
        "version": 3
      },
      "file_extension": ".py",
      "mimetype": "text/x-python",
      "name": "python",
      "nbconvert_exporter": "python",
      "pygments_lexer": "ipython3",
      "version": "3.6.5"
    },
    "colab": {
      "name": "Chap06-Decision_Tree.ipynb",
      "provenance": [],
      "include_colab_link": true
    }
  },
  "cells": [
    {
      "cell_type": "markdown",
      "metadata": {
        "id": "view-in-github",
        "colab_type": "text"
      },
      "source": [
        "<a href=\"https://colab.research.google.com/github/hanayong/DSU_ML2021-repository/blob/main/Chap06_Decision_Tree.ipynb\" target=\"_parent\"><img src=\"https://colab.research.google.com/assets/colab-badge.svg\" alt=\"Open In Colab\"/></a>"
      ]
    },
    {
      "cell_type": "markdown",
      "metadata": {
        "id": "sd8DwdFnLZDF"
      },
      "source": [
        "# Chap06 - Decision Tree"
      ]
    },
    {
      "cell_type": "markdown",
      "metadata": {
        "id": "3MumSRX3LZDH"
      },
      "source": [
        "**Desicion Tree**(이하, 결정 트리 또는 의사결정나무)는 **분류**와 **회귀**에 사용할 수 있는 머신러닝 알고리즘이다. \n",
        "\n",
        "이번 장에서는 결정 트리의 훈련, 시각화, 예측 방법에 대해 알아보고, 결정 트리 중 Scikit-Learn의 CART 알고리즘을 알아보고 트리에 규제를 적용하는 방법과 회귀 문제에 적용하는 방법에 대해 알아 보도록 하자."
      ]
    },
    {
      "cell_type": "markdown",
      "metadata": {
        "id": "fzbKosF5LZDH"
      },
      "source": [
        "## Set Up"
      ]
    },
    {
      "cell_type": "code",
      "metadata": {
        "id": "vP6LwCdLLZDI"
      },
      "source": [
        "import os\n",
        "import numpy as np\n",
        "\n",
        "# 일관된 출력을 위해 유사난수 초기화\n",
        "np.random.seed(42)\n",
        "\n",
        "%matplotlib inline\n",
        "import matplotlib\n",
        "import matplotlib.pyplot as plt\n",
        "import seaborn as sn\n",
        "sn.set()\n",
        "plt.rcParams['axes.labelsize'] = 14\n",
        "plt.rcParams['xtick.labelsize'] = 12\n",
        "plt.rcParams['ytick.labelsize'] = 12\n",
        "\n",
        "# 한글출력\n",
        "# matplotlib.rc('font', family='AppleGothic')  # MacOS\n",
        "matplotlib.rc('font', family='Malgun Gothic')  # Windows\n",
        "plt.rcParams['axes.unicode_minus'] = False"
      ],
      "execution_count": null,
      "outputs": []
    },
    {
      "cell_type": "markdown",
      "metadata": {
        "id": "uQWJvMp4LZDI"
      },
      "source": [
        " "
      ]
    },
    {
      "cell_type": "markdown",
      "metadata": {
        "id": "0s3UDvquLZDJ"
      },
      "source": [
        "## 6.1 결정 트리 학습과 시각화\n",
        "\n",
        "다음 예제는 붓꽃(iris) 데이터셋을 Scikit-Learn의 [`DecisionTreeClassifier`](http://scikit-learn.org/stable/modules/generated/sklearn.tree.DecisionTreeClassifier.html#sklearn.tree.DecisionTreeClassifier)를 이용해 학습시키는 코드이다.\n",
        "\n",
        "> Scikit-Learn은 **이진 트리**만 만드는 **CART** 알고리즘을 사용하기 때문에, 리프 노드를 제외한 모든 노드는 자식노드를 2개씩 가진다(조건에 대해, 'yes' or 'no'). 하지만, **ID3** 알고리즘을 이용해 2개 이상의 자식 노드를 가지는 결정트리를 만들 수 있다.  "
      ]
    },
    {
      "cell_type": "code",
      "metadata": {
        "id": "aNkWwplnLZDJ",
        "outputId": "610ca4f9-ba6f-4001-bd40-8cd312573065"
      },
      "source": [
        "from sklearn.datasets import load_iris\n",
        "from sklearn.tree import DecisionTreeClassifier\n",
        "\n",
        "iris = load_iris()\n",
        "X = iris.data[:, 2:] # petal length and width\n",
        "y = iris.target\n",
        "\n",
        "tree_clf = DecisionTreeClassifier(max_depth=2, random_state=42)\n",
        "tree_clf.fit(X, y)"
      ],
      "execution_count": null,
      "outputs": [
        {
          "output_type": "execute_result",
          "data": {
            "text/plain": [
              "DecisionTreeClassifier(class_weight=None, criterion='gini', max_depth=2,\n",
              "            max_features=None, max_leaf_nodes=None,\n",
              "            min_impurity_decrease=0.0, min_impurity_split=None,\n",
              "            min_samples_leaf=1, min_samples_split=2,\n",
              "            min_weight_fraction_leaf=0.0, presort=False, random_state=42,\n",
              "            splitter='best')"
            ]
          },
          "metadata": {
            "tags": []
          },
          "execution_count": 2
        }
      ]
    },
    {
      "cell_type": "code",
      "metadata": {
        "id": "w5rTcCg4LZDK"
      },
      "source": [
        "from sklearn.tree import export_graphviz\n",
        "\n",
        "export_graphviz(tree_clf, \n",
        "                out_file='./images/iris_tree.dot', \n",
        "                feature_names=[\"꽃잎 길이 (cm)\", \"꽃잎 너비 (cm)\"], \n",
        "                class_names=iris.target_names, \n",
        "                rounded=True, \n",
        "                filled=True)"
      ],
      "execution_count": null,
      "outputs": []
    },
    {
      "cell_type": "code",
      "metadata": {
        "id": "hMYa4T3ELZDL"
      },
      "source": [
        "# !conda install python-graphviz  # Windows"
      ],
      "execution_count": null,
      "outputs": []
    },
    {
      "cell_type": "code",
      "metadata": {
        "id": "qmMamMJ2LZDL",
        "outputId": "8c37bade-57cf-4582-f7c9-4fc93a305a2e"
      },
      "source": [
        "import graphviz\n",
        "\n",
        "with open(\"./images/iris_tree.dot\", encoding='UTF8') as f:\n",
        "    dot_graph = f.read()\n",
        "dot = graphviz.Source(dot_graph)\n",
        "dot.format = 'png'\n",
        "dot.render(filename='iris_tree', directory='./images', cleanup=True)\n",
        "dot"
      ],
      "execution_count": null,
      "outputs": [
        {
          "output_type": "execute_result",
          "data": {
            "image/svg+xml": "<?xml version=\"1.0\" encoding=\"UTF-8\" standalone=\"no\"?>\r\n<!DOCTYPE svg PUBLIC \"-//W3C//DTD SVG 1.1//EN\"\r\n \"http://www.w3.org/Graphics/SVG/1.1/DTD/svg11.dtd\">\r\n<!-- Generated by graphviz version 2.38.0 (20140413.2041)\r\n -->\r\n<!-- Title: Tree Pages: 1 -->\r\n<svg width=\"357pt\" height=\"314pt\"\r\n viewBox=\"0.00 0.00 357.00 314.00\" xmlns=\"http://www.w3.org/2000/svg\" xmlns:xlink=\"http://www.w3.org/1999/xlink\">\r\n<g id=\"graph0\" class=\"graph\" transform=\"scale(1 1) rotate(0) translate(4 310)\">\r\n<title>Tree</title>\r\n<polygon fill=\"white\" stroke=\"none\" points=\"-4,4 -4,-310 353,-310 353,4 -4,4\"/>\r\n<!-- 0 -->\r\n<g id=\"node1\" class=\"node\"><title>0</title>\r\n<path fill=\"none\" stroke=\"black\" d=\"M204.5,-306C204.5,-306 72.5,-306 72.5,-306 66.5,-306 60.5,-300 60.5,-294 60.5,-294 60.5,-235 60.5,-235 60.5,-229 66.5,-223 72.5,-223 72.5,-223 204.5,-223 204.5,-223 210.5,-223 216.5,-229 216.5,-235 216.5,-235 216.5,-294 216.5,-294 216.5,-300 210.5,-306 204.5,-306\"/>\r\n<text text-anchor=\"middle\" x=\"138.5\" y=\"-290.8\" font-family=\"Helvetica,sans-Serif\" font-size=\"14.00\">꽃잎 길이 (cm) &lt;= 2.45</text>\r\n<text text-anchor=\"middle\" x=\"138.5\" y=\"-275.8\" font-family=\"Helvetica,sans-Serif\" font-size=\"14.00\">gini = 0.667</text>\r\n<text text-anchor=\"middle\" x=\"138.5\" y=\"-260.8\" font-family=\"Helvetica,sans-Serif\" font-size=\"14.00\">samples = 150</text>\r\n<text text-anchor=\"middle\" x=\"138.5\" y=\"-245.8\" font-family=\"Helvetica,sans-Serif\" font-size=\"14.00\">value = [50, 50, 50]</text>\r\n<text text-anchor=\"middle\" x=\"138.5\" y=\"-230.8\" font-family=\"Helvetica,sans-Serif\" font-size=\"14.00\">class = setosa</text>\r\n</g>\r\n<!-- 1 -->\r\n<g id=\"node2\" class=\"node\"><title>1</title>\r\n<path fill=\"#e58139\" stroke=\"black\" d=\"M109,-179.5C109,-179.5 12,-179.5 12,-179.5 6,-179.5 0,-173.5 0,-167.5 0,-167.5 0,-123.5 0,-123.5 0,-117.5 6,-111.5 12,-111.5 12,-111.5 109,-111.5 109,-111.5 115,-111.5 121,-117.5 121,-123.5 121,-123.5 121,-167.5 121,-167.5 121,-173.5 115,-179.5 109,-179.5\"/>\r\n<text text-anchor=\"middle\" x=\"60.5\" y=\"-164.3\" font-family=\"Helvetica,sans-Serif\" font-size=\"14.00\">gini = 0.0</text>\r\n<text text-anchor=\"middle\" x=\"60.5\" y=\"-149.3\" font-family=\"Helvetica,sans-Serif\" font-size=\"14.00\">samples = 50</text>\r\n<text text-anchor=\"middle\" x=\"60.5\" y=\"-134.3\" font-family=\"Helvetica,sans-Serif\" font-size=\"14.00\">value = [50, 0, 0]</text>\r\n<text text-anchor=\"middle\" x=\"60.5\" y=\"-119.3\" font-family=\"Helvetica,sans-Serif\" font-size=\"14.00\">class = setosa</text>\r\n</g>\r\n<!-- 0&#45;&gt;1 -->\r\n<g id=\"edge1\" class=\"edge\"><title>0&#45;&gt;1</title>\r\n<path fill=\"none\" stroke=\"black\" d=\"M111.438,-222.907C103.935,-211.652 95.7789,-199.418 88.2375,-188.106\"/>\r\n<polygon fill=\"black\" stroke=\"black\" points=\"91.0705,-186.046 82.6113,-179.667 85.2462,-189.929 91.0705,-186.046\"/>\r\n<text text-anchor=\"middle\" x=\"77.7084\" y=\"-200.481\" font-family=\"Helvetica,sans-Serif\" font-size=\"14.00\">True</text>\r\n</g>\r\n<!-- 2 -->\r\n<g id=\"node3\" class=\"node\"><title>2</title>\r\n<path fill=\"none\" stroke=\"black\" d=\"M283.5,-187C283.5,-187 151.5,-187 151.5,-187 145.5,-187 139.5,-181 139.5,-175 139.5,-175 139.5,-116 139.5,-116 139.5,-110 145.5,-104 151.5,-104 151.5,-104 283.5,-104 283.5,-104 289.5,-104 295.5,-110 295.5,-116 295.5,-116 295.5,-175 295.5,-175 295.5,-181 289.5,-187 283.5,-187\"/>\r\n<text text-anchor=\"middle\" x=\"217.5\" y=\"-171.8\" font-family=\"Helvetica,sans-Serif\" font-size=\"14.00\">꽃잎 너비 (cm) &lt;= 1.75</text>\r\n<text text-anchor=\"middle\" x=\"217.5\" y=\"-156.8\" font-family=\"Helvetica,sans-Serif\" font-size=\"14.00\">gini = 0.5</text>\r\n<text text-anchor=\"middle\" x=\"217.5\" y=\"-141.8\" font-family=\"Helvetica,sans-Serif\" font-size=\"14.00\">samples = 100</text>\r\n<text text-anchor=\"middle\" x=\"217.5\" y=\"-126.8\" font-family=\"Helvetica,sans-Serif\" font-size=\"14.00\">value = [0, 50, 50]</text>\r\n<text text-anchor=\"middle\" x=\"217.5\" y=\"-111.8\" font-family=\"Helvetica,sans-Serif\" font-size=\"14.00\">class = versicolor</text>\r\n</g>\r\n<!-- 0&#45;&gt;2 -->\r\n<g id=\"edge2\" class=\"edge\"><title>0&#45;&gt;2</title>\r\n<path fill=\"none\" stroke=\"black\" d=\"M165.909,-222.907C171.914,-214.014 178.331,-204.509 184.529,-195.331\"/>\r\n<polygon fill=\"black\" stroke=\"black\" points=\"187.444,-197.267 190.14,-187.021 181.643,-193.35 187.444,-197.267\"/>\r\n<text text-anchor=\"middle\" x=\"194.898\" y=\"-207.864\" font-family=\"Helvetica,sans-Serif\" font-size=\"14.00\">False</text>\r\n</g>\r\n<!-- 3 -->\r\n<g id=\"node4\" class=\"node\"><title>3</title>\r\n<path fill=\"#39e581\" fill-opacity=\"0.898039\" stroke=\"black\" d=\"M198,-68C198,-68 95,-68 95,-68 89,-68 83,-62 83,-56 83,-56 83,-12 83,-12 83,-6 89,-0 95,-0 95,-0 198,-0 198,-0 204,-0 210,-6 210,-12 210,-12 210,-56 210,-56 210,-62 204,-68 198,-68\"/>\r\n<text text-anchor=\"middle\" x=\"146.5\" y=\"-52.8\" font-family=\"Helvetica,sans-Serif\" font-size=\"14.00\">gini = 0.168</text>\r\n<text text-anchor=\"middle\" x=\"146.5\" y=\"-37.8\" font-family=\"Helvetica,sans-Serif\" font-size=\"14.00\">samples = 54</text>\r\n<text text-anchor=\"middle\" x=\"146.5\" y=\"-22.8\" font-family=\"Helvetica,sans-Serif\" font-size=\"14.00\">value = [0, 49, 5]</text>\r\n<text text-anchor=\"middle\" x=\"146.5\" y=\"-7.8\" font-family=\"Helvetica,sans-Serif\" font-size=\"14.00\">class = versicolor</text>\r\n</g>\r\n<!-- 2&#45;&gt;3 -->\r\n<g id=\"edge3\" class=\"edge\"><title>2&#45;&gt;3</title>\r\n<path fill=\"none\" stroke=\"black\" d=\"M191.062,-103.726C185.385,-94.9703 179.376,-85.7032 173.671,-76.9051\"/>\r\n<polygon fill=\"black\" stroke=\"black\" points=\"176.469,-74.786 168.092,-68.2996 170.595,-78.5943 176.469,-74.786\"/>\r\n</g>\r\n<!-- 4 -->\r\n<g id=\"node5\" class=\"node\"><title>4</title>\r\n<path fill=\"#8139e5\" fill-opacity=\"0.976471\" stroke=\"black\" d=\"M337,-68C337,-68 240,-68 240,-68 234,-68 228,-62 228,-56 228,-56 228,-12 228,-12 228,-6 234,-0 240,-0 240,-0 337,-0 337,-0 343,-0 349,-6 349,-12 349,-12 349,-56 349,-56 349,-62 343,-68 337,-68\"/>\r\n<text text-anchor=\"middle\" x=\"288.5\" y=\"-52.8\" font-family=\"Helvetica,sans-Serif\" font-size=\"14.00\">gini = 0.043</text>\r\n<text text-anchor=\"middle\" x=\"288.5\" y=\"-37.8\" font-family=\"Helvetica,sans-Serif\" font-size=\"14.00\">samples = 46</text>\r\n<text text-anchor=\"middle\" x=\"288.5\" y=\"-22.8\" font-family=\"Helvetica,sans-Serif\" font-size=\"14.00\">value = [0, 1, 45]</text>\r\n<text text-anchor=\"middle\" x=\"288.5\" y=\"-7.8\" font-family=\"Helvetica,sans-Serif\" font-size=\"14.00\">class = virginica</text>\r\n</g>\r\n<!-- 2&#45;&gt;4 -->\r\n<g id=\"edge4\" class=\"edge\"><title>2&#45;&gt;4</title>\r\n<path fill=\"none\" stroke=\"black\" d=\"M243.938,-103.726C249.615,-94.9703 255.624,-85.7032 261.329,-76.9051\"/>\r\n<polygon fill=\"black\" stroke=\"black\" points=\"264.405,-78.5943 266.908,-68.2996 258.531,-74.786 264.405,-78.5943\"/>\r\n</g>\r\n</g>\r\n</svg>\r\n",
            "text/plain": [
              "<graphviz.files.Source at 0x21c2d11a518>"
            ]
          },
          "metadata": {
            "tags": []
          },
          "execution_count": 5
        }
      ]
    },
    {
      "cell_type": "markdown",
      "metadata": {
        "id": "AvtvIbbZLZDM"
      },
      "source": [
        "위의 그래프에서 노드의 각 속성에 대한 설명은 다음과 같다.\n",
        "\n",
        "- `sample` : 각 노드로 분류된 데이터의 개수를 말한다.\n",
        "- `value` : 각 노드에서 label(여기서는 `setosa, versicolor, virginica`)에 속하는 데이터의 개수를 말한다.\n",
        "    - 예를 들어, 왼쪽 주황색 노드는 `setosa`가 50개, `versicolor, virginica`는 0개를 의미한다.\n",
        "\n",
        "- `gini` : **불순도**(impurity)를 의미하며, 불순도를 측정하는 지표인 **지니(gini)** 계수를 이용한다.\n",
        "    - 예를 들어, level 2의 초록색 노드의 gini 계수는 $1-(\\frac{0}{54})^{2} - (\\frac{49}{54})^{2} - (\\frac{5}{54})^{2} \\approx 0.168$ 이다. "
      ]
    },
    {
      "cell_type": "markdown",
      "metadata": {
        "id": "FjjhtA7PLZDM"
      },
      "source": [
        "- Gini 계수의 수식은 다음과 같다.\n",
        "\n",
        "$$\n",
        "G_i = 1 - \\sum_{k=1}^{n}{p_{i,k}^{2}}\n",
        "$$\n",
        "\n",
        "- $p_{i, k}$ 는 $i$번째 노드에 있는 데이터 중 클래스 $k$에 속한 샘플의 비율이다."
      ]
    },
    {
      "cell_type": "markdown",
      "metadata": {
        "id": "ULQSPFU-LZDM"
      },
      "source": [
        " "
      ]
    },
    {
      "cell_type": "markdown",
      "metadata": {
        "id": "uSo6hqSQLZDM"
      },
      "source": [
        " "
      ]
    },
    {
      "cell_type": "markdown",
      "metadata": {
        "id": "ZrkugJYzLZDN"
      },
      "source": [
        "## 6.2 예측하기\n",
        "\n",
        "Decision Tree를 이용한 분류기가 어떻게 붓꽃의 종류를 예측하는지에 대해 위의 그래프(graphviz)를 통해 알아보자. \n",
        "\n",
        "1. 맨위의 노드인 **루트 노드**(root node)에서 꽃잎의 길이(petal length)가 `2.45cm`보다 짧은지 비교한다.\n",
        "2. `2.45cm`보다 짧다면 왼쪽 노드(주황색)인 **자식 노드**(child node)로 이동한다.\n",
        "    - 이 경우에는 더 이상의 자식 노드가 없으므로 **리프 노드**(leaf node)가 된다.\n",
        "    - 그리고, 꽃의 종류를 `setosa`라고 예측한다.\n",
        "3. 반대로, `2.45cm` 보다 긴 경우 오른쪽 자식 노드로 가며, 꽃잎 너비가 `1.75cm` 보다 짧은지 비교하게 된다. \n",
        "4. 꽃잎의 너비가 `1.75cm` 보다 짧으면 왼쪽 리프 노드(초록색)로 가게되며, `versicolor`라고 예측하며, `1.75cm` 보다 길면, 오른쪽 리프 노드(보라색)으로 가게되며, `virginica`로 예측한다. "
      ]
    },
    {
      "cell_type": "markdown",
      "metadata": {
        "id": "TEzmvG7uLZDN"
      },
      "source": [
        "> Decision Tree 의 장점은 데이터 전처리가 거의 필요하지 않다는 것이며, 특히 특성(feature)의 스케일을 맞추거나 평균을 원점에 맞추는 작업(`StandardScaler`)이 필요하지 않다."
      ]
    },
    {
      "cell_type": "markdown",
      "metadata": {
        "id": "802GnGV4LZDN"
      },
      "source": [
        " "
      ]
    },
    {
      "cell_type": "markdown",
      "metadata": {
        "id": "TYoGI80qLZDN"
      },
      "source": [
        "아래의 예제는 위의 결정 트리에 대한 결정 경계(decision boundary)를 보여준다. "
      ]
    },
    {
      "cell_type": "code",
      "metadata": {
        "id": "duoiEvkFLZDN",
        "outputId": "78fa6e09-5cef-4ef5-a780-27f2d394ab46"
      },
      "source": [
        "from matplotlib.colors import ListedColormap\n",
        "\n",
        "def plot_decision_boundary(clf, X, y, axes=[0, 7.5, 0, 3], iris=True, legend=False, plot_training=True):\n",
        "    x1s = np.linspace(axes[0], axes[1], 100)\n",
        "    x2s = np.linspace(axes[2], axes[3], 100)\n",
        "    x1, x2 = np.meshgrid(x1s, x2s)\n",
        "    X_new = np.c_[x1.ravel(), x2.ravel()]\n",
        "    y_pred = clf.predict(X_new).reshape(x1.shape)\n",
        "    custom_cmap = ListedColormap(['#fafab0','#9898ff','#a0faa0'])\n",
        "    plt.contourf(x1, x2, y_pred, alpha=0.3, cmap=custom_cmap)\n",
        "    if not iris:\n",
        "        custom_cmap2 = ListedColormap(['#7d7d58','#4c4c7f','#507d50'])\n",
        "        plt.contour(x1, x2, y_pred, cmap=custom_cmap2, alpha=0.8)\n",
        "    if plot_training:\n",
        "        plt.plot(X[:, 0][y==0], X[:, 1][y==0], \"yo\", label=\"Iris-Setosa\")\n",
        "        plt.plot(X[:, 0][y==1], X[:, 1][y==1], \"bs\", label=\"Iris-Versicolor\")\n",
        "        plt.plot(X[:, 0][y==2], X[:, 1][y==2], \"g^\", label=\"Iris-Virginica\")\n",
        "        plt.axis(axes)\n",
        "    if iris:\n",
        "        plt.xlabel(\"꽃잎 길이\", fontsize=14)\n",
        "        plt.ylabel(\"꽃잎 너비\", fontsize=14)\n",
        "    else:\n",
        "        plt.xlabel(r\"$x_1$\", fontsize=18)\n",
        "        plt.ylabel(r\"$x_2$\", fontsize=18, rotation=0)\n",
        "    if legend:\n",
        "        plt.legend(loc=\"lower right\", fontsize=14)\n",
        "\n",
        "plt.figure(figsize=(8, 4))\n",
        "plot_decision_boundary(tree_clf, X, y)\n",
        "plt.plot([2.45, 2.45], [0, 3], \"k-\", linewidth=2)\n",
        "plt.plot([2.45, 7.5], [1.75, 1.75], \"k--\", linewidth=2)\n",
        "plt.plot([4.95, 4.95], [0, 1.75], \"k:\", linewidth=2)\n",
        "plt.plot([4.85, 4.85], [1.75, 3], \"k:\", linewidth=2)\n",
        "plt.text(1.40, 1.0, \"깊이=0\", fontsize=15)\n",
        "plt.text(3.2, 1.80, \"깊이=1\", fontsize=13)\n",
        "plt.text(4.05, 0.5, \"(깊이=2)\", fontsize=11)\n",
        "\n",
        "plt.show()"
      ],
      "execution_count": null,
      "outputs": [
        {
          "output_type": "display_data",
          "data": {
            "image/png": "[encoded data removed]",
            "text/plain": [
              "<Figure size 576x288 with 1 Axes>"
            ]
          },
          "metadata": {
            "tags": []
          }
        }
      ]
    },
    {
      "cell_type": "markdown",
      "metadata": {
        "id": "_WsdKkc-LZDO"
      },
      "source": [
        " "
      ]
    },
    {
      "cell_type": "markdown",
      "metadata": {
        "id": "eiE1cJT3LZDO"
      },
      "source": [
        "#### 화이트박스 vs 블랙박스\n",
        "\n",
        "위에서 확인할 수 있듯이, 결정 트리 모델은 매우 직관적이며, 모델의 예측 즉, 결정 방식을 이해하기 쉽다. 이러한 모델을 **화이트박스**(white box) 모델이라고 한다. 반대로, 추후에 다룰 랜덤포레스트나 신경망은 이러한 결정 방식을 이해하기에는 어렵기 때문에 **블랙박스**(black box)모델이라 한다."
      ]
    },
    {
      "cell_type": "markdown",
      "metadata": {
        "id": "MN702vawLZDO"
      },
      "source": [
        " "
      ]
    },
    {
      "cell_type": "markdown",
      "metadata": {
        "id": "MX95b1d9LZDP"
      },
      "source": [
        "## 6.3 클래스 확률 추정\n",
        "\n",
        "결정 트리는 어떤 하나의 데이터(샘플)이 특정 클래스 $k$에 분류될 확률을 추정(계산)할 수 있다. 확률을 추정하는 방법은 각 리프 노드의 클래스 $k$의 비율을 계산하여 구할 수 있다.\n",
        "\n",
        "예를 들어, 꽃잎의 길이가 5cm이고, 너비가 1.5cm인 경우에는 위의 그래프에서 초록색 노드로 분류될 것이다. 이러한 확률을 계산하면, $\\text{setosa} = \\frac{0}{54} = 0$, $\\text{versicolor} = \\frac{49}{54} = 0.907$, $\\text{virginica} = \\frac{5}{53} = 0.093$ 이다.\n",
        "\n",
        "따라서, 결정 트리는 꽃잎의 길이가 5cm이고, 너비가 1.5cm인 꽃은 `Versicolor`로 예측할 것이다."
      ]
    },
    {
      "cell_type": "code",
      "metadata": {
        "id": "UeijVWy_LZDP",
        "outputId": "8670d88a-9133-4d73-df8f-2886b1d327c6"
      },
      "source": [
        "tree_clf.predict_proba([[5, 1.5]])"
      ],
      "execution_count": null,
      "outputs": [
        {
          "output_type": "execute_result",
          "data": {
            "text/plain": [
              "array([[0.        , 0.90740741, 0.09259259]])"
            ]
          },
          "metadata": {
            "tags": []
          },
          "execution_count": 7
        }
      ]
    },
    {
      "cell_type": "code",
      "metadata": {
        "id": "gYOP14w-LZDP",
        "outputId": "85b4fb6c-3a31-4e2b-d817-c4bdf28c8148"
      },
      "source": [
        "tree_clf.predict([[5, 1.5]])"
      ],
      "execution_count": null,
      "outputs": [
        {
          "output_type": "execute_result",
          "data": {
            "text/plain": [
              "array([1])"
            ]
          },
          "metadata": {
            "tags": []
          },
          "execution_count": 8
        }
      ]
    },
    {
      "cell_type": "markdown",
      "metadata": {
        "id": "3Ds_e6wdLZDP"
      },
      "source": [
        " "
      ]
    },
    {
      "cell_type": "markdown",
      "metadata": {
        "id": "mR4GlUOBLZDQ"
      },
      "source": [
        "## 6.4 CART 알고리즘\n",
        "\n",
        "Scikit-Learn은 결정 트리 알고리즘 중 **CART**(Classification And Regression Tree)알고리즘을 사용한다. \n",
        "\n",
        "CART 알고리즘은 먼저 학습 데이터셋(train set)을 하나의 특성(feature) $k$의 임계값 $t_k$를 사용해 두 개의 서브셋(child node)로 나눈다. \n",
        "\n",
        "예를 들어, 위의 그래프에서 루트 노드(root node)는 꽃잎의 길이(petal length)라는 특성을 임계값 2.45로 (**꽃잎의 길이 $\\le$ 2.45cm**)로 `True/False`로 나눴다. \n",
        "\n",
        "CART 알고리즘의 비용 함수(cost function)는 다음과 같다.\n",
        "\n",
        "$$\n",
        "J\\left(k, t_k \\right) = \\frac{m_{\\text{left}}}{m} G_{\\text{left}} + \\frac{m_{\\text{right}}}{m} G_{\\text{right}}\n",
        "$$\n",
        "\n",
        "- $G_{\\text{left/right}}$ : 왼쪽/오른쪽 자식노드의 불순도(지니계수)\n",
        "- $m_{\\text{left/right}}$ : 왼쪽/오른쪽 자식노드의 데이터(샘플) 수"
      ]
    },
    {
      "cell_type": "markdown",
      "metadata": {
        "id": "FclOsCXRLZDQ"
      },
      "source": [
        "이와 같은 방법으로 자식 노드(subset)로 나누는 과정을 결정 트리의 최대 깊이(sklearn에서는 `max_depth` 인자) 또는 불순도를 줄일 수 있는 분할을 찾을 수 없을 때까지 반복한다.\n",
        "\n",
        "이렇듯 CART 알고리즘은 각 단계 즉, 각 노드에서 그 다음 자식 노드로 분할할때 가장 좋은 최적의 분할만 찾아갈 뿐, 현재 단계의 분할이 몇 단계를 거쳐 가장 낮은 불순도가 될지는 고려하지 않는다. 이러한 알고리즘을 **탐욕적 알고리즘**(greedy algorithm)이라고 한다."
      ]
    },
    {
      "cell_type": "markdown",
      "metadata": {
        "id": "IAhW_LnzLZDQ"
      },
      "source": [
        "따라서, 최적의 결정 트리를 찾는 것은 **NP-완전**(NP-Complete)문제이며, $O(\\exp{(m)})$시간이 필요하다. 따라서, 교재의 표현처럼 *납득할만한 좋은 솔루션* 으로만 만족해야 한다."
      ]
    },
    {
      "cell_type": "markdown",
      "metadata": {
        "id": "0ns_9vhnLZDQ"
      },
      "source": [
        " "
      ]
    },
    {
      "cell_type": "markdown",
      "metadata": {
        "id": "hhpGT949LZDQ"
      },
      "source": [
        "## 6.5 계산 복잡도\n",
        "\n",
        "결정 트리에서 예측을 하기 위해서는 루트 노드에서 부터 리프 노드까지 탐색해야 한다. 일반적인 결정 트리는 대부분 좌/우 균형을 이루기 때문에 약 $O(\\log_{2}{(m)})$ 개의 노드를 탐색해야 한다.\n",
        "\n",
        "각 노드는 하나의 특성값만 확인하기 때문에 예측에 필요한 전체 시간 복잡도는 특성의 개수와 무관하게 $O(\\log_{2}{(m)})$이다. 따라서, 예측 속도는 매우 빠르다.\n",
        "\n",
        "반면, 학습 단계에서는 각 노드마다 모든 데이터를 모든 특성($n$)에 비교하므로, 학습 단계에서의 복잡도는 $O(n \\times m \\log{(m)})$이다. 따라서, 학습 단계에서의 속도는 데이터의 크기가 클 수록 느리다."
      ]
    },
    {
      "cell_type": "markdown",
      "metadata": {
        "id": "Pr15E0dXLZDQ"
      },
      "source": [
        " "
      ]
    },
    {
      "cell_type": "markdown",
      "metadata": {
        "id": "IE3Br36xLZDR"
      },
      "source": [
        "## 6.6 지니 불순도 또는 엔트로피?\n",
        "\n",
        "의사결정나무는 '6.4 - CART 알고리즘'에서 알아 보았듯이, 학습 데이터셋(train set)을 하나의 특성(feature)을 가지고 두 개의 서브셋(child node)로 나누는 알고리즘 이다. \n",
        "\n",
        "이렇게 하나의 특성에서 두 개의 서브셋으로 나누는 기준은 **불순도(impurity)**를 **최소**(또는, 순도, homogeneity를 최대)로 하는 것이다. 이렇게 불순도 즉, 불확실성이 감소하는 것을 정보이론에서는 **정보획득**(Information Gain)이라고 한다.\n",
        "\n",
        "Scikit-Learn의 [`DecisionTreeClassifier`](http://scikit-learn.org/stable/modules/generated/sklearn.tree.DecisionTreeClassifier.html#sklearn.tree.DecisionTreeClassifier)에서는 기본값(default)으로 지니 계수(`Gini`)가 사용되지만, `criterion` 인자를 `\"entropy\"`로 설정하면, **엔트로피** 지표를 사용할 수 있다. "
      ]
    },
    {
      "cell_type": "code",
      "metadata": {
        "id": "zLkYWRXkLZDR",
        "outputId": "fd5d1fa6-40db-47e7-8798-8fa8a081f93d"
      },
      "source": [
        "import graphviz\n",
        "\n",
        "with open(\"./images/iris_tree.dot\", encoding='UTF8') as f:\n",
        "    dot_graph = f.read()\n",
        "dot = graphviz.Source(dot_graph)\n",
        "dot.format = 'png'\n",
        "dot.render(filename='iris_tree', directory='./images', cleanup=True)\n",
        "dot"
      ],
      "execution_count": null,
      "outputs": [
        {
          "output_type": "execute_result",
          "data": {
            "image/svg+xml": "<?xml version=\"1.0\" encoding=\"UTF-8\" standalone=\"no\"?>\r\n<!DOCTYPE svg PUBLIC \"-//W3C//DTD SVG 1.1//EN\"\r\n \"http://www.w3.org/Graphics/SVG/1.1/DTD/svg11.dtd\">\r\n<!-- Generated by graphviz version 2.38.0 (20140413.2041)\r\n -->\r\n<!-- Title: Tree Pages: 1 -->\r\n<svg width=\"357pt\" height=\"314pt\"\r\n viewBox=\"0.00 0.00 357.00 314.00\" xmlns=\"http://www.w3.org/2000/svg\" xmlns:xlink=\"http://www.w3.org/1999/xlink\">\r\n<g id=\"graph0\" class=\"graph\" transform=\"scale(1 1) rotate(0) translate(4 310)\">\r\n<title>Tree</title>\r\n<polygon fill=\"white\" stroke=\"none\" points=\"-4,4 -4,-310 353,-310 353,4 -4,4\"/>\r\n<!-- 0 -->\r\n<g id=\"node1\" class=\"node\"><title>0</title>\r\n<path fill=\"none\" stroke=\"black\" d=\"M204.5,-306C204.5,-306 72.5,-306 72.5,-306 66.5,-306 60.5,-300 60.5,-294 60.5,-294 60.5,-235 60.5,-235 60.5,-229 66.5,-223 72.5,-223 72.5,-223 204.5,-223 204.5,-223 210.5,-223 216.5,-229 216.5,-235 216.5,-235 216.5,-294 216.5,-294 216.5,-300 210.5,-306 204.5,-306\"/>\r\n<text text-anchor=\"middle\" x=\"138.5\" y=\"-290.8\" font-family=\"Helvetica,sans-Serif\" font-size=\"14.00\">꽃잎 길이 (cm) &lt;= 2.45</text>\r\n<text text-anchor=\"middle\" x=\"138.5\" y=\"-275.8\" font-family=\"Helvetica,sans-Serif\" font-size=\"14.00\">gini = 0.667</text>\r\n<text text-anchor=\"middle\" x=\"138.5\" y=\"-260.8\" font-family=\"Helvetica,sans-Serif\" font-size=\"14.00\">samples = 150</text>\r\n<text text-anchor=\"middle\" x=\"138.5\" y=\"-245.8\" font-family=\"Helvetica,sans-Serif\" font-size=\"14.00\">value = [50, 50, 50]</text>\r\n<text text-anchor=\"middle\" x=\"138.5\" y=\"-230.8\" font-family=\"Helvetica,sans-Serif\" font-size=\"14.00\">class = setosa</text>\r\n</g>\r\n<!-- 1 -->\r\n<g id=\"node2\" class=\"node\"><title>1</title>\r\n<path fill=\"#e58139\" stroke=\"black\" d=\"M109,-179.5C109,-179.5 12,-179.5 12,-179.5 6,-179.5 0,-173.5 0,-167.5 0,-167.5 0,-123.5 0,-123.5 0,-117.5 6,-111.5 12,-111.5 12,-111.5 109,-111.5 109,-111.5 115,-111.5 121,-117.5 121,-123.5 121,-123.5 121,-167.5 121,-167.5 121,-173.5 115,-179.5 109,-179.5\"/>\r\n<text text-anchor=\"middle\" x=\"60.5\" y=\"-164.3\" font-family=\"Helvetica,sans-Serif\" font-size=\"14.00\">gini = 0.0</text>\r\n<text text-anchor=\"middle\" x=\"60.5\" y=\"-149.3\" font-family=\"Helvetica,sans-Serif\" font-size=\"14.00\">samples = 50</text>\r\n<text text-anchor=\"middle\" x=\"60.5\" y=\"-134.3\" font-family=\"Helvetica,sans-Serif\" font-size=\"14.00\">value = [50, 0, 0]</text>\r\n<text text-anchor=\"middle\" x=\"60.5\" y=\"-119.3\" font-family=\"Helvetica,sans-Serif\" font-size=\"14.00\">class = setosa</text>\r\n</g>\r\n<!-- 0&#45;&gt;1 -->\r\n<g id=\"edge1\" class=\"edge\"><title>0&#45;&gt;1</title>\r\n<path fill=\"none\" stroke=\"black\" d=\"M111.438,-222.907C103.935,-211.652 95.7789,-199.418 88.2375,-188.106\"/>\r\n<polygon fill=\"black\" stroke=\"black\" points=\"91.0705,-186.046 82.6113,-179.667 85.2462,-189.929 91.0705,-186.046\"/>\r\n<text text-anchor=\"middle\" x=\"77.7084\" y=\"-200.481\" font-family=\"Helvetica,sans-Serif\" font-size=\"14.00\">True</text>\r\n</g>\r\n<!-- 2 -->\r\n<g id=\"node3\" class=\"node\"><title>2</title>\r\n<path fill=\"none\" stroke=\"black\" d=\"M283.5,-187C283.5,-187 151.5,-187 151.5,-187 145.5,-187 139.5,-181 139.5,-175 139.5,-175 139.5,-116 139.5,-116 139.5,-110 145.5,-104 151.5,-104 151.5,-104 283.5,-104 283.5,-104 289.5,-104 295.5,-110 295.5,-116 295.5,-116 295.5,-175 295.5,-175 295.5,-181 289.5,-187 283.5,-187\"/>\r\n<text text-anchor=\"middle\" x=\"217.5\" y=\"-171.8\" font-family=\"Helvetica,sans-Serif\" font-size=\"14.00\">꽃잎 너비 (cm) &lt;= 1.75</text>\r\n<text text-anchor=\"middle\" x=\"217.5\" y=\"-156.8\" font-family=\"Helvetica,sans-Serif\" font-size=\"14.00\">gini = 0.5</text>\r\n<text text-anchor=\"middle\" x=\"217.5\" y=\"-141.8\" font-family=\"Helvetica,sans-Serif\" font-size=\"14.00\">samples = 100</text>\r\n<text text-anchor=\"middle\" x=\"217.5\" y=\"-126.8\" font-family=\"Helvetica,sans-Serif\" font-size=\"14.00\">value = [0, 50, 50]</text>\r\n<text text-anchor=\"middle\" x=\"217.5\" y=\"-111.8\" font-family=\"Helvetica,sans-Serif\" font-size=\"14.00\">class = versicolor</text>\r\n</g>\r\n<!-- 0&#45;&gt;2 -->\r\n<g id=\"edge2\" class=\"edge\"><title>0&#45;&gt;2</title>\r\n<path fill=\"none\" stroke=\"black\" d=\"M165.909,-222.907C171.914,-214.014 178.331,-204.509 184.529,-195.331\"/>\r\n<polygon fill=\"black\" stroke=\"black\" points=\"187.444,-197.267 190.14,-187.021 181.643,-193.35 187.444,-197.267\"/>\r\n<text text-anchor=\"middle\" x=\"194.898\" y=\"-207.864\" font-family=\"Helvetica,sans-Serif\" font-size=\"14.00\">False</text>\r\n</g>\r\n<!-- 3 -->\r\n<g id=\"node4\" class=\"node\"><title>3</title>\r\n<path fill=\"#39e581\" fill-opacity=\"0.898039\" stroke=\"black\" d=\"M198,-68C198,-68 95,-68 95,-68 89,-68 83,-62 83,-56 83,-56 83,-12 83,-12 83,-6 89,-0 95,-0 95,-0 198,-0 198,-0 204,-0 210,-6 210,-12 210,-12 210,-56 210,-56 210,-62 204,-68 198,-68\"/>\r\n<text text-anchor=\"middle\" x=\"146.5\" y=\"-52.8\" font-family=\"Helvetica,sans-Serif\" font-size=\"14.00\">gini = 0.168</text>\r\n<text text-anchor=\"middle\" x=\"146.5\" y=\"-37.8\" font-family=\"Helvetica,sans-Serif\" font-size=\"14.00\">samples = 54</text>\r\n<text text-anchor=\"middle\" x=\"146.5\" y=\"-22.8\" font-family=\"Helvetica,sans-Serif\" font-size=\"14.00\">value = [0, 49, 5]</text>\r\n<text text-anchor=\"middle\" x=\"146.5\" y=\"-7.8\" font-family=\"Helvetica,sans-Serif\" font-size=\"14.00\">class = versicolor</text>\r\n</g>\r\n<!-- 2&#45;&gt;3 -->\r\n<g id=\"edge3\" class=\"edge\"><title>2&#45;&gt;3</title>\r\n<path fill=\"none\" stroke=\"black\" d=\"M191.062,-103.726C185.385,-94.9703 179.376,-85.7032 173.671,-76.9051\"/>\r\n<polygon fill=\"black\" stroke=\"black\" points=\"176.469,-74.786 168.092,-68.2996 170.595,-78.5943 176.469,-74.786\"/>\r\n</g>\r\n<!-- 4 -->\r\n<g id=\"node5\" class=\"node\"><title>4</title>\r\n<path fill=\"#8139e5\" fill-opacity=\"0.976471\" stroke=\"black\" d=\"M337,-68C337,-68 240,-68 240,-68 234,-68 228,-62 228,-56 228,-56 228,-12 228,-12 228,-6 234,-0 240,-0 240,-0 337,-0 337,-0 343,-0 349,-6 349,-12 349,-12 349,-56 349,-56 349,-62 343,-68 337,-68\"/>\r\n<text text-anchor=\"middle\" x=\"288.5\" y=\"-52.8\" font-family=\"Helvetica,sans-Serif\" font-size=\"14.00\">gini = 0.043</text>\r\n<text text-anchor=\"middle\" x=\"288.5\" y=\"-37.8\" font-family=\"Helvetica,sans-Serif\" font-size=\"14.00\">samples = 46</text>\r\n<text text-anchor=\"middle\" x=\"288.5\" y=\"-22.8\" font-family=\"Helvetica,sans-Serif\" font-size=\"14.00\">value = [0, 1, 45]</text>\r\n<text text-anchor=\"middle\" x=\"288.5\" y=\"-7.8\" font-family=\"Helvetica,sans-Serif\" font-size=\"14.00\">class = virginica</text>\r\n</g>\r\n<!-- 2&#45;&gt;4 -->\r\n<g id=\"edge4\" class=\"edge\"><title>2&#45;&gt;4</title>\r\n<path fill=\"none\" stroke=\"black\" d=\"M243.938,-103.726C249.615,-94.9703 255.624,-85.7032 261.329,-76.9051\"/>\r\n<polygon fill=\"black\" stroke=\"black\" points=\"264.405,-78.5943 266.908,-68.2996 258.531,-74.786 264.405,-78.5943\"/>\r\n</g>\r\n</g>\r\n</svg>\r\n",
            "text/plain": [
              "<graphviz.files.Source at 0x21c2d11a5f8>"
            ]
          },
          "metadata": {
            "tags": []
          },
          "execution_count": 9
        }
      ]
    },
    {
      "cell_type": "markdown",
      "metadata": {
        "id": "EgvJ7iU_LZDR"
      },
      "source": [
        "지니계수와 엔트로피 계수는 다음과 같다."
      ]
    },
    {
      "cell_type": "markdown",
      "metadata": {
        "id": "PhoKt8u-LZDR"
      },
      "source": [
        "#### 지니 계수\n",
        "\n",
        "$$\n",
        "G_i = 1 - \\sum_{k=1}^{n}{p_{i,k}^{2}}\n",
        "$$\n",
        "\n",
        "- $p_{i, k}$ 는 $i$번째 노드에 있는 데이터 중 클래스 $k$에 속한 샘플의 비율이다.\n",
        "- 예를 들어, level 2의 초록색 노드의 gini 계수는 $1 - (\\frac{49}{54})^{2} - (\\frac{5}{54})^{2} \\approx 0.168$ 이다. "
      ]
    },
    {
      "cell_type": "markdown",
      "metadata": {
        "id": "cdu2zVilLZDR"
      },
      "source": [
        " "
      ]
    },
    {
      "cell_type": "markdown",
      "metadata": {
        "id": "3RQ1ToKXLZDR"
      },
      "source": [
        "#### 엔트로피 계수\n",
        "\n",
        "$$\n",
        "H_i = - \\sum_{\\underset{p_{i,k} \\neq 0}{k=1}}^{n}{p_{i,k} \\log_{2}{\\left( p_{i, k} \\right)}}\n",
        "$$\n",
        "\n",
        "- 예를 들어,  level 2의 초록색 노드의 엔트로피 계수는 $-\\frac{49}{54} \\log_{2}{\\left( \\frac{49}{54} \\right)} -\\frac{5}{54} \\log_{2}{\\left( \\frac{5}{54} \\right)} \\approx 0.445$ 이다."
      ]
    },
    {
      "cell_type": "markdown",
      "metadata": {
        "id": "yLMxh_k6LZDS"
      },
      "source": [
        " "
      ]
    },
    {
      "cell_type": "markdown",
      "metadata": {
        "id": "u6yFJPzZLZDS"
      },
      "source": [
        "#### 둘 중 어느 계수를 사용할까?\n",
        "\n",
        "지니(Gini)나 엔트로피(Entropy) 계수 둘 다 비슷한 트리를 만든다. 지니 계수가 계산이 조금 더 빠르기 때문에 Scikit-Learn에서는 지니 계수를 기본값을 사용한다. \n",
        "\n",
        "하지만, 지니 계수는 가장 빈도가 높은 클래스를 한쪽 가지(branch)로 고립시키는 경향이 있다고 한다."
      ]
    },
    {
      "cell_type": "markdown",
      "metadata": {
        "id": "kVMz5J28LZDS"
      },
      "source": [
        " "
      ]
    },
    {
      "cell_type": "markdown",
      "metadata": {
        "id": "NybRymMoLZDS"
      },
      "source": [
        "## 6.7 규제 매개변수\n",
        "\n",
        "의사결정나무는 학습(또는 훈련) 데이터에 대한 제약이 거의 없기 때문에 학습 데이터에 오버피팅(overfitting, 과대적합)되기 쉽다. 의사결정나무는 모델 파라미터가 없는 것이 아니라 학습 전에 파라미터 개수가 결정되지 않기 때문에, 이러한 모델을 **비파라미터 모델**(nonparametric model)이라 부르기도 한다. \n",
        "\n",
        "의사결정나무 모델이 학습 데이터에 과적합 되는 것을 방지하기 위해 몇 가지 규제(regularization)가 있는데, 일반적으로 결정 트리의 **깊이(depth)**를 조절한다. Scikit-Learn에서는 `max_depth` 인자로 트리의 깊이를 설정할 수 있다. \n",
        "\n",
        "[`DecisionTreeClassifier`](http://scikit-learn.org/stable/modules/generated/sklearn.tree.DecisionTreeClassifier.html#sklearn.tree.DecisionTreeClassifier)에서는 트리의 깊이(`max_depth`) 뿐만 아니라 규제를 하기위한 다른 인자들이 있다. 아래의 매개변수에서 `min_`으로 시작하는 매개변수를 증가 시키거나, `max_`로 시작하는 매개변수를 감소시키면 모델에 규제가 **커진다**.\n",
        "\n",
        "- `min_samples_split` : 분할되기 위해 노드가 가져야 하는 최소 샘플(데이터) 수\n",
        "- `min_samples_leaf` : 리프 노드가 가지고 있어야 하는 최소 샘플 수\n",
        "- `min_weight_fraction_leaf` : `min_samples_leaf`와 같지만 가중치가 부여된 전체 샘플 수에서의 비율\n",
        "- `max_leaf_nodes` : 리프 노드의 최대 개수\n",
        "- `max_features` : 각 노드에서 분할에 사용할 특성의 최대 수"
      ]
    },
    {
      "cell_type": "markdown",
      "metadata": {
        "id": "_QxdyvawLZDS"
      },
      "source": [
        "아래의 예제는 sklearn의 `moons` 데이터셋에 위의 매개변수 중 `min_samples_leaf`(리프 노드의 최소 샘플 수) 매개변수를 다르게 하여 결정 트리를 학습시킨 것이다."
      ]
    },
    {
      "cell_type": "code",
      "metadata": {
        "id": "Qz7RgyB1LZDT",
        "outputId": "2861d86f-768d-4484-ed21-fe4889f0546e"
      },
      "source": [
        "from sklearn.datasets import make_moons\n",
        "Xm, ym = make_moons(n_samples=100, noise=0.25, random_state=53)\n",
        "\n",
        "deep_tree_clf1 = DecisionTreeClassifier(random_state=42)\n",
        "deep_tree_clf2 = DecisionTreeClassifier(min_samples_leaf=4, random_state=42)\n",
        "deep_tree_clf1.fit(Xm, ym)\n",
        "deep_tree_clf2.fit(Xm, ym)\n",
        "\n",
        "plt.figure(figsize=(11, 4))\n",
        "plt.subplot(121)\n",
        "plot_decision_boundary(deep_tree_clf1, Xm, ym, axes=[-1.5, 2.5, -1, 1.5], iris=False)\n",
        "plt.title(\"규제 없음\", fontsize=16)\n",
        "plt.subplot(122)\n",
        "plot_decision_boundary(deep_tree_clf2, Xm, ym, axes=[-1.5, 2.5, -1, 1.5], iris=False)\n",
        "plt.title(\"min_samples_leaf = {}\".format(deep_tree_clf2.min_samples_leaf), fontsize=14)\n",
        "\n",
        "plt.show()"
      ],
      "execution_count": null,
      "outputs": [
        {
          "output_type": "display_data",
          "data": {
            "image/png": "[encoded data removed]",
            "text/plain": [
              "<Figure size 792x288 with 2 Axes>"
            ]
          },
          "metadata": {
            "tags": []
          }
        }
      ]
    },
    {
      "cell_type": "markdown",
      "metadata": {
        "id": "Qn9jqELtLZDT"
      },
      "source": [
        " "
      ]
    },
    {
      "cell_type": "markdown",
      "metadata": {
        "id": "WjP5_Yc1LZDU"
      },
      "source": [
        "### 가지치기(pruning)\n",
        "\n",
        "**가지치기**(pruning)는 결정트리를 아무런 규제 없이 학습 시킨 뒤 불필요한 노드를 제거하는 방법을 말하며, 마치 나무에서 불필요한 가지를 자르는 것과 같기 때문에 가지치기라 한다.\n",
        "\n",
        "불순도를 최소화하는 것이 **통계적으로** 효과가 없다면 리프 노드는 필요없는 노드라 할 수 있다. 이렇게 판단하는 기준은 **$\\chi^{2}$ 검정**(chi-squared, 카이 제곱검정)을 사용하며, **$p$-value** 값이 $0.05$보다 높으면 해당 노드는 불필요한 노드로 추정하여 해당 노드의 자식 노드를 가지치기 한다."
      ]
    },
    {
      "cell_type": "markdown",
      "metadata": {
        "id": "e_MEoGDWLZDU"
      },
      "source": [
        " "
      ]
    },
    {
      "cell_type": "markdown",
      "metadata": {
        "id": "5piYi967LZDU"
      },
      "source": [
        "## 6.8 회귀(Regression)\n",
        "\n",
        "의사결정나무는 회귀(regression)문제에도 사용할 수 있다. Scikit-Learn에서는 `DecisionTreeRegressor`를 이용해 회귀 트리를 모델링할 수 있다.\n",
        "\n",
        "아래의 예제는 아래의 식\n",
        "\n",
        "$$\n",
        "y = 4 \\left( x - 0.5 \\right)^{2} + \\text{noise}\n",
        "$$\n",
        "\n",
        "헝태의 임의의 데이터셋을 만들어 `max_depth=2`로 설정하여 회귀트리를 만든 것이다."
      ]
    },
    {
      "cell_type": "code",
      "metadata": {
        "id": "ulJVj6z_LZDU"
      },
      "source": [
        "# 2차식으로 만든 데이터셋 + 잡음\n",
        "np.random.seed(42)\n",
        "m = 200\n",
        "X = np.random.rand(m, 1)\n",
        "y = 4 * (X - 0.5) ** 2\n",
        "y = y + np.random.randn(m, 1) / 10"
      ],
      "execution_count": null,
      "outputs": []
    },
    {
      "cell_type": "code",
      "metadata": {
        "id": "hThWLpFqLZDU",
        "outputId": "10b969f0-e972-42d7-e709-61a41629acf8"
      },
      "source": [
        "from sklearn.tree import DecisionTreeRegressor\n",
        "\n",
        "tree_reg = DecisionTreeRegressor(max_depth=2, random_state=42)\n",
        "tree_reg.fit(X, y)"
      ],
      "execution_count": null,
      "outputs": [
        {
          "output_type": "execute_result",
          "data": {
            "text/plain": [
              "DecisionTreeRegressor(criterion='mse', max_depth=2, max_features=None,\n",
              "           max_leaf_nodes=None, min_impurity_decrease=0.0,\n",
              "           min_impurity_split=None, min_samples_leaf=1,\n",
              "           min_samples_split=2, min_weight_fraction_leaf=0.0,\n",
              "           presort=False, random_state=42, splitter='best')"
            ]
          },
          "metadata": {
            "tags": []
          },
          "execution_count": 12
        }
      ]
    },
    {
      "cell_type": "markdown",
      "metadata": {
        "id": "UKhhq1azLZDV"
      },
      "source": [
        " "
      ]
    },
    {
      "cell_type": "markdown",
      "metadata": {
        "id": "ekU5Ow-pLZDV"
      },
      "source": [
        "다음은 `max_depth=2`와 `max_depth=3`을 비교한 것이다."
      ]
    },
    {
      "cell_type": "code",
      "metadata": {
        "id": "Y8quTkXvLZDV",
        "outputId": "3c108948-25e1-4592-c83f-57733218146b"
      },
      "source": [
        "tree_reg1 = DecisionTreeRegressor(random_state=42, max_depth=2)\n",
        "tree_reg2 = DecisionTreeRegressor(random_state=42, max_depth=3)\n",
        "tree_reg1.fit(X, y)\n",
        "tree_reg2.fit(X, y)\n",
        "\n",
        "def plot_regression_predictions(tree_reg, X, y, axes=[0, 1, -0.2, 1], ylabel=\"$y$\"):\n",
        "    x1 = np.linspace(axes[0], axes[1], 500).reshape(-1, 1)\n",
        "    y_pred = tree_reg.predict(x1)\n",
        "    plt.axis(axes)\n",
        "    plt.xlabel(\"$x_1$\", fontsize=18)\n",
        "    if ylabel:\n",
        "        plt.ylabel(ylabel, fontsize=18, rotation=0)\n",
        "    plt.plot(X, y, \"b.\")\n",
        "    plt.plot(x1, y_pred, \"r.-\", linewidth=2, label=r\"$\\hat{y}$\")\n",
        "\n",
        "plt.figure(figsize=(11, 4))\n",
        "plt.subplot(121)\n",
        "plot_regression_predictions(tree_reg1, X, y)\n",
        "for split, style in ((0.1973, \"k-\"), (0.0917, \"k--\"), (0.7718, \"k--\")):\n",
        "    plt.plot([split, split], [-0.2, 1], style, linewidth=2)\n",
        "plt.text(0.21, 0.65, \"깊이=0\", fontsize=15)\n",
        "plt.text(0.01, 0.2, \"깊이=1\", fontsize=13)\n",
        "plt.text(0.65, 0.8, \"깊이=1\", fontsize=13)\n",
        "plt.legend(loc=\"upper center\", fontsize=18)\n",
        "plt.title(\"max_depth=2\", fontsize=14)\n",
        "\n",
        "plt.subplot(122)\n",
        "plot_regression_predictions(tree_reg2, X, y, ylabel=None)\n",
        "for split, style in ((0.1973, \"k-\"), (0.0917, \"k--\"), (0.7718, \"k--\")):\n",
        "    plt.plot([split, split], [-0.2, 1], style, linewidth=2)\n",
        "for split in (0.0458, 0.1298, 0.2873, 0.9040):\n",
        "    plt.plot([split, split], [-0.2, 1], \"k:\", linewidth=1)\n",
        "plt.text(0.3, 0.5, \"깊이=2\", fontsize=13)\n",
        "plt.title(\"max_depth=3\", fontsize=14)\n",
        "\n",
        "plt.show()"
      ],
      "execution_count": null,
      "outputs": [
        {
          "output_type": "display_data",
          "data": {
            "image/png": "[encoded data removed]",
            "text/plain": [
              "<Figure size 792x288 with 2 Axes>"
            ]
          },
          "metadata": {
            "tags": []
          }
        }
      ]
    },
    {
      "cell_type": "code",
      "metadata": {
        "id": "S-mYUkHTLZDV"
      },
      "source": [
        "export_graphviz(\n",
        "        tree_reg1,\n",
        "        out_file=\"./images/regression_tree.dot\",\n",
        "        feature_names=[\"x1\"],\n",
        "        rounded=True,\n",
        "        filled=True\n",
        "    )"
      ],
      "execution_count": null,
      "outputs": []
    },
    {
      "cell_type": "code",
      "metadata": {
        "id": "OEx0HRF4LZDV",
        "outputId": "d8c23b92-7732-4f32-a6d5-ca79d6e29e66"
      },
      "source": [
        "import graphviz\n",
        "with open(\"./images/regression_tree.dot\") as f:\n",
        "    dot_graph = f.read()\n",
        "dot = graphviz.Source(dot_graph)\n",
        "dot.format = 'png'\n",
        "dot.render(filename='regression_tree', directory='./images/decision_trees', cleanup=True)\n",
        "dot"
      ],
      "execution_count": null,
      "outputs": [
        {
          "output_type": "execute_result",
          "data": {
            "image/svg+xml": "<?xml version=\"1.0\" encoding=\"UTF-8\" standalone=\"no\"?>\r\n<!DOCTYPE svg PUBLIC \"-//W3C//DTD SVG 1.1//EN\"\r\n \"http://www.w3.org/Graphics/SVG/1.1/DTD/svg11.dtd\">\r\n<!-- Generated by graphviz version 2.38.0 (20140413.2041)\r\n -->\r\n<!-- Title: Tree Pages: 1 -->\r\n<svg width=\"482pt\" height=\"269pt\"\r\n viewBox=\"0.00 0.00 482.00 269.00\" xmlns=\"http://www.w3.org/2000/svg\" xmlns:xlink=\"http://www.w3.org/1999/xlink\">\r\n<g id=\"graph0\" class=\"graph\" transform=\"scale(1 1) rotate(0) translate(4 265)\">\r\n<title>Tree</title>\r\n<polygon fill=\"white\" stroke=\"none\" points=\"-4,4 -4,-265 478,-265 478,4 -4,4\"/>\r\n<!-- 0 -->\r\n<g id=\"node1\" class=\"node\"><title>0</title>\r\n<path fill=\"#e58139\" fill-opacity=\"0.325490\" stroke=\"black\" d=\"M278,-261C278,-261 191,-261 191,-261 185,-261 179,-255 179,-249 179,-249 179,-205 179,-205 179,-199 185,-193 191,-193 191,-193 278,-193 278,-193 284,-193 290,-199 290,-205 290,-205 290,-249 290,-249 290,-255 284,-261 278,-261\"/>\r\n<text text-anchor=\"middle\" x=\"234.5\" y=\"-245.8\" font-family=\"Helvetica,sans-Serif\" font-size=\"14.00\">x1 &lt;= 0.197</text>\r\n<text text-anchor=\"middle\" x=\"234.5\" y=\"-230.8\" font-family=\"Helvetica,sans-Serif\" font-size=\"14.00\">mse = 0.098</text>\r\n<text text-anchor=\"middle\" x=\"234.5\" y=\"-215.8\" font-family=\"Helvetica,sans-Serif\" font-size=\"14.00\">samples = 200</text>\r\n<text text-anchor=\"middle\" x=\"234.5\" y=\"-200.8\" font-family=\"Helvetica,sans-Serif\" font-size=\"14.00\">value = 0.354</text>\r\n</g>\r\n<!-- 1 -->\r\n<g id=\"node2\" class=\"node\"><title>1</title>\r\n<path fill=\"#e58139\" fill-opacity=\"0.780392\" stroke=\"black\" d=\"M212,-157C212,-157 133,-157 133,-157 127,-157 121,-151 121,-145 121,-145 121,-101 121,-101 121,-95 127,-89 133,-89 133,-89 212,-89 212,-89 218,-89 224,-95 224,-101 224,-101 224,-145 224,-145 224,-151 218,-157 212,-157\"/>\r\n<text text-anchor=\"middle\" x=\"172.5\" y=\"-141.8\" font-family=\"Helvetica,sans-Serif\" font-size=\"14.00\">x1 &lt;= 0.092</text>\r\n<text text-anchor=\"middle\" x=\"172.5\" y=\"-126.8\" font-family=\"Helvetica,sans-Serif\" font-size=\"14.00\">mse = 0.038</text>\r\n<text text-anchor=\"middle\" x=\"172.5\" y=\"-111.8\" font-family=\"Helvetica,sans-Serif\" font-size=\"14.00\">samples = 44</text>\r\n<text text-anchor=\"middle\" x=\"172.5\" y=\"-96.8\" font-family=\"Helvetica,sans-Serif\" font-size=\"14.00\">value = 0.689</text>\r\n</g>\r\n<!-- 0&#45;&gt;1 -->\r\n<g id=\"edge1\" class=\"edge\"><title>0&#45;&gt;1</title>\r\n<path fill=\"none\" stroke=\"black\" d=\"M214.37,-192.884C209.173,-184.332 203.508,-175.013 198.073,-166.072\"/>\r\n<polygon fill=\"black\" stroke=\"black\" points=\"200.926,-164.027 192.741,-157.299 194.944,-167.663 200.926,-164.027\"/>\r\n<text text-anchor=\"middle\" x=\"186.817\" y=\"-177.887\" font-family=\"Helvetica,sans-Serif\" font-size=\"14.00\">True</text>\r\n</g>\r\n<!-- 4 -->\r\n<g id=\"node5\" class=\"node\"><title>4</title>\r\n<path fill=\"#e58139\" fill-opacity=\"0.200000\" stroke=\"black\" d=\"M341,-157C341,-157 254,-157 254,-157 248,-157 242,-151 242,-145 242,-145 242,-101 242,-101 242,-95 248,-89 254,-89 254,-89 341,-89 341,-89 347,-89 353,-95 353,-101 353,-101 353,-145 353,-145 353,-151 347,-157 341,-157\"/>\r\n<text text-anchor=\"middle\" x=\"297.5\" y=\"-141.8\" font-family=\"Helvetica,sans-Serif\" font-size=\"14.00\">x1 &lt;= 0.772</text>\r\n<text text-anchor=\"middle\" x=\"297.5\" y=\"-126.8\" font-family=\"Helvetica,sans-Serif\" font-size=\"14.00\">mse = 0.074</text>\r\n<text text-anchor=\"middle\" x=\"297.5\" y=\"-111.8\" font-family=\"Helvetica,sans-Serif\" font-size=\"14.00\">samples = 156</text>\r\n<text text-anchor=\"middle\" x=\"297.5\" y=\"-96.8\" font-family=\"Helvetica,sans-Serif\" font-size=\"14.00\">value = 0.259</text>\r\n</g>\r\n<!-- 0&#45;&gt;4 -->\r\n<g id=\"edge4\" class=\"edge\"><title>0&#45;&gt;4</title>\r\n<path fill=\"none\" stroke=\"black\" d=\"M254.954,-192.884C260.236,-184.332 265.992,-175.013 271.514,-166.072\"/>\r\n<polygon fill=\"black\" stroke=\"black\" points=\"274.656,-167.647 276.933,-157.299 268.7,-163.968 274.656,-167.647\"/>\r\n<text text-anchor=\"middle\" x=\"282.683\" y=\"-177.929\" font-family=\"Helvetica,sans-Serif\" font-size=\"14.00\">False</text>\r\n</g>\r\n<!-- 2 -->\r\n<g id=\"node3\" class=\"node\"><title>2</title>\r\n<path fill=\"#e58139\" stroke=\"black\" d=\"M91,-53C91,-53 12,-53 12,-53 6,-53 0,-47 0,-41 0,-41 0,-12 0,-12 0,-6 6,-0 12,-0 12,-0 91,-0 91,-0 97,-0 103,-6 103,-12 103,-12 103,-41 103,-41 103,-47 97,-53 91,-53\"/>\r\n<text text-anchor=\"middle\" x=\"51.5\" y=\"-37.8\" font-family=\"Helvetica,sans-Serif\" font-size=\"14.00\">mse = 0.018</text>\r\n<text text-anchor=\"middle\" x=\"51.5\" y=\"-22.8\" font-family=\"Helvetica,sans-Serif\" font-size=\"14.00\">samples = 20</text>\r\n<text text-anchor=\"middle\" x=\"51.5\" y=\"-7.8\" font-family=\"Helvetica,sans-Serif\" font-size=\"14.00\">value = 0.854</text>\r\n</g>\r\n<!-- 1&#45;&gt;2 -->\r\n<g id=\"edge2\" class=\"edge\"><title>1&#45;&gt;2</title>\r\n<path fill=\"none\" stroke=\"black\" d=\"M130.18,-88.9485C117.998,-79.4346 104.732,-69.074 92.624,-59.6175\"/>\r\n<polygon fill=\"black\" stroke=\"black\" points=\"94.4895,-56.6335 84.4539,-53.2367 90.1808,-62.1504 94.4895,-56.6335\"/>\r\n</g>\r\n<!-- 3 -->\r\n<g id=\"node4\" class=\"node\"><title>3</title>\r\n<path fill=\"#e58139\" fill-opacity=\"0.596078\" stroke=\"black\" d=\"M212,-53C212,-53 133,-53 133,-53 127,-53 121,-47 121,-41 121,-41 121,-12 121,-12 121,-6 127,-0 133,-0 133,-0 212,-0 212,-0 218,-0 224,-6 224,-12 224,-12 224,-41 224,-41 224,-47 218,-53 212,-53\"/>\r\n<text text-anchor=\"middle\" x=\"172.5\" y=\"-37.8\" font-family=\"Helvetica,sans-Serif\" font-size=\"14.00\">mse = 0.013</text>\r\n<text text-anchor=\"middle\" x=\"172.5\" y=\"-22.8\" font-family=\"Helvetica,sans-Serif\" font-size=\"14.00\">samples = 24</text>\r\n<text text-anchor=\"middle\" x=\"172.5\" y=\"-7.8\" font-family=\"Helvetica,sans-Serif\" font-size=\"14.00\">value = 0.552</text>\r\n</g>\r\n<!-- 1&#45;&gt;3 -->\r\n<g id=\"edge3\" class=\"edge\"><title>1&#45;&gt;3</title>\r\n<path fill=\"none\" stroke=\"black\" d=\"M172.5,-88.9485C172.5,-80.7153 172.5,-71.848 172.5,-63.4814\"/>\r\n<polygon fill=\"black\" stroke=\"black\" points=\"176,-63.2367 172.5,-53.2367 169,-63.2367 176,-63.2367\"/>\r\n</g>\r\n<!-- 5 -->\r\n<g id=\"node6\" class=\"node\"><title>5</title>\r\n<path fill=\"none\" stroke=\"black\" d=\"M341,-53C341,-53 254,-53 254,-53 248,-53 242,-47 242,-41 242,-41 242,-12 242,-12 242,-6 248,-0 254,-0 254,-0 341,-0 341,-0 347,-0 353,-6 353,-12 353,-12 353,-41 353,-41 353,-47 347,-53 341,-53\"/>\r\n<text text-anchor=\"middle\" x=\"297.5\" y=\"-37.8\" font-family=\"Helvetica,sans-Serif\" font-size=\"14.00\">mse = 0.015</text>\r\n<text text-anchor=\"middle\" x=\"297.5\" y=\"-22.8\" font-family=\"Helvetica,sans-Serif\" font-size=\"14.00\">samples = 110</text>\r\n<text text-anchor=\"middle\" x=\"297.5\" y=\"-7.8\" font-family=\"Helvetica,sans-Serif\" font-size=\"14.00\">value = 0.111</text>\r\n</g>\r\n<!-- 4&#45;&gt;5 -->\r\n<g id=\"edge5\" class=\"edge\"><title>4&#45;&gt;5</title>\r\n<path fill=\"none\" stroke=\"black\" d=\"M297.5,-88.9485C297.5,-80.7153 297.5,-71.848 297.5,-63.4814\"/>\r\n<polygon fill=\"black\" stroke=\"black\" points=\"301,-63.2367 297.5,-53.2367 294,-63.2367 301,-63.2367\"/>\r\n</g>\r\n<!-- 6 -->\r\n<g id=\"node7\" class=\"node\"><title>6</title>\r\n<path fill=\"#e58139\" fill-opacity=\"0.678431\" stroke=\"black\" d=\"M462,-53C462,-53 383,-53 383,-53 377,-53 371,-47 371,-41 371,-41 371,-12 371,-12 371,-6 377,-0 383,-0 383,-0 462,-0 462,-0 468,-0 474,-6 474,-12 474,-12 474,-41 474,-41 474,-47 468,-53 462,-53\"/>\r\n<text text-anchor=\"middle\" x=\"422.5\" y=\"-37.8\" font-family=\"Helvetica,sans-Serif\" font-size=\"14.00\">mse = 0.036</text>\r\n<text text-anchor=\"middle\" x=\"422.5\" y=\"-22.8\" font-family=\"Helvetica,sans-Serif\" font-size=\"14.00\">samples = 46</text>\r\n<text text-anchor=\"middle\" x=\"422.5\" y=\"-7.8\" font-family=\"Helvetica,sans-Serif\" font-size=\"14.00\">value = 0.615</text>\r\n</g>\r\n<!-- 4&#45;&gt;6 -->\r\n<g id=\"edge6\" class=\"edge\"><title>4&#45;&gt;6</title>\r\n<path fill=\"none\" stroke=\"black\" d=\"M341.219,-88.9485C353.924,-79.3431 367.772,-68.8747 380.377,-59.345\"/>\r\n<polygon fill=\"black\" stroke=\"black\" points=\"382.59,-62.0593 388.457,-53.2367 378.369,-56.4754 382.59,-62.0593\"/>\r\n</g>\r\n</g>\r\n</svg>\r\n",
            "text/plain": [
              "<graphviz.files.Source at 0x21c2d18cef0>"
            ]
          },
          "metadata": {
            "tags": []
          },
          "execution_count": 16
        }
      ]
    },
    {
      "cell_type": "markdown",
      "metadata": {
        "id": "fOGRyxVgLZDW"
      },
      "source": [
        " "
      ]
    },
    {
      "cell_type": "markdown",
      "metadata": {
        "id": "omcG9eiQLZDW"
      },
      "source": [
        "위의 회귀 트리 그래프에서 확인할 수 있듯이, 분류 트리와 비슷한 모양인 것을 알 수 있다. 다만, 회귀 트리는 각 노드에서 클래스를 예측하는 것이 아니라 특정 **값**을 예측한다.\n",
        "\n",
        "예를들어 $x_1=0.6$인 데이터의 값을 예측한다고 했을 때, 위의 그래프를 따라 가다보면, $\\text{value} = 0.111$이 되며, 해당 노드의 110개의 샘플의 평균값이 예측값이 된다. 그리고 이 110개의 샘플에 대한 MSE값이 0.015이다."
      ]
    },
    {
      "cell_type": "markdown",
      "metadata": {
        "id": "l2srilSlLZDW"
      },
      "source": [
        "CART 알고리즘은 학습 데이터셋을 평균제곱오차(MSE)를 최소화하도록 트리를 분할한다.\n",
        "\n",
        "$$\n",
        "J\\left(k, t_k \\right) = \\frac{m_{\\text{left}}}{m} \\text{MSE}_{\\text{left}} + \\frac{m_{\\text{right}}}{m} \\text{MSE}_{\\text{right}}\n",
        "$$\n",
        "\n",
        "$$\n",
        "\\begin{cases} \\text{MSE}_{\\text{node}} = \\sum_{i \\in \\text{node}}{\\left( \\hat{y}_\\text{node} - y_i \\right)^{2}} \\\\ \\hat{y}_\\text{node} = \\frac{1}{m_\\text{node}}\\sum_{i \\in \\text{node}}{y_i} \\end{cases}\n",
        "$$"
      ]
    },
    {
      "cell_type": "markdown",
      "metadata": {
        "id": "YdU4zPOWLZDW"
      },
      "source": [
        " "
      ]
    },
    {
      "cell_type": "markdown",
      "metadata": {
        "id": "7eKJGRbuLZDW"
      },
      "source": [
        "회귀 트리 또한 분류 트리처럼 과적합되기 쉽다. 아래의 예제는 규제가 없는 경우와 `min_sample_leaf=10`을 지정한 경우에 대한 차이를 나타낸 것이다."
      ]
    },
    {
      "cell_type": "code",
      "metadata": {
        "id": "vpit__c9LZDW",
        "outputId": "2f71fef5-c5c9-46e6-f9c1-b58c5cf12a0c"
      },
      "source": [
        "tree_reg1 = DecisionTreeRegressor(random_state=42)\n",
        "tree_reg2 = DecisionTreeRegressor(random_state=42, min_samples_leaf=10)\n",
        "tree_reg1.fit(X, y)\n",
        "tree_reg2.fit(X, y)\n",
        "\n",
        "x1 = np.linspace(0, 1, 500).reshape(-1, 1)\n",
        "y_pred1 = tree_reg1.predict(x1)\n",
        "y_pred2 = tree_reg2.predict(x1)\n",
        "\n",
        "plt.figure(figsize=(11, 4))\n",
        "\n",
        "plt.subplot(121)\n",
        "plt.plot(X, y, \"b.\")\n",
        "plt.plot(x1, y_pred1, \"r.-\", linewidth=2, label=r\"$\\hat{y}$\")\n",
        "plt.axis([0, 1, -0.2, 1.1])\n",
        "plt.xlabel(\"$x_1$\", fontsize=18)\n",
        "plt.ylabel(\"$y$\", fontsize=18, rotation=0)\n",
        "plt.legend(loc=\"upper center\", fontsize=18)\n",
        "plt.title(\"규제 없음\", fontsize=14)\n",
        "\n",
        "plt.subplot(122)\n",
        "plt.plot(X, y, \"b.\")\n",
        "plt.plot(x1, y_pred2, \"r.-\", linewidth=2, label=r\"$\\hat{y}$\")\n",
        "plt.axis([0, 1, -0.2, 1.1])\n",
        "plt.xlabel(\"$x_1$\", fontsize=18)\n",
        "plt.title(\"min_samples_leaf={}\".format(tree_reg2.min_samples_leaf), fontsize=14)\n",
        "\n",
        "plt.show()"
      ],
      "execution_count": null,
      "outputs": [
        {
          "output_type": "display_data",
          "data": {
            "image/png": "[encoded data removed]",
            "text/plain": [
              "<Figure size 792x288 with 2 Axes>"
            ]
          },
          "metadata": {
            "tags": []
          }
        }
      ]
    },
    {
      "cell_type": "markdown",
      "metadata": {
        "id": "shGyv_ZGLZDX"
      },
      "source": [
        " "
      ]
    },
    {
      "cell_type": "markdown",
      "metadata": {
        "id": "vw4enoRRLZDX"
      },
      "source": [
        "## 6.9 불안정성\n",
        "\n",
        "의사결정나무 모델은 이해하고 해석하기 쉽고, 분류 및 회귀에 사용할 수 있을 뿐만아니라 성능도 좋다. 하지만, 위의 예제코드의 그래프에서 보았듯이, 결정 트리는 계단 모양의 결정 경계(decision boundary)를 만든다. 따라서, 학습 데이터셋의 회전(rotation)에 민감하다. 아래의 예제에서 오른쪽 그래프는 데이터셋을 45°도 회전시킨 후 결정 트리 모델링을 한 것이다."
      ]
    },
    {
      "cell_type": "code",
      "metadata": {
        "id": "Y-E7iMFiLZDX",
        "outputId": "32647332-9cb5-4993-9a88-46e873eb9886"
      },
      "source": [
        "np.random.seed(6)\n",
        "Xs = np.random.rand(100, 2) - 0.5\n",
        "ys = (Xs[:, 0] > 0).astype(np.float32) * 2\n",
        "\n",
        "angle = np.pi / 4\n",
        "rotation_matrix = np.array([[np.cos(angle), -np.sin(angle)], [np.sin(angle), np.cos(angle)]])\n",
        "Xsr = Xs.dot(rotation_matrix)\n",
        "\n",
        "tree_clf_s = DecisionTreeClassifier(random_state=42)\n",
        "tree_clf_s.fit(Xs, ys)\n",
        "tree_clf_sr = DecisionTreeClassifier(random_state=42)\n",
        "tree_clf_sr.fit(Xsr, ys)\n",
        "\n",
        "plt.figure(figsize=(11, 4))\n",
        "plt.subplot(121)\n",
        "plot_decision_boundary(tree_clf_s, Xs, ys, axes=[-0.7, 0.7, -0.7, 0.7], iris=False)\n",
        "plt.subplot(122)\n",
        "plot_decision_boundary(tree_clf_sr, Xsr, ys, axes=[-0.7, 0.7, -0.7, 0.7], iris=False)\n",
        "\n",
        "plt.show()"
      ],
      "execution_count": null,
      "outputs": [
        {
          "output_type": "display_data",
          "data": {
            "image/png": "[encoded data removed]",
            "text/plain": [
              "<Figure size 792x288 with 2 Axes>"
            ]
          },
          "metadata": {
            "tags": []
          }
        }
      ]
    },
    {
      "cell_type": "markdown",
      "metadata": {
        "id": "A-6EOAr6LZDX"
      },
      "source": [
        " "
      ]
    },
    {
      "cell_type": "markdown",
      "metadata": {
        "id": "mSdZkrJiLZDX"
      },
      "source": [
        "### 학습 데이터 셋에 민감함\n",
        "\n",
        "결정 트리의 주된 문제는 학습 데이터셋의 변화에 민감하다는 것이다. 아래의 예제는 붓꽃(iris) 데이터 셋에서 `Versicolor` 종류 중에서 `sepal width`가 가장 큰 데이터들을 지우고 결정 트리 모델링을 한 결과이다. 그림에서 볼 수 있듯이, 6.2의 결과와는 다른것을 알 수 있다."
      ]
    },
    {
      "cell_type": "code",
      "metadata": {
        "id": "aUj5tvGMLZDY",
        "outputId": "8ff65e12-3c59-4fb3-a23f-41f969a69c13"
      },
      "source": [
        "iris = load_iris()\n",
        "X = iris.data[:, 2:] # petal length and width\n",
        "y = iris.target\n",
        "\n",
        "tree_clf = DecisionTreeClassifier(max_depth=2, random_state=42)\n",
        "tree_clf.fit(X, y)\n",
        "X[(X[:, 1]==X[:, 1][y==1].max()) & (y==1)] # 가장 너비가 큰 Iris-Versicolor"
      ],
      "execution_count": null,
      "outputs": [
        {
          "output_type": "execute_result",
          "data": {
            "text/plain": [
              "array([[4.8, 1.8]])"
            ]
          },
          "metadata": {
            "tags": []
          },
          "execution_count": 20
        }
      ]
    },
    {
      "cell_type": "code",
      "metadata": {
        "id": "Z7OvGmGWLZDY",
        "outputId": "254e8c96-ee32-4616-9a9a-55ae2dbe3ab5"
      },
      "source": [
        "not_widest_versicolor = (X[:, 1]!=1.8) | (y==2)\n",
        "X_tweaked = X[not_widest_versicolor]\n",
        "y_tweaked = y[not_widest_versicolor]\n",
        "\n",
        "tree_clf_tweaked = DecisionTreeClassifier(max_depth=2, random_state=40)\n",
        "tree_clf_tweaked.fit(X_tweaked, y_tweaked)"
      ],
      "execution_count": null,
      "outputs": [
        {
          "output_type": "execute_result",
          "data": {
            "text/plain": [
              "DecisionTreeClassifier(class_weight=None, criterion='gini', max_depth=2,\n",
              "            max_features=None, max_leaf_nodes=None,\n",
              "            min_impurity_decrease=0.0, min_impurity_split=None,\n",
              "            min_samples_leaf=1, min_samples_split=2,\n",
              "            min_weight_fraction_leaf=0.0, presort=False, random_state=40,\n",
              "            splitter='best')"
            ]
          },
          "metadata": {
            "tags": []
          },
          "execution_count": 21
        }
      ]
    },
    {
      "cell_type": "code",
      "metadata": {
        "id": "r3ccRNc5LZDY",
        "outputId": "bf7a9871-d3bc-47af-fef5-227746e18485"
      },
      "source": [
        "plt.figure(figsize=(8, 4))\n",
        "plot_decision_boundary(tree_clf_tweaked, X_tweaked, y_tweaked, legend=False)\n",
        "plt.plot([0, 7.5], [0.8, 0.8], \"k-\", linewidth=2)\n",
        "plt.plot([0, 7.5], [1.75, 1.75], \"k--\", linewidth=2)\n",
        "plt.text(1.0, 0.9, \"깊이=0\", fontsize=15)\n",
        "plt.text(1.0, 1.80, \"깊이=1\", fontsize=13)\n",
        "\n",
        "plt.show()"
      ],
      "execution_count": null,
      "outputs": [
        {
          "output_type": "display_data",
          "data": {
            "image/png": "[encoded data removed]",
            "text/plain": [
              "<Figure size 576x288 with 1 Axes>"
            ]
          },
          "metadata": {
            "tags": []
          }
        }
      ]
    },
    {
      "cell_type": "code",
      "metadata": {
        "id": "u-Qrm-fJLZDZ"
      },
      "source": [
        ""
      ],
      "execution_count": null,
      "outputs": []
    }
  ]
}