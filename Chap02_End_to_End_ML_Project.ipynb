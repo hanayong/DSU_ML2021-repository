{
  "nbformat": 4,
  "nbformat_minor": 0,
  "metadata": {
    "kernelspec": {
      "display_name": "tensorflow",
      "language": "python",
      "name": "tensorflow"
    },
    "language_info": {
      "codemirror_mode": {
        "name": "ipython",
        "version": 3
      },
      "file_extension": ".py",
      "mimetype": "text/x-python",
      "name": "python",
      "nbconvert_exporter": "python",
      "pygments_lexer": "ipython3",
      "version": "3.6.5"
    },
    "colab": {
      "name": "Chap02-End_to_End_ML_Project.ipynb",
      "provenance": [],
      "include_colab_link": true
    }
  },
  "cells": [
    {
      "cell_type": "markdown",
      "metadata": {
        "id": "view-in-github",
        "colab_type": "text"
      },
      "source": [
        "<a href=\"https://colab.research.google.com/github/hanayong/DSU_ML2021-repository/blob/main/Chap02_End_to_End_ML_Project.ipynb\" target=\"_parent\"><img src=\"https://colab.research.google.com/assets/colab-badge.svg\" alt=\"Open In Colab\"/></a>"
      ]
    },
    {
      "cell_type": "markdown",
      "metadata": {
        "id": "LuXNYYbgLxgL"
      },
      "source": [
        "# Chap02 - 머신러닝 프로젝트 처음부터 끝까지"
      ]
    },
    {
      "cell_type": "markdown",
      "metadata": {
        "id": "tgLmHfWmLxgO"
      },
      "source": [
        "## 2.1 실제 데이터로 작업하기\n",
        "\n",
        "[캘리포니아 주택 가격](http://www.dcc.fc.up.pt/~ltorgo/Regression/cal_housing.html)(California Housing Prices) 데이터셋을 사용한다. 이 데이터셋은 1990년 캘리포니아 인구조사 데이터를 기반으로 만들어진 데이터이다. "
      ]
    },
    {
      "cell_type": "markdown",
      "metadata": {
        "id": "TCKWVjkcLxgP"
      },
      "source": [
        " "
      ]
    },
    {
      "cell_type": "markdown",
      "metadata": {
        "id": "y4a4Usg8LxgP"
      },
      "source": [
        "## 2.2 큰 그림 보기\n",
        "\n",
        "캘리포니아 주택 가격 데이터는 캘리포니아의 블록 그룹(block group)마다 인구(population), 중간 소득(median income), 중간 주택 가격(median housing price)등을 담고 있다. "
      ]
    },
    {
      "cell_type": "markdown",
      "metadata": {
        "id": "N2XpYlrvLxgP"
      },
      "source": [
        "### 2.2.1 문제 정의\n",
        "\n",
        "데이터 분석의 목적을 먼저 정하는 것이 가장 중요하다. 분석 목적에 따라 어떠한 데이터 전처리가 필요하며, 어떠한 머신러닝 모델을 써야할지가 결정되기 때문이다. "
      ]
    },
    {
      "cell_type": "markdown",
      "metadata": {
        "id": "bixUlelOLxgQ"
      },
      "source": [
        "#### 파이프라인\n",
        "\n",
        "데이터 처리 컴포넌트(component)들이 연속되어 있는 것을 데이터 파이프라인(pipeline)이라고 한다. 즉, 각 컴포넌트들은 데이터를 추출해 목적에 맞게 처리하고 처리한 결과를 다른 컴포넌트나 저장소에 보내는 일련의 과정들을 데이터 파이프라인이라고 한다.\n",
        "\n",
        "캘리포니아 주택 가격 데이터셋을 가지고 학습시켜 다른 데이터가 주어졌을 때 구역의 중간 주택 가격을 예측하는 모델을 만들어 보자.\n",
        "\n",
        "이번 예제에서는 **다변량 회귀**(multivariate regression)을 이용해 모델링 한다."
      ]
    },
    {
      "cell_type": "markdown",
      "metadata": {
        "id": "c5fCfxV0LxgQ"
      },
      "source": [
        "### 2.2.2 성능 측정 지표 선택\n",
        "\n",
        "회귀 문제의 대표적인 성능 지표는 **평균 제곱근 오차**(RMSE, Root Mean Square Error)이다.\n",
        "\n",
        "$$\n",
        "\\text{RMSE}(\\mathbf{X}, h) = \\sqrt{\\frac{1}{m} \\sum^{m}_{i=1}{\\left( h \\left(\\mathbf{x}^{(i)} \\right) - y^{(i)} \\right)^{2}}}\n",
        "$$"
      ]
    },
    {
      "cell_type": "markdown",
      "metadata": {
        "id": "ljAvnNMbLxgQ"
      },
      "source": [
        " "
      ]
    },
    {
      "cell_type": "markdown",
      "metadata": {
        "id": "jMj3RwSVLxgQ"
      },
      "source": [
        " "
      ]
    },
    {
      "cell_type": "markdown",
      "metadata": {
        "id": "7_IQEN7jLxgR"
      },
      "source": [
        "## 2.3 데이터 가져오기"
      ]
    },
    {
      "cell_type": "markdown",
      "metadata": {
        "id": "-fX-xRtMLxgR"
      },
      "source": [
        "### 2.3.1 데이터 불러오기"
      ]
    },
    {
      "cell_type": "code",
      "metadata": {
        "id": "NfZ2_m56LxgR"
      },
      "source": [
        "import os\n",
        "import numpy as np\n",
        "\n",
        "# 일관된 출력을 위해 유사난수 초기화\n",
        "np.random.seed(42)\n",
        "\n",
        "%matplotlib inline\n",
        "import matplotlib\n",
        "import matplotlib.pyplot as plt\n",
        "import seaborn as sn\n",
        "plt.rcParams['axes.labelsize'] = 14\n",
        "plt.rcParams['xtick.labelsize'] = 12\n",
        "plt.rcParams['ytick.labelsize'] = 12\n",
        "sn.set()\n",
        "\n",
        "# 한글출력\n",
        "matplotlib.rc('font', family='NanumBarunGothic')\n",
        "plt.rcParams['axes.unicode_minus'] = False"
      ],
      "execution_count": null,
      "outputs": []
    },
    {
      "cell_type": "code",
      "metadata": {
        "id": "yzKRZJcILxgS",
        "outputId": "b3999af3-01fe-43ce-ce4d-9a6e4df9440f"
      },
      "source": [
        "import pandas as pd\n",
        "\n",
        "housing = pd.read_csv('../datasets/housing/housing.csv')\n",
        "housing.head()"
      ],
      "execution_count": null,
      "outputs": [
        {
          "output_type": "execute_result",
          "data": {
            "text/html": [
              "<div>\n",
              "<style scoped>\n",
              "    .dataframe tbody tr th:only-of-type {\n",
              "        vertical-align: middle;\n",
              "    }\n",
              "\n",
              "    .dataframe tbody tr th {\n",
              "        vertical-align: top;\n",
              "    }\n",
              "\n",
              "    .dataframe thead th {\n",
              "        text-align: right;\n",
              "    }\n",
              "</style>\n",
              "<table border=\"1\" class=\"dataframe\">\n",
              "  <thead>\n",
              "    <tr style=\"text-align: right;\">\n",
              "      <th></th>\n",
              "      <th>longitude</th>\n",
              "      <th>latitude</th>\n",
              "      <th>housing_median_age</th>\n",
              "      <th>total_rooms</th>\n",
              "      <th>total_bedrooms</th>\n",
              "      <th>population</th>\n",
              "      <th>households</th>\n",
              "      <th>median_income</th>\n",
              "      <th>median_house_value</th>\n",
              "      <th>ocean_proximity</th>\n",
              "    </tr>\n",
              "  </thead>\n",
              "  <tbody>\n",
              "    <tr>\n",
              "      <th>0</th>\n",
              "      <td>-122.23</td>\n",
              "      <td>37.88</td>\n",
              "      <td>41.0</td>\n",
              "      <td>880.0</td>\n",
              "      <td>129.0</td>\n",
              "      <td>322.0</td>\n",
              "      <td>126.0</td>\n",
              "      <td>8.3252</td>\n",
              "      <td>452600.0</td>\n",
              "      <td>NEAR BAY</td>\n",
              "    </tr>\n",
              "    <tr>\n",
              "      <th>1</th>\n",
              "      <td>-122.22</td>\n",
              "      <td>37.86</td>\n",
              "      <td>21.0</td>\n",
              "      <td>7099.0</td>\n",
              "      <td>1106.0</td>\n",
              "      <td>2401.0</td>\n",
              "      <td>1138.0</td>\n",
              "      <td>8.3014</td>\n",
              "      <td>358500.0</td>\n",
              "      <td>NEAR BAY</td>\n",
              "    </tr>\n",
              "    <tr>\n",
              "      <th>2</th>\n",
              "      <td>-122.24</td>\n",
              "      <td>37.85</td>\n",
              "      <td>52.0</td>\n",
              "      <td>1467.0</td>\n",
              "      <td>190.0</td>\n",
              "      <td>496.0</td>\n",
              "      <td>177.0</td>\n",
              "      <td>7.2574</td>\n",
              "      <td>352100.0</td>\n",
              "      <td>NEAR BAY</td>\n",
              "    </tr>\n",
              "    <tr>\n",
              "      <th>3</th>\n",
              "      <td>-122.25</td>\n",
              "      <td>37.85</td>\n",
              "      <td>52.0</td>\n",
              "      <td>1274.0</td>\n",
              "      <td>235.0</td>\n",
              "      <td>558.0</td>\n",
              "      <td>219.0</td>\n",
              "      <td>5.6431</td>\n",
              "      <td>341300.0</td>\n",
              "      <td>NEAR BAY</td>\n",
              "    </tr>\n",
              "    <tr>\n",
              "      <th>4</th>\n",
              "      <td>-122.25</td>\n",
              "      <td>37.85</td>\n",
              "      <td>52.0</td>\n",
              "      <td>1627.0</td>\n",
              "      <td>280.0</td>\n",
              "      <td>565.0</td>\n",
              "      <td>259.0</td>\n",
              "      <td>3.8462</td>\n",
              "      <td>342200.0</td>\n",
              "      <td>NEAR BAY</td>\n",
              "    </tr>\n",
              "  </tbody>\n",
              "</table>\n",
              "</div>"
            ],
            "text/plain": [
              "   longitude  latitude  housing_median_age  total_rooms  total_bedrooms  \\\n",
              "0    -122.23     37.88                41.0        880.0           129.0   \n",
              "1    -122.22     37.86                21.0       7099.0          1106.0   \n",
              "2    -122.24     37.85                52.0       1467.0           190.0   \n",
              "3    -122.25     37.85                52.0       1274.0           235.0   \n",
              "4    -122.25     37.85                52.0       1627.0           280.0   \n",
              "\n",
              "   population  households  median_income  median_house_value ocean_proximity  \n",
              "0       322.0       126.0         8.3252            452600.0        NEAR BAY  \n",
              "1      2401.0      1138.0         8.3014            358500.0        NEAR BAY  \n",
              "2       496.0       177.0         7.2574            352100.0        NEAR BAY  \n",
              "3       558.0       219.0         5.6431            341300.0        NEAR BAY  \n",
              "4       565.0       259.0         3.8462            342200.0        NEAR BAY  "
            ]
          },
          "metadata": {
            "tags": []
          },
          "execution_count": 2
        }
      ]
    },
    {
      "cell_type": "markdown",
      "metadata": {
        "id": "hULgccwgLxgT"
      },
      "source": [
        " "
      ]
    },
    {
      "cell_type": "markdown",
      "metadata": {
        "id": "XaUWPXqHLxgT"
      },
      "source": [
        "### 2.3.3 데이터 구조 훑어보기"
      ]
    },
    {
      "cell_type": "code",
      "metadata": {
        "id": "-iVaUz4wLxgT",
        "outputId": "7b7764fe-f725-4266-e7ca-2a8c119b994f"
      },
      "source": [
        "display(housing.info())\n",
        "display(housing.describe())"
      ],
      "execution_count": null,
      "outputs": [
        {
          "output_type": "stream",
          "text": [
            "<class 'pandas.core.frame.DataFrame'>\n",
            "RangeIndex: 20640 entries, 0 to 20639\n",
            "Data columns (total 10 columns):\n",
            "longitude             20640 non-null float64\n",
            "latitude              20640 non-null float64\n",
            "housing_median_age    20640 non-null float64\n",
            "total_rooms           20640 non-null float64\n",
            "total_bedrooms        20433 non-null float64\n",
            "population            20640 non-null float64\n",
            "households            20640 non-null float64\n",
            "median_income         20640 non-null float64\n",
            "median_house_value    20640 non-null float64\n",
            "ocean_proximity       20640 non-null object\n",
            "dtypes: float64(9), object(1)\n",
            "memory usage: 1.6+ MB\n"
          ],
          "name": "stdout"
        },
        {
          "output_type": "display_data",
          "data": {
            "text/plain": [
              "None"
            ]
          },
          "metadata": {
            "tags": []
          }
        },
        {
          "output_type": "display_data",
          "data": {
            "text/html": [
              "<div>\n",
              "<style scoped>\n",
              "    .dataframe tbody tr th:only-of-type {\n",
              "        vertical-align: middle;\n",
              "    }\n",
              "\n",
              "    .dataframe tbody tr th {\n",
              "        vertical-align: top;\n",
              "    }\n",
              "\n",
              "    .dataframe thead th {\n",
              "        text-align: right;\n",
              "    }\n",
              "</style>\n",
              "<table border=\"1\" class=\"dataframe\">\n",
              "  <thead>\n",
              "    <tr style=\"text-align: right;\">\n",
              "      <th></th>\n",
              "      <th>longitude</th>\n",
              "      <th>latitude</th>\n",
              "      <th>housing_median_age</th>\n",
              "      <th>total_rooms</th>\n",
              "      <th>total_bedrooms</th>\n",
              "      <th>population</th>\n",
              "      <th>households</th>\n",
              "      <th>median_income</th>\n",
              "      <th>median_house_value</th>\n",
              "    </tr>\n",
              "  </thead>\n",
              "  <tbody>\n",
              "    <tr>\n",
              "      <th>count</th>\n",
              "      <td>20640.000000</td>\n",
              "      <td>20640.000000</td>\n",
              "      <td>20640.000000</td>\n",
              "      <td>20640.000000</td>\n",
              "      <td>20433.000000</td>\n",
              "      <td>20640.000000</td>\n",
              "      <td>20640.000000</td>\n",
              "      <td>20640.000000</td>\n",
              "      <td>20640.000000</td>\n",
              "    </tr>\n",
              "    <tr>\n",
              "      <th>mean</th>\n",
              "      <td>-119.569704</td>\n",
              "      <td>35.631861</td>\n",
              "      <td>28.639486</td>\n",
              "      <td>2635.763081</td>\n",
              "      <td>537.870553</td>\n",
              "      <td>1425.476744</td>\n",
              "      <td>499.539680</td>\n",
              "      <td>3.870671</td>\n",
              "      <td>206855.816909</td>\n",
              "    </tr>\n",
              "    <tr>\n",
              "      <th>std</th>\n",
              "      <td>2.003532</td>\n",
              "      <td>2.135952</td>\n",
              "      <td>12.585558</td>\n",
              "      <td>2181.615252</td>\n",
              "      <td>421.385070</td>\n",
              "      <td>1132.462122</td>\n",
              "      <td>382.329753</td>\n",
              "      <td>1.899822</td>\n",
              "      <td>115395.615874</td>\n",
              "    </tr>\n",
              "    <tr>\n",
              "      <th>min</th>\n",
              "      <td>-124.350000</td>\n",
              "      <td>32.540000</td>\n",
              "      <td>1.000000</td>\n",
              "      <td>2.000000</td>\n",
              "      <td>1.000000</td>\n",
              "      <td>3.000000</td>\n",
              "      <td>1.000000</td>\n",
              "      <td>0.499900</td>\n",
              "      <td>14999.000000</td>\n",
              "    </tr>\n",
              "    <tr>\n",
              "      <th>25%</th>\n",
              "      <td>-121.800000</td>\n",
              "      <td>33.930000</td>\n",
              "      <td>18.000000</td>\n",
              "      <td>1447.750000</td>\n",
              "      <td>296.000000</td>\n",
              "      <td>787.000000</td>\n",
              "      <td>280.000000</td>\n",
              "      <td>2.563400</td>\n",
              "      <td>119600.000000</td>\n",
              "    </tr>\n",
              "    <tr>\n",
              "      <th>50%</th>\n",
              "      <td>-118.490000</td>\n",
              "      <td>34.260000</td>\n",
              "      <td>29.000000</td>\n",
              "      <td>2127.000000</td>\n",
              "      <td>435.000000</td>\n",
              "      <td>1166.000000</td>\n",
              "      <td>409.000000</td>\n",
              "      <td>3.534800</td>\n",
              "      <td>179700.000000</td>\n",
              "    </tr>\n",
              "    <tr>\n",
              "      <th>75%</th>\n",
              "      <td>-118.010000</td>\n",
              "      <td>37.710000</td>\n",
              "      <td>37.000000</td>\n",
              "      <td>3148.000000</td>\n",
              "      <td>647.000000</td>\n",
              "      <td>1725.000000</td>\n",
              "      <td>605.000000</td>\n",
              "      <td>4.743250</td>\n",
              "      <td>264725.000000</td>\n",
              "    </tr>\n",
              "    <tr>\n",
              "      <th>max</th>\n",
              "      <td>-114.310000</td>\n",
              "      <td>41.950000</td>\n",
              "      <td>52.000000</td>\n",
              "      <td>39320.000000</td>\n",
              "      <td>6445.000000</td>\n",
              "      <td>35682.000000</td>\n",
              "      <td>6082.000000</td>\n",
              "      <td>15.000100</td>\n",
              "      <td>500001.000000</td>\n",
              "    </tr>\n",
              "  </tbody>\n",
              "</table>\n",
              "</div>"
            ],
            "text/plain": [
              "          longitude      latitude  housing_median_age   total_rooms  \\\n",
              "count  20640.000000  20640.000000        20640.000000  20640.000000   \n",
              "mean    -119.569704     35.631861           28.639486   2635.763081   \n",
              "std        2.003532      2.135952           12.585558   2181.615252   \n",
              "min     -124.350000     32.540000            1.000000      2.000000   \n",
              "25%     -121.800000     33.930000           18.000000   1447.750000   \n",
              "50%     -118.490000     34.260000           29.000000   2127.000000   \n",
              "75%     -118.010000     37.710000           37.000000   3148.000000   \n",
              "max     -114.310000     41.950000           52.000000  39320.000000   \n",
              "\n",
              "       total_bedrooms    population    households  median_income  \\\n",
              "count    20433.000000  20640.000000  20640.000000   20640.000000   \n",
              "mean       537.870553   1425.476744    499.539680       3.870671   \n",
              "std        421.385070   1132.462122    382.329753       1.899822   \n",
              "min          1.000000      3.000000      1.000000       0.499900   \n",
              "25%        296.000000    787.000000    280.000000       2.563400   \n",
              "50%        435.000000   1166.000000    409.000000       3.534800   \n",
              "75%        647.000000   1725.000000    605.000000       4.743250   \n",
              "max       6445.000000  35682.000000   6082.000000      15.000100   \n",
              "\n",
              "       median_house_value  \n",
              "count        20640.000000  \n",
              "mean        206855.816909  \n",
              "std         115395.615874  \n",
              "min          14999.000000  \n",
              "25%         119600.000000  \n",
              "50%         179700.000000  \n",
              "75%         264725.000000  \n",
              "max         500001.000000  "
            ]
          },
          "metadata": {
            "tags": []
          }
        }
      ]
    },
    {
      "cell_type": "code",
      "metadata": {
        "id": "qNPOIRwCLxgT",
        "outputId": "31c28b8f-e90d-41f9-e1e9-bc4b1346e539"
      },
      "source": [
        "housing['ocean_proximity'].value_counts()"
      ],
      "execution_count": null,
      "outputs": [
        {
          "output_type": "execute_result",
          "data": {
            "text/plain": [
              "<1H OCEAN     9136\n",
              "INLAND        6551\n",
              "NEAR OCEAN    2658\n",
              "NEAR BAY      2290\n",
              "ISLAND           5\n",
              "Name: ocean_proximity, dtype: int64"
            ]
          },
          "metadata": {
            "tags": []
          },
          "execution_count": 4
        }
      ]
    },
    {
      "cell_type": "code",
      "metadata": {
        "id": "-FECJyIPLxgT",
        "outputId": "2a32f0dd-8780-4352-951c-06c6a290a75d"
      },
      "source": [
        "housing.hist(bins=50, figsize=(20, 15))\n",
        "plt.show()"
      ],
      "execution_count": null,
      "outputs": [
        {
          "output_type": "display_data",
          "data": {
            "image/png": "[encoded data removed]",
            "text/plain": [
              "<Figure size 1440x1080 with 9 Axes>"
            ]
          },
          "metadata": {
            "tags": []
          }
        }
      ]
    },
    {
      "cell_type": "markdown",
      "metadata": {
        "id": "JjP89EqdLxgU"
      },
      "source": [
        " "
      ]
    },
    {
      "cell_type": "markdown",
      "metadata": {
        "id": "260W_ut7LxgU"
      },
      "source": [
        "### 2.3.4 테스트 세트 만들기"
      ]
    },
    {
      "cell_type": "markdown",
      "metadata": {
        "id": "NjR3aaezLxgU"
      },
      "source": [
        "#### 1) np.random.permutaion을 이용해 Train/Test set 나누기"
      ]
    },
    {
      "cell_type": "code",
      "metadata": {
        "id": "zNlLsDt4LxgU"
      },
      "source": [
        "np.random.seed(42)\n",
        "def split_train_test(data, test_ratio):\n",
        "    shuffled_indices = np.random.permutation(len(data))\n",
        "    test_set_size = int(len(data) * test_ratio)\n",
        "    test_indices = shuffled_indices[:test_set_size]\n",
        "    train_indices = shuffled_indices[test_set_size:]\n",
        "    return data.iloc[train_indices], data.iloc[test_indices]"
      ],
      "execution_count": null,
      "outputs": []
    },
    {
      "cell_type": "code",
      "metadata": {
        "id": "mf8pGblOLxgU",
        "outputId": "b8b027fb-58c5-449a-a4c2-19da9bd7eb01"
      },
      "source": [
        "train_set, test_set = split_train_test(housing, 0.2)\n",
        "print(len(train_set), \"train +\", len(test_set), \"test\")"
      ],
      "execution_count": null,
      "outputs": [
        {
          "output_type": "stream",
          "text": [
            "16512 train + 4128 test\n"
          ],
          "name": "stdout"
        }
      ]
    },
    {
      "cell_type": "code",
      "metadata": {
        "id": "-jCagmwMLxgV",
        "outputId": "a7afcc0e-53e7-4a9e-95d9-ef6fb5170815"
      },
      "source": [
        "test_set.head()"
      ],
      "execution_count": null,
      "outputs": [
        {
          "output_type": "execute_result",
          "data": {
            "text/html": [
              "<div>\n",
              "<style scoped>\n",
              "    .dataframe tbody tr th:only-of-type {\n",
              "        vertical-align: middle;\n",
              "    }\n",
              "\n",
              "    .dataframe tbody tr th {\n",
              "        vertical-align: top;\n",
              "    }\n",
              "\n",
              "    .dataframe thead th {\n",
              "        text-align: right;\n",
              "    }\n",
              "</style>\n",
              "<table border=\"1\" class=\"dataframe\">\n",
              "  <thead>\n",
              "    <tr style=\"text-align: right;\">\n",
              "      <th></th>\n",
              "      <th>longitude</th>\n",
              "      <th>latitude</th>\n",
              "      <th>housing_median_age</th>\n",
              "      <th>total_rooms</th>\n",
              "      <th>total_bedrooms</th>\n",
              "      <th>population</th>\n",
              "      <th>households</th>\n",
              "      <th>median_income</th>\n",
              "      <th>median_house_value</th>\n",
              "      <th>ocean_proximity</th>\n",
              "    </tr>\n",
              "  </thead>\n",
              "  <tbody>\n",
              "    <tr>\n",
              "      <th>20046</th>\n",
              "      <td>-119.01</td>\n",
              "      <td>36.06</td>\n",
              "      <td>25.0</td>\n",
              "      <td>1505.0</td>\n",
              "      <td>NaN</td>\n",
              "      <td>1392.0</td>\n",
              "      <td>359.0</td>\n",
              "      <td>1.6812</td>\n",
              "      <td>47700.0</td>\n",
              "      <td>INLAND</td>\n",
              "    </tr>\n",
              "    <tr>\n",
              "      <th>3024</th>\n",
              "      <td>-119.46</td>\n",
              "      <td>35.14</td>\n",
              "      <td>30.0</td>\n",
              "      <td>2943.0</td>\n",
              "      <td>NaN</td>\n",
              "      <td>1565.0</td>\n",
              "      <td>584.0</td>\n",
              "      <td>2.5313</td>\n",
              "      <td>45800.0</td>\n",
              "      <td>INLAND</td>\n",
              "    </tr>\n",
              "    <tr>\n",
              "      <th>15663</th>\n",
              "      <td>-122.44</td>\n",
              "      <td>37.80</td>\n",
              "      <td>52.0</td>\n",
              "      <td>3830.0</td>\n",
              "      <td>NaN</td>\n",
              "      <td>1310.0</td>\n",
              "      <td>963.0</td>\n",
              "      <td>3.4801</td>\n",
              "      <td>500001.0</td>\n",
              "      <td>NEAR BAY</td>\n",
              "    </tr>\n",
              "    <tr>\n",
              "      <th>20484</th>\n",
              "      <td>-118.72</td>\n",
              "      <td>34.28</td>\n",
              "      <td>17.0</td>\n",
              "      <td>3051.0</td>\n",
              "      <td>NaN</td>\n",
              "      <td>1705.0</td>\n",
              "      <td>495.0</td>\n",
              "      <td>5.7376</td>\n",
              "      <td>218600.0</td>\n",
              "      <td>&lt;1H OCEAN</td>\n",
              "    </tr>\n",
              "    <tr>\n",
              "      <th>9814</th>\n",
              "      <td>-121.93</td>\n",
              "      <td>36.62</td>\n",
              "      <td>34.0</td>\n",
              "      <td>2351.0</td>\n",
              "      <td>NaN</td>\n",
              "      <td>1063.0</td>\n",
              "      <td>428.0</td>\n",
              "      <td>3.7250</td>\n",
              "      <td>278000.0</td>\n",
              "      <td>NEAR OCEAN</td>\n",
              "    </tr>\n",
              "  </tbody>\n",
              "</table>\n",
              "</div>"
            ],
            "text/plain": [
              "       longitude  latitude  housing_median_age  total_rooms  total_bedrooms  \\\n",
              "20046    -119.01     36.06                25.0       1505.0             NaN   \n",
              "3024     -119.46     35.14                30.0       2943.0             NaN   \n",
              "15663    -122.44     37.80                52.0       3830.0             NaN   \n",
              "20484    -118.72     34.28                17.0       3051.0             NaN   \n",
              "9814     -121.93     36.62                34.0       2351.0             NaN   \n",
              "\n",
              "       population  households  median_income  median_house_value  \\\n",
              "20046      1392.0       359.0         1.6812             47700.0   \n",
              "3024       1565.0       584.0         2.5313             45800.0   \n",
              "15663      1310.0       963.0         3.4801            500001.0   \n",
              "20484      1705.0       495.0         5.7376            218600.0   \n",
              "9814       1063.0       428.0         3.7250            278000.0   \n",
              "\n",
              "      ocean_proximity  \n",
              "20046          INLAND  \n",
              "3024           INLAND  \n",
              "15663        NEAR BAY  \n",
              "20484       <1H OCEAN  \n",
              "9814       NEAR OCEAN  "
            ]
          },
          "metadata": {
            "tags": []
          },
          "execution_count": 8
        }
      ]
    },
    {
      "cell_type": "markdown",
      "metadata": {
        "id": "qtvkZPr_LxgV"
      },
      "source": [
        " "
      ]
    },
    {
      "cell_type": "markdown",
      "metadata": {
        "id": "E0IUf7nQLxgV"
      },
      "source": [
        "#### 2) zlib의 crc32를 이용한 Train/Test set 나누기"
      ]
    },
    {
      "cell_type": "code",
      "metadata": {
        "id": "aJHRE7T8LxgV"
      },
      "source": [
        "from zlib import crc32\n",
        "\n",
        "def test_set_check(identifier, test_ratio):\n",
        "    return crc32(np.int64(identifier)) & 0xffffffff < test_ratio * 2**32\n",
        "\n",
        "def split_train_test_by_id(data, test_ratio, id_column):\n",
        "    ids = data[id_column]\n",
        "    in_test_set = ids.apply(lambda id_: test_set_check(id_, test_ratio))\n",
        "    return data.loc[~in_test_set], data.loc[in_test_set]"
      ],
      "execution_count": null,
      "outputs": []
    },
    {
      "cell_type": "code",
      "metadata": {
        "id": "hfrLs2v8LxgW",
        "outputId": "a4c24513-86ca-4fed-f632-cec867e482d3"
      },
      "source": [
        "housing_with_id = housing.reset_index()  # 'index'열이 추가된 df가 반환됨\n",
        "train_set, test_set = split_train_test_by_id(housing_with_id, 0.2, 'index')\n",
        "print(len(train_set), \"train +\", len(test_set), \"test\")"
      ],
      "execution_count": null,
      "outputs": [
        {
          "output_type": "stream",
          "text": [
            "16512 train + 4128 test\n"
          ],
          "name": "stdout"
        }
      ]
    },
    {
      "cell_type": "code",
      "metadata": {
        "id": "ioupBtPQLxgW",
        "outputId": "669aab84-4ab0-4a6d-b937-90ac2e3fe7d5"
      },
      "source": [
        "test_set.head()"
      ],
      "execution_count": null,
      "outputs": [
        {
          "output_type": "execute_result",
          "data": {
            "text/html": [
              "<div>\n",
              "<style scoped>\n",
              "    .dataframe tbody tr th:only-of-type {\n",
              "        vertical-align: middle;\n",
              "    }\n",
              "\n",
              "    .dataframe tbody tr th {\n",
              "        vertical-align: top;\n",
              "    }\n",
              "\n",
              "    .dataframe thead th {\n",
              "        text-align: right;\n",
              "    }\n",
              "</style>\n",
              "<table border=\"1\" class=\"dataframe\">\n",
              "  <thead>\n",
              "    <tr style=\"text-align: right;\">\n",
              "      <th></th>\n",
              "      <th>index</th>\n",
              "      <th>longitude</th>\n",
              "      <th>latitude</th>\n",
              "      <th>housing_median_age</th>\n",
              "      <th>total_rooms</th>\n",
              "      <th>total_bedrooms</th>\n",
              "      <th>population</th>\n",
              "      <th>households</th>\n",
              "      <th>median_income</th>\n",
              "      <th>median_house_value</th>\n",
              "      <th>ocean_proximity</th>\n",
              "    </tr>\n",
              "  </thead>\n",
              "  <tbody>\n",
              "    <tr>\n",
              "      <th>2</th>\n",
              "      <td>2</td>\n",
              "      <td>-122.24</td>\n",
              "      <td>37.85</td>\n",
              "      <td>52.0</td>\n",
              "      <td>1467.0</td>\n",
              "      <td>190.0</td>\n",
              "      <td>496.0</td>\n",
              "      <td>177.0</td>\n",
              "      <td>7.2574</td>\n",
              "      <td>352100.0</td>\n",
              "      <td>NEAR BAY</td>\n",
              "    </tr>\n",
              "    <tr>\n",
              "      <th>5</th>\n",
              "      <td>5</td>\n",
              "      <td>-122.25</td>\n",
              "      <td>37.85</td>\n",
              "      <td>52.0</td>\n",
              "      <td>919.0</td>\n",
              "      <td>213.0</td>\n",
              "      <td>413.0</td>\n",
              "      <td>193.0</td>\n",
              "      <td>4.0368</td>\n",
              "      <td>269700.0</td>\n",
              "      <td>NEAR BAY</td>\n",
              "    </tr>\n",
              "    <tr>\n",
              "      <th>12</th>\n",
              "      <td>12</td>\n",
              "      <td>-122.26</td>\n",
              "      <td>37.85</td>\n",
              "      <td>52.0</td>\n",
              "      <td>2491.0</td>\n",
              "      <td>474.0</td>\n",
              "      <td>1098.0</td>\n",
              "      <td>468.0</td>\n",
              "      <td>3.0750</td>\n",
              "      <td>213500.0</td>\n",
              "      <td>NEAR BAY</td>\n",
              "    </tr>\n",
              "    <tr>\n",
              "      <th>16</th>\n",
              "      <td>16</td>\n",
              "      <td>-122.27</td>\n",
              "      <td>37.85</td>\n",
              "      <td>52.0</td>\n",
              "      <td>1966.0</td>\n",
              "      <td>347.0</td>\n",
              "      <td>793.0</td>\n",
              "      <td>331.0</td>\n",
              "      <td>2.7750</td>\n",
              "      <td>152500.0</td>\n",
              "      <td>NEAR BAY</td>\n",
              "    </tr>\n",
              "    <tr>\n",
              "      <th>23</th>\n",
              "      <td>23</td>\n",
              "      <td>-122.27</td>\n",
              "      <td>37.84</td>\n",
              "      <td>52.0</td>\n",
              "      <td>1688.0</td>\n",
              "      <td>337.0</td>\n",
              "      <td>853.0</td>\n",
              "      <td>325.0</td>\n",
              "      <td>2.1806</td>\n",
              "      <td>99700.0</td>\n",
              "      <td>NEAR BAY</td>\n",
              "    </tr>\n",
              "  </tbody>\n",
              "</table>\n",
              "</div>"
            ],
            "text/plain": [
              "    index  longitude  latitude  housing_median_age  total_rooms  \\\n",
              "2       2    -122.24     37.85                52.0       1467.0   \n",
              "5       5    -122.25     37.85                52.0        919.0   \n",
              "12     12    -122.26     37.85                52.0       2491.0   \n",
              "16     16    -122.27     37.85                52.0       1966.0   \n",
              "23     23    -122.27     37.84                52.0       1688.0   \n",
              "\n",
              "    total_bedrooms  population  households  median_income  median_house_value  \\\n",
              "2            190.0       496.0       177.0         7.2574            352100.0   \n",
              "5            213.0       413.0       193.0         4.0368            269700.0   \n",
              "12           474.0      1098.0       468.0         3.0750            213500.0   \n",
              "16           347.0       793.0       331.0         2.7750            152500.0   \n",
              "23           337.0       853.0       325.0         2.1806             99700.0   \n",
              "\n",
              "   ocean_proximity  \n",
              "2         NEAR BAY  \n",
              "5         NEAR BAY  \n",
              "12        NEAR BAY  \n",
              "16        NEAR BAY  \n",
              "23        NEAR BAY  "
            ]
          },
          "metadata": {
            "tags": []
          },
          "execution_count": 11
        }
      ]
    },
    {
      "cell_type": "markdown",
      "metadata": {
        "id": "u13UiaBjLxgW"
      },
      "source": [
        " "
      ]
    },
    {
      "cell_type": "markdown",
      "metadata": {
        "id": "s2iik9i_LxgW"
      },
      "source": [
        "#### 3) sklearn의 train_test_split을 이용한 Train/Test set 나누기"
      ]
    },
    {
      "cell_type": "code",
      "metadata": {
        "id": "T8Djqd4VLxgW",
        "outputId": "627ba7a5-ed80-4365-ba2b-18628d404ec7"
      },
      "source": [
        "from sklearn.model_selection import train_test_split\n",
        "\n",
        "train_set, test_set = train_test_split(housing, test_size=0.2, random_state=42)\n",
        "print(len(train_set), \"train +\", len(test_set), \"test\")"
      ],
      "execution_count": null,
      "outputs": [
        {
          "output_type": "stream",
          "text": [
            "16512 train + 4128 test\n"
          ],
          "name": "stdout"
        }
      ]
    },
    {
      "cell_type": "code",
      "metadata": {
        "id": "XOMyxXfkLxgX",
        "outputId": "52308147-d87d-469b-a170-347092ea511a"
      },
      "source": [
        "test_set.head()"
      ],
      "execution_count": null,
      "outputs": [
        {
          "output_type": "execute_result",
          "data": {
            "text/html": [
              "<div>\n",
              "<style scoped>\n",
              "    .dataframe tbody tr th:only-of-type {\n",
              "        vertical-align: middle;\n",
              "    }\n",
              "\n",
              "    .dataframe tbody tr th {\n",
              "        vertical-align: top;\n",
              "    }\n",
              "\n",
              "    .dataframe thead th {\n",
              "        text-align: right;\n",
              "    }\n",
              "</style>\n",
              "<table border=\"1\" class=\"dataframe\">\n",
              "  <thead>\n",
              "    <tr style=\"text-align: right;\">\n",
              "      <th></th>\n",
              "      <th>longitude</th>\n",
              "      <th>latitude</th>\n",
              "      <th>housing_median_age</th>\n",
              "      <th>total_rooms</th>\n",
              "      <th>total_bedrooms</th>\n",
              "      <th>population</th>\n",
              "      <th>households</th>\n",
              "      <th>median_income</th>\n",
              "      <th>median_house_value</th>\n",
              "      <th>ocean_proximity</th>\n",
              "    </tr>\n",
              "  </thead>\n",
              "  <tbody>\n",
              "    <tr>\n",
              "      <th>20046</th>\n",
              "      <td>-119.01</td>\n",
              "      <td>36.06</td>\n",
              "      <td>25.0</td>\n",
              "      <td>1505.0</td>\n",
              "      <td>NaN</td>\n",
              "      <td>1392.0</td>\n",
              "      <td>359.0</td>\n",
              "      <td>1.6812</td>\n",
              "      <td>47700.0</td>\n",
              "      <td>INLAND</td>\n",
              "    </tr>\n",
              "    <tr>\n",
              "      <th>3024</th>\n",
              "      <td>-119.46</td>\n",
              "      <td>35.14</td>\n",
              "      <td>30.0</td>\n",
              "      <td>2943.0</td>\n",
              "      <td>NaN</td>\n",
              "      <td>1565.0</td>\n",
              "      <td>584.0</td>\n",
              "      <td>2.5313</td>\n",
              "      <td>45800.0</td>\n",
              "      <td>INLAND</td>\n",
              "    </tr>\n",
              "    <tr>\n",
              "      <th>15663</th>\n",
              "      <td>-122.44</td>\n",
              "      <td>37.80</td>\n",
              "      <td>52.0</td>\n",
              "      <td>3830.0</td>\n",
              "      <td>NaN</td>\n",
              "      <td>1310.0</td>\n",
              "      <td>963.0</td>\n",
              "      <td>3.4801</td>\n",
              "      <td>500001.0</td>\n",
              "      <td>NEAR BAY</td>\n",
              "    </tr>\n",
              "    <tr>\n",
              "      <th>20484</th>\n",
              "      <td>-118.72</td>\n",
              "      <td>34.28</td>\n",
              "      <td>17.0</td>\n",
              "      <td>3051.0</td>\n",
              "      <td>NaN</td>\n",
              "      <td>1705.0</td>\n",
              "      <td>495.0</td>\n",
              "      <td>5.7376</td>\n",
              "      <td>218600.0</td>\n",
              "      <td>&lt;1H OCEAN</td>\n",
              "    </tr>\n",
              "    <tr>\n",
              "      <th>9814</th>\n",
              "      <td>-121.93</td>\n",
              "      <td>36.62</td>\n",
              "      <td>34.0</td>\n",
              "      <td>2351.0</td>\n",
              "      <td>NaN</td>\n",
              "      <td>1063.0</td>\n",
              "      <td>428.0</td>\n",
              "      <td>3.7250</td>\n",
              "      <td>278000.0</td>\n",
              "      <td>NEAR OCEAN</td>\n",
              "    </tr>\n",
              "  </tbody>\n",
              "</table>\n",
              "</div>"
            ],
            "text/plain": [
              "       longitude  latitude  housing_median_age  total_rooms  total_bedrooms  \\\n",
              "20046    -119.01     36.06                25.0       1505.0             NaN   \n",
              "3024     -119.46     35.14                30.0       2943.0             NaN   \n",
              "15663    -122.44     37.80                52.0       3830.0             NaN   \n",
              "20484    -118.72     34.28                17.0       3051.0             NaN   \n",
              "9814     -121.93     36.62                34.0       2351.0             NaN   \n",
              "\n",
              "       population  households  median_income  median_house_value  \\\n",
              "20046      1392.0       359.0         1.6812             47700.0   \n",
              "3024       1565.0       584.0         2.5313             45800.0   \n",
              "15663      1310.0       963.0         3.4801            500001.0   \n",
              "20484      1705.0       495.0         5.7376            218600.0   \n",
              "9814       1063.0       428.0         3.7250            278000.0   \n",
              "\n",
              "      ocean_proximity  \n",
              "20046          INLAND  \n",
              "3024           INLAND  \n",
              "15663        NEAR BAY  \n",
              "20484       <1H OCEAN  \n",
              "9814       NEAR OCEAN  "
            ]
          },
          "metadata": {
            "tags": []
          },
          "execution_count": 13
        }
      ]
    },
    {
      "cell_type": "markdown",
      "metadata": {
        "id": "_OcUf1fvLxgX"
      },
      "source": [
        " "
      ]
    },
    {
      "cell_type": "markdown",
      "metadata": {
        "id": "_TnqKvN2LxgX"
      },
      "source": [
        "#### 4) sklearn의 StratifiedShuffleSplit을 이용한 Train/Test set 나누기\n",
        "\n",
        "Train/Test set이 각 데이터를 대표할 수 있도록 고르게 샘플링 되기 위해서 **계층적 샘플링(stratified sampling)** 을 사용할 수 있다. 계층적 샘플링은 전체 모수를 계층으로 나눠 각 계층마다 샘플링을 하는 방법을 말한다.\n",
        "\n",
        "캘리포니아 주택가격 데이터셋에서는 Train/Test set을 `median_income`을 기준으로 계층적 샘플링을 통해 Train/Test set을 나눈다."
      ]
    },
    {
      "cell_type": "code",
      "metadata": {
        "id": "LrFppoQDLxgX",
        "outputId": "44a9383f-9fc8-48eb-8bc2-09bc3a599cbb"
      },
      "source": [
        "housing['median_income'].hist();"
      ],
      "execution_count": null,
      "outputs": [
        {
          "output_type": "display_data",
          "data": {
            "image/png": "[encoded data removed]",
            "text/plain": [
              "<Figure size 432x288 with 1 Axes>"
            ]
          },
          "metadata": {
            "tags": []
          }
        }
      ]
    },
    {
      "cell_type": "code",
      "metadata": {
        "id": "63jWj01OLxgX"
      },
      "source": [
        "# income 카테고리 개수를 제한하기 위해 1.5로 나눔\n",
        "housing['income_cat'] = np.ceil(housing['median_income'] / 1.5)\n",
        "housing['income_cat'].where(housing['income_cat'] < 5, 5.0, inplace=True)"
      ],
      "execution_count": null,
      "outputs": []
    },
    {
      "cell_type": "code",
      "metadata": {
        "id": "COmwuyX5LxgY",
        "outputId": "fd4ef9c7-fcce-4cb4-9203-f3fae7036e5a"
      },
      "source": [
        "housing[\"income_cat\"].value_counts()"
      ],
      "execution_count": null,
      "outputs": [
        {
          "output_type": "execute_result",
          "data": {
            "text/plain": [
              "3.0    7236\n",
              "2.0    6581\n",
              "4.0    3639\n",
              "5.0    2362\n",
              "1.0     822\n",
              "Name: income_cat, dtype: int64"
            ]
          },
          "metadata": {
            "tags": []
          },
          "execution_count": 16
        }
      ]
    },
    {
      "cell_type": "code",
      "metadata": {
        "id": "d51WN_I6LxgY",
        "outputId": "c45f9bcf-92b8-4861-e66e-b98406c19625"
      },
      "source": [
        "housing[\"income_cat\"].hist();"
      ],
      "execution_count": null,
      "outputs": [
        {
          "output_type": "display_data",
          "data": {
            "image/png": "[encoded data removed]",
            "text/plain": [
              "<Figure size 432x288 with 1 Axes>"
            ]
          },
          "metadata": {
            "tags": []
          }
        }
      ]
    },
    {
      "cell_type": "code",
      "metadata": {
        "id": "AnA9rA5pLxgY"
      },
      "source": [
        "from sklearn.model_selection import StratifiedShuffleSplit\n",
        "\n",
        "split = StratifiedShuffleSplit(n_splits=1, test_size=0.2, random_state=42)\n",
        "for train_index, test_index in split.split(housing, housing['income_cat']):\n",
        "    strat_train_set = housing.loc[train_index]\n",
        "    strat_test_set = housing.loc[test_index]"
      ],
      "execution_count": null,
      "outputs": []
    },
    {
      "cell_type": "code",
      "metadata": {
        "id": "SqK95MOyLxgY",
        "outputId": "75c9f9c7-bdc7-4ad4-bcd7-ade16555396e"
      },
      "source": [
        "display(housing['income_cat'].value_counts() / len(housing))\n",
        "print('='*20)\n",
        "display(strat_test_set['income_cat'].value_counts() / len(strat_test_set))"
      ],
      "execution_count": null,
      "outputs": [
        {
          "output_type": "display_data",
          "data": {
            "text/plain": [
              "3.0    0.350581\n",
              "2.0    0.318847\n",
              "4.0    0.176308\n",
              "5.0    0.114438\n",
              "1.0    0.039826\n",
              "Name: income_cat, dtype: float64"
            ]
          },
          "metadata": {
            "tags": []
          }
        },
        {
          "output_type": "stream",
          "text": [
            "====================\n"
          ],
          "name": "stdout"
        },
        {
          "output_type": "display_data",
          "data": {
            "text/plain": [
              "3.0    0.350533\n",
              "2.0    0.318798\n",
              "4.0    0.176357\n",
              "5.0    0.114583\n",
              "1.0    0.039729\n",
              "Name: income_cat, dtype: float64"
            ]
          },
          "metadata": {
            "tags": []
          }
        }
      ]
    },
    {
      "cell_type": "markdown",
      "metadata": {
        "id": "lXV4RcBnLxgZ"
      },
      "source": [
        " "
      ]
    },
    {
      "cell_type": "markdown",
      "metadata": {
        "id": "BC3iqVKsLxgZ"
      },
      "source": [
        "#### 5) Random과 Stratified Sampling 비교 해보기"
      ]
    },
    {
      "cell_type": "code",
      "metadata": {
        "id": "4m8oECoxLxgZ"
      },
      "source": [
        "def income_cat_proportions(data):\n",
        "    return data[\"income_cat\"].value_counts() / len(data)\n",
        "\n",
        "train_set, test_set = train_test_split(housing, test_size=0.2, random_state=42)\n",
        "\n",
        "compare_props = pd.DataFrame({\n",
        "    \"Overall\": income_cat_proportions(housing),\n",
        "    \"Stratified\": income_cat_proportions(strat_test_set),\n",
        "    \"Random\": income_cat_proportions(test_set),\n",
        "}).sort_index()\n",
        "compare_props[\"Rand. %error\"] = 100 * compare_props[\"Random\"] / compare_props[\"Overall\"] - 100\n",
        "compare_props[\"Strat. %error\"] = 100 * compare_props[\"Stratified\"] / compare_props[\"Overall\"] - 100"
      ],
      "execution_count": null,
      "outputs": []
    },
    {
      "cell_type": "code",
      "metadata": {
        "id": "lqEfheziLxgZ",
        "outputId": "1159a647-baac-4c55-dca0-d8b57e20ec55"
      },
      "source": [
        "compare_props"
      ],
      "execution_count": null,
      "outputs": [
        {
          "output_type": "execute_result",
          "data": {
            "text/html": [
              "<div>\n",
              "<style scoped>\n",
              "    .dataframe tbody tr th:only-of-type {\n",
              "        vertical-align: middle;\n",
              "    }\n",
              "\n",
              "    .dataframe tbody tr th {\n",
              "        vertical-align: top;\n",
              "    }\n",
              "\n",
              "    .dataframe thead th {\n",
              "        text-align: right;\n",
              "    }\n",
              "</style>\n",
              "<table border=\"1\" class=\"dataframe\">\n",
              "  <thead>\n",
              "    <tr style=\"text-align: right;\">\n",
              "      <th></th>\n",
              "      <th>Overall</th>\n",
              "      <th>Stratified</th>\n",
              "      <th>Random</th>\n",
              "      <th>Rand. %error</th>\n",
              "      <th>Strat. %error</th>\n",
              "    </tr>\n",
              "  </thead>\n",
              "  <tbody>\n",
              "    <tr>\n",
              "      <th>1.0</th>\n",
              "      <td>0.039826</td>\n",
              "      <td>0.039729</td>\n",
              "      <td>0.040213</td>\n",
              "      <td>0.973236</td>\n",
              "      <td>-0.243309</td>\n",
              "    </tr>\n",
              "    <tr>\n",
              "      <th>2.0</th>\n",
              "      <td>0.318847</td>\n",
              "      <td>0.318798</td>\n",
              "      <td>0.324370</td>\n",
              "      <td>1.732260</td>\n",
              "      <td>-0.015195</td>\n",
              "    </tr>\n",
              "    <tr>\n",
              "      <th>3.0</th>\n",
              "      <td>0.350581</td>\n",
              "      <td>0.350533</td>\n",
              "      <td>0.358527</td>\n",
              "      <td>2.266446</td>\n",
              "      <td>-0.013820</td>\n",
              "    </tr>\n",
              "    <tr>\n",
              "      <th>4.0</th>\n",
              "      <td>0.176308</td>\n",
              "      <td>0.176357</td>\n",
              "      <td>0.167393</td>\n",
              "      <td>-5.056334</td>\n",
              "      <td>0.027480</td>\n",
              "    </tr>\n",
              "    <tr>\n",
              "      <th>5.0</th>\n",
              "      <td>0.114438</td>\n",
              "      <td>0.114583</td>\n",
              "      <td>0.109496</td>\n",
              "      <td>-4.318374</td>\n",
              "      <td>0.127011</td>\n",
              "    </tr>\n",
              "  </tbody>\n",
              "</table>\n",
              "</div>"
            ],
            "text/plain": [
              "      Overall  Stratified    Random  Rand. %error  Strat. %error\n",
              "1.0  0.039826    0.039729  0.040213      0.973236      -0.243309\n",
              "2.0  0.318847    0.318798  0.324370      1.732260      -0.015195\n",
              "3.0  0.350581    0.350533  0.358527      2.266446      -0.013820\n",
              "4.0  0.176308    0.176357  0.167393     -5.056334       0.027480\n",
              "5.0  0.114438    0.114583  0.109496     -4.318374       0.127011"
            ]
          },
          "metadata": {
            "tags": []
          },
          "execution_count": 21
        }
      ]
    },
    {
      "cell_type": "code",
      "metadata": {
        "id": "Rd-YrtwGLxga"
      },
      "source": [
        "# 분석에 필요없는 'income_cat' Column 삭제\n",
        "for set_ in (strat_train_set, strat_test_set):\n",
        "    set_.drop(\"income_cat\", axis=1, inplace=True)"
      ],
      "execution_count": null,
      "outputs": []
    },
    {
      "cell_type": "markdown",
      "metadata": {
        "id": "wiWvyo1NLxga"
      },
      "source": [
        " "
      ]
    },
    {
      "cell_type": "markdown",
      "metadata": {
        "id": "UaoG_uDULxga"
      },
      "source": [
        "## 2.4 데이터 이해를 위한 탐색과 시각화"
      ]
    },
    {
      "cell_type": "code",
      "metadata": {
        "id": "umZ6ZnfmLxga"
      },
      "source": [
        "# Train set에 대해서만 진행\n",
        "housing = strat_train_set.copy()"
      ],
      "execution_count": null,
      "outputs": []
    },
    {
      "cell_type": "markdown",
      "metadata": {
        "id": "2xRHK2q4Lxga"
      },
      "source": [
        "### 2.4.1 지리적 데이터 시각화 "
      ]
    },
    {
      "cell_type": "code",
      "metadata": {
        "id": "zAfI5gfULxga",
        "outputId": "d3135e74-ee20-45e7-87f4-56ac5502d193"
      },
      "source": [
        "ax = housing.plot(kind='scatter', x='longitude', y='latitude')\n",
        "ax.set(xlabel='경도', ylabel='위도');"
      ],
      "execution_count": null,
      "outputs": [
        {
          "output_type": "display_data",
          "data": {
            "image/png": "[encoded data removed]",
            "text/plain": [
              "<Figure size 432x288 with 1 Axes>"
            ]
          },
          "metadata": {
            "tags": []
          }
        }
      ]
    },
    {
      "cell_type": "markdown",
      "metadata": {
        "id": "HfpgtDZ0Lxgb"
      },
      "source": [
        "`alpha` 인자를 이용해 데이터 포인트가 밀집된 영역을 표현할 수 있다."
      ]
    },
    {
      "cell_type": "code",
      "metadata": {
        "id": "PSma5okhLxgd",
        "outputId": "6f6a1fb3-ed63-45b5-e505-8e7feee8baff"
      },
      "source": [
        "ax = housing.plot(kind=\"scatter\", x=\"longitude\", y=\"latitude\", alpha=0.1)\n",
        "ax.set(xlabel='경도', ylabel='위도')"
      ],
      "execution_count": null,
      "outputs": [
        {
          "output_type": "execute_result",
          "data": {
            "text/plain": [
              "[Text(0,0.5,'위도'), Text(0.5,0,'경도')]"
            ]
          },
          "metadata": {
            "tags": []
          },
          "execution_count": 25
        },
        {
          "output_type": "display_data",
          "data": {
            "image/png": "[encoded data removed]",
            "text/plain": [
              "<Figure size 432x288 with 1 Axes>"
            ]
          },
          "metadata": {
            "tags": []
          }
        }
      ]
    },
    {
      "cell_type": "code",
      "metadata": {
        "id": "MiRWjOmgLxgd",
        "outputId": "c25b9649-50cd-47d3-870c-b0cfa03d47f4"
      },
      "source": [
        "ax = housing.plot(kind=\"scatter\", x=\"longitude\", y=\"latitude\", alpha=0.4,\n",
        "    s=housing[\"population\"]/100, label=\"인구\", figsize=(10,7),\n",
        "    c=\"median_house_value\", cmap=plt.get_cmap(\"jet\"), colorbar=True,\n",
        "    sharex=False)\n",
        "ax.set(xlabel='경도', ylabel='위도')\n",
        "plt.legend()"
      ],
      "execution_count": null,
      "outputs": [
        {
          "output_type": "execute_result",
          "data": {
            "text/plain": [
              "<matplotlib.legend.Legend at 0x7f8d4593ceb8>"
            ]
          },
          "metadata": {
            "tags": []
          },
          "execution_count": 26
        },
        {
          "output_type": "display_data",
          "data": {
            "image/png": "[encoded data removed]",
            "text/plain": [
              "<Figure size 720x504 with 2 Axes>"
            ]
          },
          "metadata": {
            "tags": []
          }
        }
      ]
    },
    {
      "cell_type": "markdown",
      "metadata": {
        "id": "nCSNI9O9Lxge"
      },
      "source": [
        " "
      ]
    },
    {
      "cell_type": "markdown",
      "metadata": {
        "id": "9xRUWrmpLxge"
      },
      "source": [
        "### 2.4.2 상관관계 조사\n",
        "\n",
        "특성(feature)간의 **표준 상관계수**(standard correlation coefficient, 피어슨의 $r$) `corr()`를 사용한다."
      ]
    },
    {
      "cell_type": "code",
      "metadata": {
        "id": "Ew7_JtOyLxge",
        "outputId": "43d8e6a9-45d1-4b25-99b8-c7f474e0905a"
      },
      "source": [
        "corr_matrix = housing.corr()\n",
        "corr_matrix[\"median_house_value\"].sort_values(ascending=False)"
      ],
      "execution_count": null,
      "outputs": [
        {
          "output_type": "execute_result",
          "data": {
            "text/plain": [
              "median_house_value    1.000000\n",
              "median_income         0.687160\n",
              "total_rooms           0.135097\n",
              "housing_median_age    0.114110\n",
              "households            0.064506\n",
              "total_bedrooms        0.047689\n",
              "population           -0.026920\n",
              "longitude            -0.047432\n",
              "latitude             -0.142724\n",
              "Name: median_house_value, dtype: float64"
            ]
          },
          "metadata": {
            "tags": []
          },
          "execution_count": 27
        }
      ]
    },
    {
      "cell_type": "code",
      "metadata": {
        "id": "X-6_6ObQLxge",
        "outputId": "5cebd6d2-2792-4c68-f8c2-c3b904523074"
      },
      "source": [
        "from pandas.plotting import scatter_matrix\n",
        "\n",
        "attributes = [\"median_house_value\", \"median_income\", \"total_rooms\",\n",
        "              \"housing_median_age\"]\n",
        "scatter_matrix(housing[attributes], figsize=(12, 8));"
      ],
      "execution_count": null,
      "outputs": [
        {
          "output_type": "display_data",
          "data": {
            "image/png": "[encoded data removed]",
            "text/plain": [
              "<Figure size 864x576 with 16 Axes>"
            ]
          },
          "metadata": {
            "tags": []
          }
        }
      ]
    },
    {
      "cell_type": "code",
      "metadata": {
        "id": "lLiEdp1FLxge",
        "outputId": "506385e5-d75f-4ec3-85c5-7b3c36c5ec89"
      },
      "source": [
        "housing.plot(kind=\"scatter\", x=\"median_income\", y=\"median_house_value\",\n",
        "             alpha=0.1)\n",
        "plt.axis([0, 16, 0, 550000]);"
      ],
      "execution_count": null,
      "outputs": [
        {
          "output_type": "display_data",
          "data": {
            "image/png": "[encoded data removed]",
            "text/plain": [
              "<Figure size 432x288 with 1 Axes>"
            ]
          },
          "metadata": {
            "tags": []
          }
        }
      ]
    },
    {
      "cell_type": "markdown",
      "metadata": {
        "id": "Vr6InPxgLxgf"
      },
      "source": [
        " "
      ]
    },
    {
      "cell_type": "markdown",
      "metadata": {
        "id": "Pv6Omj0ALxgf"
      },
      "source": [
        "### 2.4.3 특성 조합으로 실험\n",
        "\n",
        "특성들을 조합하여 새로운 특성을 만들어 보자."
      ]
    },
    {
      "cell_type": "code",
      "metadata": {
        "id": "kUSopiGsLxgf"
      },
      "source": [
        "housing['rooms_per_household'] = housing['total_rooms'] / housing['households']\n",
        "housing['bedrooms_per_room'] = housing['total_bedrooms'] / housing['total_rooms']\n",
        "housing['population_per_household'] = housing['population'] / housing['households']"
      ],
      "execution_count": null,
      "outputs": []
    },
    {
      "cell_type": "code",
      "metadata": {
        "id": "zVfVMCHALxgf",
        "outputId": "92934e75-a8bf-4385-d2b6-c005785c852c"
      },
      "source": [
        "corr_matrix = housing.corr()\n",
        "corr_matrix[\"median_house_value\"].sort_values(ascending=False)"
      ],
      "execution_count": null,
      "outputs": [
        {
          "output_type": "execute_result",
          "data": {
            "text/plain": [
              "median_house_value          1.000000\n",
              "median_income               0.687160\n",
              "rooms_per_household         0.146285\n",
              "total_rooms                 0.135097\n",
              "housing_median_age          0.114110\n",
              "households                  0.064506\n",
              "total_bedrooms              0.047689\n",
              "population_per_household   -0.021985\n",
              "population                 -0.026920\n",
              "longitude                  -0.047432\n",
              "latitude                   -0.142724\n",
              "bedrooms_per_room          -0.259984\n",
              "Name: median_house_value, dtype: float64"
            ]
          },
          "metadata": {
            "tags": []
          },
          "execution_count": 31
        }
      ]
    },
    {
      "cell_type": "markdown",
      "metadata": {
        "id": "mFGfFiLYLxgf"
      },
      "source": [
        " "
      ]
    },
    {
      "cell_type": "markdown",
      "metadata": {
        "id": "dSSKUCflLxgf"
      },
      "source": [
        "## 2.5 머신러닝 알고리즘을 위한 데이터 준비"
      ]
    },
    {
      "cell_type": "code",
      "metadata": {
        "id": "vTOr7NSPLxgg"
      },
      "source": [
        "housing = strat_train_set.drop('median_house_value', axis=1)\n",
        "housing_labels = strat_train_set['median_house_value'].copy()"
      ],
      "execution_count": null,
      "outputs": []
    },
    {
      "cell_type": "markdown",
      "metadata": {
        "id": "I1FdCxN3Lxgg"
      },
      "source": [
        " "
      ]
    },
    {
      "cell_type": "markdown",
      "metadata": {
        "id": "VABiKBXCLxgg"
      },
      "source": [
        "### 2.5.1 데이터 정제\n",
        "\n",
        "`total_bedrooms` 특성에 값이 없는 경우에 대해 데이터 정제를 아래와 같은 방법으로 진행할 수 있다.\n",
        "\n",
        " - 해당 구역을 제거\n",
        " - 전체 특성을 삭제\n",
        " - 어떤 값으로 채움(0, 평균, 중간값 등)\n",
        " \n",
        "아래의 예제 코드는 위의 세 가지 방법을 각각 수행한 샘플 코드이다. `pandas.DataFrame`의 `dropna(), drop(), fillna()`를 이용해 위의 방법을 간단하게 수행할 수 있다."
      ]
    },
    {
      "cell_type": "code",
      "metadata": {
        "id": "1E47rN-NLxgg",
        "outputId": "4a55d6b8-4ce1-436f-e289-5823fc0e69fd"
      },
      "source": [
        "sample_incomplete_rows = housing[housing.isnull().any(axis=1)].head()\n",
        "sample_incomplete_rows"
      ],
      "execution_count": null,
      "outputs": [
        {
          "output_type": "execute_result",
          "data": {
            "text/html": [
              "<div>\n",
              "<style scoped>\n",
              "    .dataframe tbody tr th:only-of-type {\n",
              "        vertical-align: middle;\n",
              "    }\n",
              "\n",
              "    .dataframe tbody tr th {\n",
              "        vertical-align: top;\n",
              "    }\n",
              "\n",
              "    .dataframe thead th {\n",
              "        text-align: right;\n",
              "    }\n",
              "</style>\n",
              "<table border=\"1\" class=\"dataframe\">\n",
              "  <thead>\n",
              "    <tr style=\"text-align: right;\">\n",
              "      <th></th>\n",
              "      <th>longitude</th>\n",
              "      <th>latitude</th>\n",
              "      <th>housing_median_age</th>\n",
              "      <th>total_rooms</th>\n",
              "      <th>total_bedrooms</th>\n",
              "      <th>population</th>\n",
              "      <th>households</th>\n",
              "      <th>median_income</th>\n",
              "      <th>ocean_proximity</th>\n",
              "    </tr>\n",
              "  </thead>\n",
              "  <tbody>\n",
              "    <tr>\n",
              "      <th>4629</th>\n",
              "      <td>-118.30</td>\n",
              "      <td>34.07</td>\n",
              "      <td>18.0</td>\n",
              "      <td>3759.0</td>\n",
              "      <td>NaN</td>\n",
              "      <td>3296.0</td>\n",
              "      <td>1462.0</td>\n",
              "      <td>2.2708</td>\n",
              "      <td>&lt;1H OCEAN</td>\n",
              "    </tr>\n",
              "    <tr>\n",
              "      <th>6068</th>\n",
              "      <td>-117.86</td>\n",
              "      <td>34.01</td>\n",
              "      <td>16.0</td>\n",
              "      <td>4632.0</td>\n",
              "      <td>NaN</td>\n",
              "      <td>3038.0</td>\n",
              "      <td>727.0</td>\n",
              "      <td>5.1762</td>\n",
              "      <td>&lt;1H OCEAN</td>\n",
              "    </tr>\n",
              "    <tr>\n",
              "      <th>17923</th>\n",
              "      <td>-121.97</td>\n",
              "      <td>37.35</td>\n",
              "      <td>30.0</td>\n",
              "      <td>1955.0</td>\n",
              "      <td>NaN</td>\n",
              "      <td>999.0</td>\n",
              "      <td>386.0</td>\n",
              "      <td>4.6328</td>\n",
              "      <td>&lt;1H OCEAN</td>\n",
              "    </tr>\n",
              "    <tr>\n",
              "      <th>13656</th>\n",
              "      <td>-117.30</td>\n",
              "      <td>34.05</td>\n",
              "      <td>6.0</td>\n",
              "      <td>2155.0</td>\n",
              "      <td>NaN</td>\n",
              "      <td>1039.0</td>\n",
              "      <td>391.0</td>\n",
              "      <td>1.6675</td>\n",
              "      <td>INLAND</td>\n",
              "    </tr>\n",
              "    <tr>\n",
              "      <th>19252</th>\n",
              "      <td>-122.79</td>\n",
              "      <td>38.48</td>\n",
              "      <td>7.0</td>\n",
              "      <td>6837.0</td>\n",
              "      <td>NaN</td>\n",
              "      <td>3468.0</td>\n",
              "      <td>1405.0</td>\n",
              "      <td>3.1662</td>\n",
              "      <td>&lt;1H OCEAN</td>\n",
              "    </tr>\n",
              "  </tbody>\n",
              "</table>\n",
              "</div>"
            ],
            "text/plain": [
              "       longitude  latitude  housing_median_age  total_rooms  total_bedrooms  \\\n",
              "4629     -118.30     34.07                18.0       3759.0             NaN   \n",
              "6068     -117.86     34.01                16.0       4632.0             NaN   \n",
              "17923    -121.97     37.35                30.0       1955.0             NaN   \n",
              "13656    -117.30     34.05                 6.0       2155.0             NaN   \n",
              "19252    -122.79     38.48                 7.0       6837.0             NaN   \n",
              "\n",
              "       population  households  median_income ocean_proximity  \n",
              "4629       3296.0      1462.0         2.2708       <1H OCEAN  \n",
              "6068       3038.0       727.0         5.1762       <1H OCEAN  \n",
              "17923       999.0       386.0         4.6328       <1H OCEAN  \n",
              "13656      1039.0       391.0         1.6675          INLAND  \n",
              "19252      3468.0      1405.0         3.1662       <1H OCEAN  "
            ]
          },
          "metadata": {
            "tags": []
          },
          "execution_count": 33
        }
      ]
    },
    {
      "cell_type": "code",
      "metadata": {
        "id": "hsYBSel_Lxgg",
        "outputId": "3f2f9ae5-a6ee-4446-ccad-7f5df33ce220"
      },
      "source": [
        "# 방법1: null값 삭제 -> dropna()\n",
        "sample_incomplete_rows.dropna(subset=['total_bedrooms'])"
      ],
      "execution_count": null,
      "outputs": [
        {
          "output_type": "execute_result",
          "data": {
            "text/html": [
              "<div>\n",
              "<style scoped>\n",
              "    .dataframe tbody tr th:only-of-type {\n",
              "        vertical-align: middle;\n",
              "    }\n",
              "\n",
              "    .dataframe tbody tr th {\n",
              "        vertical-align: top;\n",
              "    }\n",
              "\n",
              "    .dataframe thead th {\n",
              "        text-align: right;\n",
              "    }\n",
              "</style>\n",
              "<table border=\"1\" class=\"dataframe\">\n",
              "  <thead>\n",
              "    <tr style=\"text-align: right;\">\n",
              "      <th></th>\n",
              "      <th>longitude</th>\n",
              "      <th>latitude</th>\n",
              "      <th>housing_median_age</th>\n",
              "      <th>total_rooms</th>\n",
              "      <th>total_bedrooms</th>\n",
              "      <th>population</th>\n",
              "      <th>households</th>\n",
              "      <th>median_income</th>\n",
              "      <th>ocean_proximity</th>\n",
              "    </tr>\n",
              "  </thead>\n",
              "  <tbody>\n",
              "  </tbody>\n",
              "</table>\n",
              "</div>"
            ],
            "text/plain": [
              "Empty DataFrame\n",
              "Columns: [longitude, latitude, housing_median_age, total_rooms, total_bedrooms, population, households, median_income, ocean_proximity]\n",
              "Index: []"
            ]
          },
          "metadata": {
            "tags": []
          },
          "execution_count": 34
        }
      ]
    },
    {
      "cell_type": "code",
      "metadata": {
        "id": "6soUKJt9Lxgg",
        "outputId": "30d67190-dd80-4836-a5b6-0c6c5589e655"
      },
      "source": [
        "# 방법2: 전체 특성(total_bedrooms) 삭제 -> drop()\n",
        "sample_incomplete_rows.drop('total_bedrooms', axis=1)"
      ],
      "execution_count": null,
      "outputs": [
        {
          "output_type": "execute_result",
          "data": {
            "text/html": [
              "<div>\n",
              "<style scoped>\n",
              "    .dataframe tbody tr th:only-of-type {\n",
              "        vertical-align: middle;\n",
              "    }\n",
              "\n",
              "    .dataframe tbody tr th {\n",
              "        vertical-align: top;\n",
              "    }\n",
              "\n",
              "    .dataframe thead th {\n",
              "        text-align: right;\n",
              "    }\n",
              "</style>\n",
              "<table border=\"1\" class=\"dataframe\">\n",
              "  <thead>\n",
              "    <tr style=\"text-align: right;\">\n",
              "      <th></th>\n",
              "      <th>longitude</th>\n",
              "      <th>latitude</th>\n",
              "      <th>housing_median_age</th>\n",
              "      <th>total_rooms</th>\n",
              "      <th>population</th>\n",
              "      <th>households</th>\n",
              "      <th>median_income</th>\n",
              "      <th>ocean_proximity</th>\n",
              "    </tr>\n",
              "  </thead>\n",
              "  <tbody>\n",
              "    <tr>\n",
              "      <th>4629</th>\n",
              "      <td>-118.30</td>\n",
              "      <td>34.07</td>\n",
              "      <td>18.0</td>\n",
              "      <td>3759.0</td>\n",
              "      <td>3296.0</td>\n",
              "      <td>1462.0</td>\n",
              "      <td>2.2708</td>\n",
              "      <td>&lt;1H OCEAN</td>\n",
              "    </tr>\n",
              "    <tr>\n",
              "      <th>6068</th>\n",
              "      <td>-117.86</td>\n",
              "      <td>34.01</td>\n",
              "      <td>16.0</td>\n",
              "      <td>4632.0</td>\n",
              "      <td>3038.0</td>\n",
              "      <td>727.0</td>\n",
              "      <td>5.1762</td>\n",
              "      <td>&lt;1H OCEAN</td>\n",
              "    </tr>\n",
              "    <tr>\n",
              "      <th>17923</th>\n",
              "      <td>-121.97</td>\n",
              "      <td>37.35</td>\n",
              "      <td>30.0</td>\n",
              "      <td>1955.0</td>\n",
              "      <td>999.0</td>\n",
              "      <td>386.0</td>\n",
              "      <td>4.6328</td>\n",
              "      <td>&lt;1H OCEAN</td>\n",
              "    </tr>\n",
              "    <tr>\n",
              "      <th>13656</th>\n",
              "      <td>-117.30</td>\n",
              "      <td>34.05</td>\n",
              "      <td>6.0</td>\n",
              "      <td>2155.0</td>\n",
              "      <td>1039.0</td>\n",
              "      <td>391.0</td>\n",
              "      <td>1.6675</td>\n",
              "      <td>INLAND</td>\n",
              "    </tr>\n",
              "    <tr>\n",
              "      <th>19252</th>\n",
              "      <td>-122.79</td>\n",
              "      <td>38.48</td>\n",
              "      <td>7.0</td>\n",
              "      <td>6837.0</td>\n",
              "      <td>3468.0</td>\n",
              "      <td>1405.0</td>\n",
              "      <td>3.1662</td>\n",
              "      <td>&lt;1H OCEAN</td>\n",
              "    </tr>\n",
              "  </tbody>\n",
              "</table>\n",
              "</div>"
            ],
            "text/plain": [
              "       longitude  latitude  housing_median_age  total_rooms  population  \\\n",
              "4629     -118.30     34.07                18.0       3759.0      3296.0   \n",
              "6068     -117.86     34.01                16.0       4632.0      3038.0   \n",
              "17923    -121.97     37.35                30.0       1955.0       999.0   \n",
              "13656    -117.30     34.05                 6.0       2155.0      1039.0   \n",
              "19252    -122.79     38.48                 7.0       6837.0      3468.0   \n",
              "\n",
              "       households  median_income ocean_proximity  \n",
              "4629       1462.0         2.2708       <1H OCEAN  \n",
              "6068        727.0         5.1762       <1H OCEAN  \n",
              "17923       386.0         4.6328       <1H OCEAN  \n",
              "13656       391.0         1.6675          INLAND  \n",
              "19252      1405.0         3.1662       <1H OCEAN  "
            ]
          },
          "metadata": {
            "tags": []
          },
          "execution_count": 35
        }
      ]
    },
    {
      "cell_type": "code",
      "metadata": {
        "id": "irB1peEkLxgh",
        "outputId": "fc8b63af-3716-4020-c955-10a4276988b2"
      },
      "source": [
        "# 방법3: 어떤 값으로 채우기(median) -> fillna()\n",
        "median = housing['total_bedrooms'].median()\n",
        "sample_incomplete_rows['total_bedrooms'].fillna(median, inplace=True)\n",
        "sample_incomplete_rows"
      ],
      "execution_count": null,
      "outputs": [
        {
          "output_type": "execute_result",
          "data": {
            "text/html": [
              "<div>\n",
              "<style scoped>\n",
              "    .dataframe tbody tr th:only-of-type {\n",
              "        vertical-align: middle;\n",
              "    }\n",
              "\n",
              "    .dataframe tbody tr th {\n",
              "        vertical-align: top;\n",
              "    }\n",
              "\n",
              "    .dataframe thead th {\n",
              "        text-align: right;\n",
              "    }\n",
              "</style>\n",
              "<table border=\"1\" class=\"dataframe\">\n",
              "  <thead>\n",
              "    <tr style=\"text-align: right;\">\n",
              "      <th></th>\n",
              "      <th>longitude</th>\n",
              "      <th>latitude</th>\n",
              "      <th>housing_median_age</th>\n",
              "      <th>total_rooms</th>\n",
              "      <th>total_bedrooms</th>\n",
              "      <th>population</th>\n",
              "      <th>households</th>\n",
              "      <th>median_income</th>\n",
              "      <th>ocean_proximity</th>\n",
              "    </tr>\n",
              "  </thead>\n",
              "  <tbody>\n",
              "    <tr>\n",
              "      <th>4629</th>\n",
              "      <td>-118.30</td>\n",
              "      <td>34.07</td>\n",
              "      <td>18.0</td>\n",
              "      <td>3759.0</td>\n",
              "      <td>433.0</td>\n",
              "      <td>3296.0</td>\n",
              "      <td>1462.0</td>\n",
              "      <td>2.2708</td>\n",
              "      <td>&lt;1H OCEAN</td>\n",
              "    </tr>\n",
              "    <tr>\n",
              "      <th>6068</th>\n",
              "      <td>-117.86</td>\n",
              "      <td>34.01</td>\n",
              "      <td>16.0</td>\n",
              "      <td>4632.0</td>\n",
              "      <td>433.0</td>\n",
              "      <td>3038.0</td>\n",
              "      <td>727.0</td>\n",
              "      <td>5.1762</td>\n",
              "      <td>&lt;1H OCEAN</td>\n",
              "    </tr>\n",
              "    <tr>\n",
              "      <th>17923</th>\n",
              "      <td>-121.97</td>\n",
              "      <td>37.35</td>\n",
              "      <td>30.0</td>\n",
              "      <td>1955.0</td>\n",
              "      <td>433.0</td>\n",
              "      <td>999.0</td>\n",
              "      <td>386.0</td>\n",
              "      <td>4.6328</td>\n",
              "      <td>&lt;1H OCEAN</td>\n",
              "    </tr>\n",
              "    <tr>\n",
              "      <th>13656</th>\n",
              "      <td>-117.30</td>\n",
              "      <td>34.05</td>\n",
              "      <td>6.0</td>\n",
              "      <td>2155.0</td>\n",
              "      <td>433.0</td>\n",
              "      <td>1039.0</td>\n",
              "      <td>391.0</td>\n",
              "      <td>1.6675</td>\n",
              "      <td>INLAND</td>\n",
              "    </tr>\n",
              "    <tr>\n",
              "      <th>19252</th>\n",
              "      <td>-122.79</td>\n",
              "      <td>38.48</td>\n",
              "      <td>7.0</td>\n",
              "      <td>6837.0</td>\n",
              "      <td>433.0</td>\n",
              "      <td>3468.0</td>\n",
              "      <td>1405.0</td>\n",
              "      <td>3.1662</td>\n",
              "      <td>&lt;1H OCEAN</td>\n",
              "    </tr>\n",
              "  </tbody>\n",
              "</table>\n",
              "</div>"
            ],
            "text/plain": [
              "       longitude  latitude  housing_median_age  total_rooms  total_bedrooms  \\\n",
              "4629     -118.30     34.07                18.0       3759.0           433.0   \n",
              "6068     -117.86     34.01                16.0       4632.0           433.0   \n",
              "17923    -121.97     37.35                30.0       1955.0           433.0   \n",
              "13656    -117.30     34.05                 6.0       2155.0           433.0   \n",
              "19252    -122.79     38.48                 7.0       6837.0           433.0   \n",
              "\n",
              "       population  households  median_income ocean_proximity  \n",
              "4629       3296.0      1462.0         2.2708       <1H OCEAN  \n",
              "6068       3038.0       727.0         5.1762       <1H OCEAN  \n",
              "17923       999.0       386.0         4.6328       <1H OCEAN  \n",
              "13656      1039.0       391.0         1.6675          INLAND  \n",
              "19252      3468.0      1405.0         3.1662       <1H OCEAN  "
            ]
          },
          "metadata": {
            "tags": []
          },
          "execution_count": 36
        }
      ]
    },
    {
      "cell_type": "markdown",
      "metadata": {
        "id": "AYiKTvv_Lxgh"
      },
      "source": [
        " "
      ]
    },
    {
      "cell_type": "markdown",
      "metadata": {
        "id": "cG11YRF0Lxgh"
      },
      "source": [
        "#### Imputer\n",
        "\n",
        "scikit-learn의 `Imputer`는 누락된 값을 손쉽게 다룰 수 있도록 해준다. `Imputer`를 이용해 Null 값에 중앙값을 채워보도록 하자.\n",
        "\n",
        "**중앙값(median)** 은 numeric한 데이터 특성에서만 계산되므로 텍스트 특성인 `ocean_proximity`는 제거해준뒤 `Imputer.fit()`을 통해 null 값에 중앙값을 채워준다."
      ]
    },
    {
      "cell_type": "code",
      "metadata": {
        "id": "dZfmCGUPLxgh",
        "outputId": "6035679a-19dc-4643-9569-7f53cc8e0a03"
      },
      "source": [
        "from sklearn.preprocessing import Imputer\n",
        "\n",
        "housing_num = housing.drop('ocean_proximity', axis=1)\n",
        "\n",
        "imputer = Imputer(strategy='median')\n",
        "imputer.fit(housing_num)"
      ],
      "execution_count": null,
      "outputs": [
        {
          "output_type": "execute_result",
          "data": {
            "text/plain": [
              "Imputer(axis=0, copy=True, missing_values='NaN', strategy='median', verbose=0)"
            ]
          },
          "metadata": {
            "tags": []
          },
          "execution_count": 37
        }
      ]
    },
    {
      "cell_type": "markdown",
      "metadata": {
        "id": "8-Xj5WCwLxgh"
      },
      "source": [
        " "
      ]
    },
    {
      "cell_type": "markdown",
      "metadata": {
        "id": "7y6ab-AsLxgi"
      },
      "source": [
        "`Imputer`는 각 특성의 중앙값(median)을 계산한 뒤 그 결과를 `.statistics_`에 저장한다."
      ]
    },
    {
      "cell_type": "code",
      "metadata": {
        "id": "Xk6CjfoaLxgi",
        "outputId": "f8139b83-7c79-47c9-9321-345e2ee31bd4"
      },
      "source": [
        "print('imputer.statistics_ :', imputer.statistics_)\n",
        "print('housing_num.median().values :', housing_num.median().values)"
      ],
      "execution_count": null,
      "outputs": [
        {
          "output_type": "stream",
          "text": [
            "imputer.statistics_ : [-118.51     34.26     29.     2119.5     433.     1164.      408.\n",
            "    3.5409]\n",
            "housing_num.median().values : [-118.51     34.26     29.     2119.5     433.     1164.      408.\n",
            "    3.5409]\n"
          ],
          "name": "stdout"
        }
      ]
    },
    {
      "cell_type": "markdown",
      "metadata": {
        "id": "hSFZXHCqLxgi"
      },
      "source": [
        " "
      ]
    },
    {
      "cell_type": "markdown",
      "metadata": {
        "id": "3r1mxtTSLxgi"
      },
      "source": [
        "`Imputer`의 `.transform()`을 이용해 Training Set에서 누락된 값을 중앙값으로 바꿀 수 있다. `.transform()`의 반환값은 `NumPy`의 `array`이다."
      ]
    },
    {
      "cell_type": "code",
      "metadata": {
        "id": "rIzSMlUtLxgi",
        "outputId": "dbd6a0c6-48a9-4768-a1c3-5677f4ef475d"
      },
      "source": [
        "X = imputer.transform(housing_num)\n",
        "\n",
        "# NumPy의 array이므로 다시 pandas.DataFrame으로 변환해준다.\n",
        "housing_tr = pd.DataFrame(X, columns=housing_num.columns,\n",
        "                          index=housing.index.values)\n",
        "\n",
        "# Null값이 median 값으로 잘 채워졌는지 확인\n",
        "housing_tr.loc[sample_incomplete_rows.index.values]"
      ],
      "execution_count": null,
      "outputs": [
        {
          "output_type": "execute_result",
          "data": {
            "text/html": [
              "<div>\n",
              "<style scoped>\n",
              "    .dataframe tbody tr th:only-of-type {\n",
              "        vertical-align: middle;\n",
              "    }\n",
              "\n",
              "    .dataframe tbody tr th {\n",
              "        vertical-align: top;\n",
              "    }\n",
              "\n",
              "    .dataframe thead th {\n",
              "        text-align: right;\n",
              "    }\n",
              "</style>\n",
              "<table border=\"1\" class=\"dataframe\">\n",
              "  <thead>\n",
              "    <tr style=\"text-align: right;\">\n",
              "      <th></th>\n",
              "      <th>longitude</th>\n",
              "      <th>latitude</th>\n",
              "      <th>housing_median_age</th>\n",
              "      <th>total_rooms</th>\n",
              "      <th>total_bedrooms</th>\n",
              "      <th>population</th>\n",
              "      <th>households</th>\n",
              "      <th>median_income</th>\n",
              "    </tr>\n",
              "  </thead>\n",
              "  <tbody>\n",
              "    <tr>\n",
              "      <th>4629</th>\n",
              "      <td>-118.30</td>\n",
              "      <td>34.07</td>\n",
              "      <td>18.0</td>\n",
              "      <td>3759.0</td>\n",
              "      <td>433.0</td>\n",
              "      <td>3296.0</td>\n",
              "      <td>1462.0</td>\n",
              "      <td>2.2708</td>\n",
              "    </tr>\n",
              "    <tr>\n",
              "      <th>6068</th>\n",
              "      <td>-117.86</td>\n",
              "      <td>34.01</td>\n",
              "      <td>16.0</td>\n",
              "      <td>4632.0</td>\n",
              "      <td>433.0</td>\n",
              "      <td>3038.0</td>\n",
              "      <td>727.0</td>\n",
              "      <td>5.1762</td>\n",
              "    </tr>\n",
              "    <tr>\n",
              "      <th>17923</th>\n",
              "      <td>-121.97</td>\n",
              "      <td>37.35</td>\n",
              "      <td>30.0</td>\n",
              "      <td>1955.0</td>\n",
              "      <td>433.0</td>\n",
              "      <td>999.0</td>\n",
              "      <td>386.0</td>\n",
              "      <td>4.6328</td>\n",
              "    </tr>\n",
              "    <tr>\n",
              "      <th>13656</th>\n",
              "      <td>-117.30</td>\n",
              "      <td>34.05</td>\n",
              "      <td>6.0</td>\n",
              "      <td>2155.0</td>\n",
              "      <td>433.0</td>\n",
              "      <td>1039.0</td>\n",
              "      <td>391.0</td>\n",
              "      <td>1.6675</td>\n",
              "    </tr>\n",
              "    <tr>\n",
              "      <th>19252</th>\n",
              "      <td>-122.79</td>\n",
              "      <td>38.48</td>\n",
              "      <td>7.0</td>\n",
              "      <td>6837.0</td>\n",
              "      <td>433.0</td>\n",
              "      <td>3468.0</td>\n",
              "      <td>1405.0</td>\n",
              "      <td>3.1662</td>\n",
              "    </tr>\n",
              "  </tbody>\n",
              "</table>\n",
              "</div>"
            ],
            "text/plain": [
              "       longitude  latitude  housing_median_age  total_rooms  total_bedrooms  \\\n",
              "4629     -118.30     34.07                18.0       3759.0           433.0   \n",
              "6068     -117.86     34.01                16.0       4632.0           433.0   \n",
              "17923    -121.97     37.35                30.0       1955.0           433.0   \n",
              "13656    -117.30     34.05                 6.0       2155.0           433.0   \n",
              "19252    -122.79     38.48                 7.0       6837.0           433.0   \n",
              "\n",
              "       population  households  median_income  \n",
              "4629       3296.0      1462.0         2.2708  \n",
              "6068       3038.0       727.0         5.1762  \n",
              "17923       999.0       386.0         4.6328  \n",
              "13656      1039.0       391.0         1.6675  \n",
              "19252      3468.0      1405.0         3.1662  "
            ]
          },
          "metadata": {
            "tags": []
          },
          "execution_count": 39
        }
      ]
    },
    {
      "cell_type": "markdown",
      "metadata": {
        "id": "UGB-qtLYLxgi"
      },
      "source": [
        " "
      ]
    },
    {
      "cell_type": "markdown",
      "metadata": {
        "id": "GJ4O0CxgLxgj"
      },
      "source": [
        "### 2.5.2 텍스트와 범주형 특성 다루기\n",
        "\n",
        "캘리포니아 주택가격 데이터셋에서 `ocean_proximity` 특성처럼 텍스트 형식의 범주형(categorical) 데이터는 머신러닝 알고리즘에 적용하기 위해서는 숫자형 데이터로 바꾸어 줘야 한다.\n",
        "\n",
        "`pandas`에서는 텍스트에서 숫자로 매핑해주는 `factorize()` 메소드를 제공해준다. `factorize()`는 숫자로 변환된 범주형 데이터(ndarray)와 해당 범주형 데이터의 unique한 값 두개를 반환한다."
      ]
    },
    {
      "cell_type": "code",
      "metadata": {
        "id": "45I4ArqWLxgj",
        "outputId": "c62ea093-7513-43f4-b3a5-4cc1fd85fd48"
      },
      "source": [
        "housing_cat = housing['ocean_proximity']\n",
        "housing_cat.head()"
      ],
      "execution_count": null,
      "outputs": [
        {
          "output_type": "execute_result",
          "data": {
            "text/plain": [
              "17606     <1H OCEAN\n",
              "18632     <1H OCEAN\n",
              "14650    NEAR OCEAN\n",
              "3230         INLAND\n",
              "3555      <1H OCEAN\n",
              "Name: ocean_proximity, dtype: object"
            ]
          },
          "metadata": {
            "tags": []
          },
          "execution_count": 40
        }
      ]
    },
    {
      "cell_type": "code",
      "metadata": {
        "id": "OaGvQtHYLxgj",
        "outputId": "9a7ffe45-15e0-4255-d370-e0dcc216f309"
      },
      "source": [
        "housing_cat_encoded, housing_categories = housing_cat.factorize()\n",
        "housing_cat_encoded[:10]"
      ],
      "execution_count": null,
      "outputs": [
        {
          "output_type": "execute_result",
          "data": {
            "text/plain": [
              "array([0, 0, 1, 2, 0, 2, 0, 2, 0, 0])"
            ]
          },
          "metadata": {
            "tags": []
          },
          "execution_count": 41
        }
      ]
    },
    {
      "cell_type": "code",
      "metadata": {
        "id": "L7SWzDTULxgj",
        "outputId": "63203c76-cfb3-4fe2-8ca2-133b67362d54"
      },
      "source": [
        "housing_categories"
      ],
      "execution_count": null,
      "outputs": [
        {
          "output_type": "execute_result",
          "data": {
            "text/plain": [
              "Index(['<1H OCEAN', 'NEAR OCEAN', 'INLAND', 'NEAR BAY', 'ISLAND'], dtype='object')"
            ]
          },
          "metadata": {
            "tags": []
          },
          "execution_count": 42
        }
      ]
    },
    {
      "cell_type": "markdown",
      "metadata": {
        "id": "f_OXzquvLxgj"
      },
      "source": [
        " "
      ]
    },
    {
      "cell_type": "markdown",
      "metadata": {
        "id": "6huS4wj6Lxgj"
      },
      "source": [
        "또한 scikit-learn은 범주형 데이터를 `OneHotEncoder`를 통해 **원-핫 인코딩(one-hot encoding)**을 할 수 있도록 제공해준다. `OneHotEncoder`의 반환값은 `scipy`의 sparse matrix이다. 그 이유는 카테고리 수가 많을 경우에 one-hot encoding을 하게 되면, 메모리가 많이 필요하기 때문에 이를 방지하고자, 1인 index값만 저장해준다. 이러한 scipy의 sparse matrix를 NumPy 배열로 바꾸려면 `.toarray()`메소드를 사용하면 된다."
      ]
    },
    {
      "cell_type": "code",
      "metadata": {
        "id": "5L2HvyBLLxgk",
        "outputId": "e79a22da-aab7-4ed5-915e-7f4ee8709d6a"
      },
      "source": [
        "from sklearn.preprocessing import OneHotEncoder\n",
        "\n",
        "encoder = OneHotEncoder()\n",
        "housing_cat_1hot = encoder.fit_transform(housing_cat_encoded.reshape(-1, 1))\n",
        "housing_cat_1hot"
      ],
      "execution_count": null,
      "outputs": [
        {
          "output_type": "execute_result",
          "data": {
            "text/plain": [
              "<16512x5 sparse matrix of type '<class 'numpy.float64'>'\n",
              "\twith 16512 stored elements in Compressed Sparse Row format>"
            ]
          },
          "metadata": {
            "tags": []
          },
          "execution_count": 43
        }
      ]
    },
    {
      "cell_type": "code",
      "metadata": {
        "id": "V8VrA6q-Lxgk",
        "outputId": "cf3e5c77-d89c-4b54-d167-02f6e97b209a"
      },
      "source": [
        "housing_cat_1hot.toarray()"
      ],
      "execution_count": null,
      "outputs": [
        {
          "output_type": "execute_result",
          "data": {
            "text/plain": [
              "array([[1., 0., 0., 0., 0.],\n",
              "       [1., 0., 0., 0., 0.],\n",
              "       [0., 1., 0., 0., 0.],\n",
              "       ...,\n",
              "       [0., 0., 1., 0., 0.],\n",
              "       [1., 0., 0., 0., 0.],\n",
              "       [0., 0., 0., 1., 0.]])"
            ]
          },
          "metadata": {
            "tags": []
          },
          "execution_count": 44
        }
      ]
    },
    {
      "cell_type": "markdown",
      "metadata": {
        "id": "5witk4o8Lxgk"
      },
      "source": [
        " "
      ]
    },
    {
      "cell_type": "markdown",
      "metadata": {
        "id": "oh9L1mo8Lxgl"
      },
      "source": [
        "위에서 살펴본 one-hot encoding 방법은 먼저, `pandas`의 `factorize()`를 이용해 텍스트를 숫자로 바꾼 다음, scikit-learn의 `OneHotEncoder`를 이용했다. \n",
        "\n",
        "scikit-learn의 `CategoricalEncoder`를 사용하면 위의 과정을 한번에 처리할 수 있다.\n",
        "\n",
        "`CategoricalEncoder`는 scikit-learn 0.20에서 추가될 예정(현재 버전은 0.19.1임)이어서 아래의 코드를 가져와 예제코드를 돌려본다."
      ]
    },
    {
      "cell_type": "code",
      "metadata": {
        "id": "vN-zPKPzLxgl"
      },
      "source": [
        "# [PR #9151](https://github.com/scikit-learn/scikit-learn/pull/9151)에서 가져온 CategoricalEncoder 클래스의 정의.\n",
        "# 이 클래스는 사이킷런 0.20에 포함될 예정입니다.\n",
        "\n",
        "from sklearn.base import BaseEstimator, TransformerMixin\n",
        "from sklearn.utils import check_array\n",
        "from sklearn.preprocessing import LabelEncoder\n",
        "from scipy import sparse\n",
        "\n",
        "class CategoricalEncoder(BaseEstimator, TransformerMixin):\n",
        "    \"\"\"Encode categorical features as a numeric array.\n",
        "    The input to this transformer should be a matrix of integers or strings,\n",
        "    denoting the values taken on by categorical (discrete) features.\n",
        "    The features can be encoded using a one-hot aka one-of-K scheme\n",
        "    (``encoding='onehot'``, the default) or converted to ordinal integers\n",
        "    (``encoding='ordinal'``).\n",
        "    This encoding is needed for feeding categorical data to many scikit-learn\n",
        "    estimators, notably linear models and SVMs with the standard kernels.\n",
        "    Read more in the :ref:`User Guide <preprocessing_categorical_features>`.\n",
        "    Parameters\n",
        "    ----------\n",
        "    encoding : str, 'onehot', 'onehot-dense' or 'ordinal'\n",
        "        The type of encoding to use (default is 'onehot'):\n",
        "        - 'onehot': encode the features using a one-hot aka one-of-K scheme\n",
        "          (or also called 'dummy' encoding). This creates a binary column for\n",
        "          each category and returns a sparse matrix.\n",
        "        - 'onehot-dense': the same as 'onehot' but returns a dense array\n",
        "          instead of a sparse matrix.\n",
        "        - 'ordinal': encode the features as ordinal integers. This results in\n",
        "          a single column of integers (0 to n_categories - 1) per feature.\n",
        "    categories : 'auto' or a list of lists/arrays of values.\n",
        "        Categories (unique values) per feature:\n",
        "        - 'auto' : Determine categories automatically from the training data.\n",
        "        - list : ``categories[i]`` holds the categories expected in the ith\n",
        "          column. The passed categories are sorted before encoding the data\n",
        "          (used categories can be found in the ``categories_`` attribute).\n",
        "    dtype : number type, default np.float64\n",
        "        Desired dtype of output.\n",
        "    handle_unknown : 'error' (default) or 'ignore'\n",
        "        Whether to raise an error or ignore if a unknown categorical feature is\n",
        "        present during transform (default is to raise). When this is parameter\n",
        "        is set to 'ignore' and an unknown category is encountered during\n",
        "        transform, the resulting one-hot encoded columns for this feature\n",
        "        will be all zeros.\n",
        "        Ignoring unknown categories is not supported for\n",
        "        ``encoding='ordinal'``.\n",
        "    Attributes\n",
        "    ----------\n",
        "    categories_ : list of arrays\n",
        "        The categories of each feature determined during fitting. When\n",
        "        categories were specified manually, this holds the sorted categories\n",
        "        (in order corresponding with output of `transform`).\n",
        "    Examples\n",
        "    --------\n",
        "    Given a dataset with three features and two samples, we let the encoder\n",
        "    find the maximum value per feature and transform the data to a binary\n",
        "    one-hot encoding.\n",
        "    >>> from sklearn.preprocessing import CategoricalEncoder\n",
        "    >>> enc = CategoricalEncoder(handle_unknown='ignore')\n",
        "    >>> enc.fit([[0, 0, 3], [1, 1, 0], [0, 2, 1], [1, 0, 2]])\n",
        "    ... # doctest: +ELLIPSIS\n",
        "    CategoricalEncoder(categories='auto', dtype=<... 'numpy.float64'>,\n",
        "              encoding='onehot', handle_unknown='ignore')\n",
        "    >>> enc.transform([[0, 1, 1], [1, 0, 4]]).toarray()\n",
        "    array([[ 1.,  0.,  0.,  1.,  0.,  0.,  1.,  0.,  0.],\n",
        "           [ 0.,  1.,  1.,  0.,  0.,  0.,  0.,  0.,  0.]])\n",
        "    See also\n",
        "    --------\n",
        "    sklearn.preprocessing.OneHotEncoder : performs a one-hot encoding of\n",
        "      integer ordinal features. The ``OneHotEncoder assumes`` that input\n",
        "      features take on values in the range ``[0, max(feature)]`` instead of\n",
        "      using the unique values.\n",
        "    sklearn.feature_extraction.DictVectorizer : performs a one-hot encoding of\n",
        "      dictionary items (also handles string-valued features).\n",
        "    sklearn.feature_extraction.FeatureHasher : performs an approximate one-hot\n",
        "      encoding of dictionary items or strings.\n",
        "    \"\"\"\n",
        "\n",
        "    def __init__(self, encoding='onehot', categories='auto', dtype=np.float64,\n",
        "                 handle_unknown='error'):\n",
        "        self.encoding = encoding\n",
        "        self.categories = categories\n",
        "        self.dtype = dtype\n",
        "        self.handle_unknown = handle_unknown\n",
        "\n",
        "    def fit(self, X, y=None):\n",
        "        \"\"\"Fit the CategoricalEncoder to X.\n",
        "        Parameters\n",
        "        ----------\n",
        "        X : array-like, shape [n_samples, n_feature]\n",
        "            The data to determine the categories of each feature.\n",
        "        Returns\n",
        "        -------\n",
        "        self\n",
        "        \"\"\"\n",
        "\n",
        "        if self.encoding not in ['onehot', 'onehot-dense', 'ordinal']:\n",
        "            template = (\"encoding should be either 'onehot', 'onehot-dense' \"\n",
        "                        \"or 'ordinal', got %s\")\n",
        "            raise ValueError(template % self.handle_unknown)\n",
        "\n",
        "        if self.handle_unknown not in ['error', 'ignore']:\n",
        "            template = (\"handle_unknown should be either 'error' or \"\n",
        "                        \"'ignore', got %s\")\n",
        "            raise ValueError(template % self.handle_unknown)\n",
        "\n",
        "        if self.encoding == 'ordinal' and self.handle_unknown == 'ignore':\n",
        "            raise ValueError(\"handle_unknown='ignore' is not supported for\"\n",
        "                             \" encoding='ordinal'\")\n",
        "\n",
        "        X = check_array(X, dtype=np.object, accept_sparse='csc', copy=True)\n",
        "        n_samples, n_features = X.shape\n",
        "\n",
        "        self._label_encoders_ = [LabelEncoder() for _ in range(n_features)]\n",
        "\n",
        "        for i in range(n_features):\n",
        "            le = self._label_encoders_[i]\n",
        "            Xi = X[:, i]\n",
        "            if self.categories == 'auto':\n",
        "                le.fit(Xi)\n",
        "            else:\n",
        "                valid_mask = np.in1d(Xi, self.categories[i])\n",
        "                if not np.all(valid_mask):\n",
        "                    if self.handle_unknown == 'error':\n",
        "                        diff = np.unique(Xi[~valid_mask])\n",
        "                        msg = (\"Found unknown categories {0} in column {1}\"\n",
        "                               \" during fit\".format(diff, i))\n",
        "                        raise ValueError(msg)\n",
        "                le.classes_ = np.array(np.sort(self.categories[i]))\n",
        "\n",
        "        self.categories_ = [le.classes_ for le in self._label_encoders_]\n",
        "\n",
        "        return self\n",
        "\n",
        "    def transform(self, X):\n",
        "        \"\"\"Transform X using one-hot encoding.\n",
        "        Parameters\n",
        "        ----------\n",
        "        X : array-like, shape [n_samples, n_features]\n",
        "            The data to encode.\n",
        "        Returns\n",
        "        -------\n",
        "        X_out : sparse matrix or a 2-d array\n",
        "            Transformed input.\n",
        "        \"\"\"\n",
        "        X = check_array(X, accept_sparse='csc', dtype=np.object, copy=True)\n",
        "        n_samples, n_features = X.shape\n",
        "        X_int = np.zeros_like(X, dtype=np.int)\n",
        "        X_mask = np.ones_like(X, dtype=np.bool)\n",
        "\n",
        "        for i in range(n_features):\n",
        "            valid_mask = np.in1d(X[:, i], self.categories_[i])\n",
        "\n",
        "            if not np.all(valid_mask):\n",
        "                if self.handle_unknown == 'error':\n",
        "                    diff = np.unique(X[~valid_mask, i])\n",
        "                    msg = (\"Found unknown categories {0} in column {1}\"\n",
        "                           \" during transform\".format(diff, i))\n",
        "                    raise ValueError(msg)\n",
        "                else:\n",
        "                    # Set the problematic rows to an acceptable value and\n",
        "                    # continue `The rows are marked `X_mask` and will be\n",
        "                    # removed later.\n",
        "                    X_mask[:, i] = valid_mask\n",
        "                    X[:, i][~valid_mask] = self.categories_[i][0]\n",
        "            X_int[:, i] = self._label_encoders_[i].transform(X[:, i])\n",
        "\n",
        "        if self.encoding == 'ordinal':\n",
        "            return X_int.astype(self.dtype, copy=False)\n",
        "\n",
        "        mask = X_mask.ravel()\n",
        "        n_values = [cats.shape[0] for cats in self.categories_]\n",
        "        n_values = np.array([0] + n_values)\n",
        "        indices = np.cumsum(n_values)\n",
        "\n",
        "        column_indices = (X_int + indices[:-1]).ravel()[mask]\n",
        "        row_indices = np.repeat(np.arange(n_samples, dtype=np.int32),\n",
        "                                n_features)[mask]\n",
        "        data = np.ones(n_samples * n_features)[mask]\n",
        "\n",
        "        out = sparse.csc_matrix((data, (row_indices, column_indices)),\n",
        "                                shape=(n_samples, indices[-1]),\n",
        "                                dtype=self.dtype).tocsr()\n",
        "        if self.encoding == 'onehot-dense':\n",
        "            return out.toarray()\n",
        "        else:\n",
        "            return out"
      ],
      "execution_count": null,
      "outputs": []
    },
    {
      "cell_type": "code",
      "metadata": {
        "id": "ifldIwbdLxgm",
        "outputId": "3f48d4b8-98ec-4588-8f60-94f67753b4f7"
      },
      "source": [
        "cat_encoder = CategoricalEncoder()\n",
        "housing_cat_reshaped = housing_cat.values.reshape(-1, 1)\n",
        "housing_cat_1hot = cat_encoder.fit_transform(housing_cat_reshaped)\n",
        "housing_cat_1hot"
      ],
      "execution_count": null,
      "outputs": [
        {
          "output_type": "execute_result",
          "data": {
            "text/plain": [
              "<16512x5 sparse matrix of type '<class 'numpy.float64'>'\n",
              "\twith 16512 stored elements in Compressed Sparse Row format>"
            ]
          },
          "metadata": {
            "tags": []
          },
          "execution_count": 46
        }
      ]
    },
    {
      "cell_type": "code",
      "metadata": {
        "id": "mu2fdixQLxgm",
        "outputId": "ef377461-0181-4370-f6b6-5207c2cac31c"
      },
      "source": [
        "housing_cat_1hot.toarray()"
      ],
      "execution_count": null,
      "outputs": [
        {
          "output_type": "execute_result",
          "data": {
            "text/plain": [
              "array([[1., 0., 0., 0., 0.],\n",
              "       [1., 0., 0., 0., 0.],\n",
              "       [0., 0., 0., 0., 1.],\n",
              "       ...,\n",
              "       [0., 1., 0., 0., 0.],\n",
              "       [1., 0., 0., 0., 0.],\n",
              "       [0., 0., 0., 1., 0.]])"
            ]
          },
          "metadata": {
            "tags": []
          },
          "execution_count": 47
        }
      ]
    },
    {
      "cell_type": "code",
      "metadata": {
        "id": "G-dy_zGVLxgm",
        "outputId": "93082e33-48f7-4234-c04c-7931605b9638"
      },
      "source": [
        "cat_encoder.categories_"
      ],
      "execution_count": null,
      "outputs": [
        {
          "output_type": "execute_result",
          "data": {
            "text/plain": [
              "[array(['<1H OCEAN', 'INLAND', 'ISLAND', 'NEAR BAY', 'NEAR OCEAN'],\n",
              "       dtype=object)]"
            ]
          },
          "metadata": {
            "tags": []
          },
          "execution_count": 48
        }
      ]
    },
    {
      "cell_type": "markdown",
      "metadata": {
        "id": "bUW4YxSCLxgm"
      },
      "source": [
        " "
      ]
    },
    {
      "cell_type": "markdown",
      "metadata": {
        "id": "nj8qHytjLxgm"
      },
      "source": [
        "### 2.5.3 나만의 변환기\n",
        "\n",
        "Scikit-Learn에서는 데이터 전처리와 관련하여 다양한 기능들을 제공한다. 하지만, 경우에 따라서는 scikit-learn에서 제공하지 않는 데이터 처리가 필요로 할때가 있다. \n",
        "\n",
        "이번에는 직접 데이터 처리를하는 변환기(Transformer) 클래스를 만들어 scikit-learn과 연동해보는 것을 알아보도록 하자.\n",
        "\n",
        "Scikit-learn은 덕 타이핑(duck typing)을 지원하기 때문에, 새롭게 만들어줄 변환기 클래스 안에 `fit(), transform(), fit_transform()` 메서드를 구현 해주면 된다. "
      ]
    },
    {
      "cell_type": "code",
      "metadata": {
        "id": "6ewgwc59Lxgn"
      },
      "source": [
        "from sklearn.base import BaseEstimator, TransformerMixin\n",
        "\n",
        "rooms_ix, bedrooms_ix, population_ix, household_ix = 3, 4, 5, 6\n",
        "\n",
        "class CombinedAttributesAdder(BaseEstimator, TransformerMixin):\n",
        "    def __init__(self, add_bedrooms_per_room=True):  # no *args or **kargs\n",
        "        self.add_bedrooms_per_room = add_bedrooms_per_room\n",
        "        \n",
        "    def fit(self, X, y=None):\n",
        "        return self\n",
        "    \n",
        "    def transform(self, X, y=None):\n",
        "        rooms_per_household = X[:, rooms_ix] / X[:, household_ix]\n",
        "        population_per_household = X[:, population_ix] / X[:, household_ix]\n",
        "        if self.add_bedrooms_per_room:\n",
        "            bedrooms_per_room = X[:, bedrooms_ix] / X[:, rooms_ix]\n",
        "            return np.c_[X, rooms_per_household, population_per_household,\n",
        "                         bedrooms_per_room]\n",
        "        else:\n",
        "            return np.c_[X, rooms_per_household, population_per_household]\n",
        "        \n",
        "\n",
        "attr_adder = CombinedAttributesAdder(add_bedrooms_per_room=False)\n",
        "housing_extra_attribs = attr_adder.transform(housing.values)"
      ],
      "execution_count": null,
      "outputs": []
    },
    {
      "cell_type": "code",
      "metadata": {
        "id": "lM-ZuM7YLxgn",
        "outputId": "50cd3e14-48f5-4798-95b9-8a1dc6b504aa"
      },
      "source": [
        "housing_extra_attribs = pd.DataFrame(\n",
        "    housing_extra_attribs, \n",
        "    columns=list(housing.columns)+[\"rooms_per_household\", \"population_per_household\"])\n",
        "housing_extra_attribs.head()"
      ],
      "execution_count": null,
      "outputs": [
        {
          "output_type": "execute_result",
          "data": {
            "text/html": [
              "<div>\n",
              "<style scoped>\n",
              "    .dataframe tbody tr th:only-of-type {\n",
              "        vertical-align: middle;\n",
              "    }\n",
              "\n",
              "    .dataframe tbody tr th {\n",
              "        vertical-align: top;\n",
              "    }\n",
              "\n",
              "    .dataframe thead th {\n",
              "        text-align: right;\n",
              "    }\n",
              "</style>\n",
              "<table border=\"1\" class=\"dataframe\">\n",
              "  <thead>\n",
              "    <tr style=\"text-align: right;\">\n",
              "      <th></th>\n",
              "      <th>longitude</th>\n",
              "      <th>latitude</th>\n",
              "      <th>housing_median_age</th>\n",
              "      <th>total_rooms</th>\n",
              "      <th>total_bedrooms</th>\n",
              "      <th>population</th>\n",
              "      <th>households</th>\n",
              "      <th>median_income</th>\n",
              "      <th>ocean_proximity</th>\n",
              "      <th>rooms_per_household</th>\n",
              "      <th>population_per_household</th>\n",
              "    </tr>\n",
              "  </thead>\n",
              "  <tbody>\n",
              "    <tr>\n",
              "      <th>0</th>\n",
              "      <td>-121.89</td>\n",
              "      <td>37.29</td>\n",
              "      <td>38</td>\n",
              "      <td>1568</td>\n",
              "      <td>351</td>\n",
              "      <td>710</td>\n",
              "      <td>339</td>\n",
              "      <td>2.7042</td>\n",
              "      <td>&lt;1H OCEAN</td>\n",
              "      <td>4.62537</td>\n",
              "      <td>2.0944</td>\n",
              "    </tr>\n",
              "    <tr>\n",
              "      <th>1</th>\n",
              "      <td>-121.93</td>\n",
              "      <td>37.05</td>\n",
              "      <td>14</td>\n",
              "      <td>679</td>\n",
              "      <td>108</td>\n",
              "      <td>306</td>\n",
              "      <td>113</td>\n",
              "      <td>6.4214</td>\n",
              "      <td>&lt;1H OCEAN</td>\n",
              "      <td>6.00885</td>\n",
              "      <td>2.70796</td>\n",
              "    </tr>\n",
              "    <tr>\n",
              "      <th>2</th>\n",
              "      <td>-117.2</td>\n",
              "      <td>32.77</td>\n",
              "      <td>31</td>\n",
              "      <td>1952</td>\n",
              "      <td>471</td>\n",
              "      <td>936</td>\n",
              "      <td>462</td>\n",
              "      <td>2.8621</td>\n",
              "      <td>NEAR OCEAN</td>\n",
              "      <td>4.22511</td>\n",
              "      <td>2.02597</td>\n",
              "    </tr>\n",
              "    <tr>\n",
              "      <th>3</th>\n",
              "      <td>-119.61</td>\n",
              "      <td>36.31</td>\n",
              "      <td>25</td>\n",
              "      <td>1847</td>\n",
              "      <td>371</td>\n",
              "      <td>1460</td>\n",
              "      <td>353</td>\n",
              "      <td>1.8839</td>\n",
              "      <td>INLAND</td>\n",
              "      <td>5.23229</td>\n",
              "      <td>4.13598</td>\n",
              "    </tr>\n",
              "    <tr>\n",
              "      <th>4</th>\n",
              "      <td>-118.59</td>\n",
              "      <td>34.23</td>\n",
              "      <td>17</td>\n",
              "      <td>6592</td>\n",
              "      <td>1525</td>\n",
              "      <td>4459</td>\n",
              "      <td>1463</td>\n",
              "      <td>3.0347</td>\n",
              "      <td>&lt;1H OCEAN</td>\n",
              "      <td>4.50581</td>\n",
              "      <td>3.04785</td>\n",
              "    </tr>\n",
              "  </tbody>\n",
              "</table>\n",
              "</div>"
            ],
            "text/plain": [
              "  longitude latitude housing_median_age total_rooms total_bedrooms population  \\\n",
              "0   -121.89    37.29                 38        1568            351        710   \n",
              "1   -121.93    37.05                 14         679            108        306   \n",
              "2    -117.2    32.77                 31        1952            471        936   \n",
              "3   -119.61    36.31                 25        1847            371       1460   \n",
              "4   -118.59    34.23                 17        6592           1525       4459   \n",
              "\n",
              "  households median_income ocean_proximity rooms_per_household  \\\n",
              "0        339        2.7042       <1H OCEAN             4.62537   \n",
              "1        113        6.4214       <1H OCEAN             6.00885   \n",
              "2        462        2.8621      NEAR OCEAN             4.22511   \n",
              "3        353        1.8839          INLAND             5.23229   \n",
              "4       1463        3.0347       <1H OCEAN             4.50581   \n",
              "\n",
              "  population_per_household  \n",
              "0                   2.0944  \n",
              "1                  2.70796  \n",
              "2                  2.02597  \n",
              "3                  4.13598  \n",
              "4                  3.04785  "
            ]
          },
          "metadata": {
            "tags": []
          },
          "execution_count": 50
        }
      ]
    },
    {
      "cell_type": "markdown",
      "metadata": {
        "id": "7L5EALS8Lxgn"
      },
      "source": [
        " "
      ]
    },
    {
      "cell_type": "markdown",
      "metadata": {
        "id": "6XfQxATzLxgn"
      },
      "source": [
        "### 2.5.4 특성 스케일링\n",
        "\n",
        "모든 특성의 범위를 같도록 만들어주는 방법으로는 **min-max 스케일링**과 **표준화(standardization)**가 가장 많이 사용된다. 모든 특성의 범위를 같게 해주는 이유는 머신러닝 알고리즘은 입력 데이터 특성들의 스케일이 많이 다를 경우 잘 작동하지 않기 때문이다."
      ]
    },
    {
      "cell_type": "markdown",
      "metadata": {
        "id": "1NAPHVwsLxgn"
      },
      "source": [
        "#### sklearn.preprocessing.[MinMaxScaler](http://scikit-learn.org/stable/modules/generated/sklearn.preprocessing.MinMaxScaler.html#sklearn.preprocessing.MinMaxScaler)\n",
        "\n",
        "- `MinMaxScaler`는 모든 특성이 정확하게 0과 1사이에 위치하도록 데이터를 변경함\n",
        "- 정규화(normalization)이라고도 함\n",
        "\n",
        "$$\n",
        "\\frac{x - x_{\\text{min}}}{x_{\\text{max}} - x_{\\text{min}}}\n",
        "$$"
      ]
    },
    {
      "cell_type": "code",
      "metadata": {
        "id": "gAuJBT3NLxgn",
        "outputId": "ddf0b791-7ea1-4c5f-96d4-cd415243b995"
      },
      "source": [
        "from sklearn.preprocessing import MinMaxScaler\n",
        "\n",
        "data = [[-1, 2], [-0.5, 6], [0, 10], [1, 18]]\n",
        "scaler = MinMaxScaler()\n",
        "print(scaler.fit(data))\n",
        "print(\"max of data = \", scaler.data_max_)\n",
        "print(\"min of data = \", scaler.data_min_)\n",
        "print(\"data range = \", scaler.data_range_)\n",
        "print(\"<data scaling> \\n\", scaler.transform(data))\n",
        "print('[2, 2] minmax scaling =', scaler.transform([[2, 2]]))"
      ],
      "execution_count": null,
      "outputs": [
        {
          "output_type": "stream",
          "text": [
            "MinMaxScaler(copy=True, feature_range=(0, 1))\n",
            "max of data =  [ 1. 18.]\n",
            "min of data =  [-1.  2.]\n",
            "data range =  [ 2. 16.]\n",
            "<data scaling> \n",
            " [[0.   0.  ]\n",
            " [0.25 0.25]\n",
            " [0.5  0.5 ]\n",
            " [1.   1.  ]]\n",
            "[2, 2] minmax scaling = [[1.5 0. ]]\n"
          ],
          "name": "stdout"
        }
      ]
    },
    {
      "cell_type": "markdown",
      "metadata": {
        "id": "t09xRm8GLxgo"
      },
      "source": [
        "#### sklearn.preprocessing.[StandardScaler](http://scikit-learn.org/stable/modules/generated/sklearn.preprocessing.StandardScaler.html)\n",
        "\n",
        "- 각 특성(feature)의 평균을 0 ($\\mu = 0$), 분산을 1 ($\\sigma^2 = 1$)인 **표준 정규분포** $N(\\mu, \\sigma^2) = N(0, 1)$로 변경하여 모든 특성이 같은 크기를 가지게 함\n",
        "- `StandardScaler`를 구하는 공식은 다음과 같으며, **Z-Score**라고 함\n",
        "\n",
        "$$\n",
        "z = \\frac{\\text{data point} - \\text{mean}}{\\text{standard deviation}} = \\frac{x - \\mu}{\\sigma}\n",
        "$$\n",
        "\n",
        "- `StandardScalere`는 특성의 최소값(min)과 최대값(max) 크기를 제한하지는 않음"
      ]
    },
    {
      "cell_type": "code",
      "metadata": {
        "id": "BtzGoIu_Lxgo",
        "outputId": "5cc00040-d802-4e6d-cae4-b118dd45beb5"
      },
      "source": [
        "from sklearn.preprocessing import StandardScaler\n",
        "\n",
        "data = [[0, 0], [0, 0], [1, 1], [1, 1]]\n",
        "scaler = StandardScaler()\n",
        "print(scaler.fit(data))\n",
        "print('mean = ', scaler.mean_)\n",
        "print('variance = ', scaler.var_)\n",
        "print('z-score = \\n', scaler.transform(data))\n",
        "print('[2, 2] transformation result = ', scaler.transform([[2, 2]]))"
      ],
      "execution_count": null,
      "outputs": [
        {
          "output_type": "stream",
          "text": [
            "StandardScaler(copy=True, with_mean=True, with_std=True)\n",
            "mean =  [0.5 0.5]\n",
            "variance =  [0.25 0.25]\n",
            "z-score = \n",
            " [[-1. -1.]\n",
            " [-1. -1.]\n",
            " [ 1.  1.]\n",
            " [ 1.  1.]]\n",
            "[2, 2] transformation result =  [[3. 3.]]\n"
          ],
          "name": "stdout"
        }
      ]
    },
    {
      "cell_type": "markdown",
      "metadata": {
        "id": "mlasX19LLxgo"
      },
      "source": [
        " "
      ]
    },
    {
      "cell_type": "markdown",
      "metadata": {
        "id": "lTJqajXlLxgo"
      },
      "source": [
        "### 2.5.5 변환 파이프라인\n",
        "\n",
        "Scikit-Learn은 데이터 전처리와 관련된 일련의 과정들을 순서대로 처리할 수 있도록 `Pipeline`이라는 클래스를 제공해줘, 데이터 전처리와 관련된 파이프라인을 구성할 수 있다."
      ]
    },
    {
      "cell_type": "code",
      "metadata": {
        "id": "bVsnYj0kLxgo"
      },
      "source": [
        "from sklearn.pipeline import Pipeline\n",
        "from sklearn.preprocessing import StandardScaler\n",
        "\n",
        "num_pipeline = Pipeline([\n",
        "    ('imputer', Imputer(strategy='median')),\n",
        "    ('attribs_adder', CombinedAttributesAdder()),\n",
        "    ('std_scaler', StandardScaler()),\n",
        "])\n",
        "\n",
        "housing_num_tr = num_pipeline.fit_transform(housing_num)"
      ],
      "execution_count": null,
      "outputs": []
    },
    {
      "cell_type": "code",
      "metadata": {
        "id": "vuK6yHRyLxgp",
        "outputId": "d4069da2-7ed4-4406-b23d-79d56192d994"
      },
      "source": [
        "housing_num_tr"
      ],
      "execution_count": null,
      "outputs": [
        {
          "output_type": "execute_result",
          "data": {
            "text/plain": [
              "array([[-1.15604281,  0.77194962,  0.74333089, ..., -0.31205452,\n",
              "        -0.08649871,  0.15531753],\n",
              "       [-1.17602483,  0.6596948 , -1.1653172 , ...,  0.21768338,\n",
              "        -0.03353391, -0.83628902],\n",
              "       [ 1.18684903, -1.34218285,  0.18664186, ..., -0.46531516,\n",
              "        -0.09240499,  0.4222004 ],\n",
              "       ...,\n",
              "       [ 1.58648943, -0.72478134, -1.56295222, ...,  0.3469342 ,\n",
              "        -0.03055414, -0.52177644],\n",
              "       [ 0.78221312, -0.85106801,  0.18664186, ...,  0.02499488,\n",
              "         0.06150916, -0.30340741],\n",
              "       [-1.43579109,  0.99645926,  1.85670895, ..., -0.22852947,\n",
              "        -0.09586294,  0.10180567]])"
            ]
          },
          "metadata": {
            "tags": []
          },
          "execution_count": 54
        }
      ]
    },
    {
      "cell_type": "markdown",
      "metadata": {
        "id": "c2yDYQP4Lxgp"
      },
      "source": [
        " "
      ]
    },
    {
      "cell_type": "markdown",
      "metadata": {
        "id": "lUJk2Z5oLxgp"
      },
      "source": [
        "#### pandas의 DataFrame을 처리할 수 있는 변환기 만들기\n",
        "\n",
        "Scikit-Learn은 Pandas의 DataFrame을 직접 다룰 수 없기 때문에 NumPy의 `array`로 변환해 줘야한다. 따라서, 이를 처리해주는 변환기를 직접 만들어 보고 `Pipeline`에 적용해보자."
      ]
    },
    {
      "cell_type": "code",
      "metadata": {
        "id": "spjOO2XrLxgp"
      },
      "source": [
        "from sklearn.base import BaseEstimator, TransformerMixin\n",
        "\n",
        "class DataFrameSelector(BaseEstimator, TransformerMixin):\n",
        "    def __init__(self, attribute_names):\n",
        "        self.attribute_names = attribute_names\n",
        "        \n",
        "    def fit(self, X, y=None):\n",
        "        return self\n",
        "    \n",
        "    def transform(self, X):\n",
        "        return X[self.attribute_names].values"
      ],
      "execution_count": null,
      "outputs": []
    },
    {
      "cell_type": "code",
      "metadata": {
        "id": "avRuB1sTLxgp"
      },
      "source": [
        "num_attribs = housing_num.columns.tolist()\n",
        "cat_attribs = ['ocean_proximity']\n",
        "\n",
        "num_pipeline = Pipeline([\n",
        "    ('selector', DataFrameSelector(num_attribs)),\n",
        "    ('imputer', Imputer(strategy=\"median\")),\n",
        "    ('attribs_adder', CombinedAttributesAdder()),\n",
        "    ('std_scaler', StandardScaler()),\n",
        "])\n",
        "\n",
        "cat_pipeline = Pipeline([\n",
        "    ('selector', DataFrameSelector(cat_attribs)),\n",
        "    ('cat_encoder', CategoricalEncoder(encoding=\"onehot-dense\")),\n",
        "])"
      ],
      "execution_count": null,
      "outputs": []
    },
    {
      "cell_type": "code",
      "metadata": {
        "id": "Jaqex_RBLxgp",
        "outputId": "a10e9b76-a11b-4346-e333-00e937e70a32"
      },
      "source": [
        "housing_cat_tr = cat_pipeline.fit_transform(housing)\n",
        "housing_cat_tr"
      ],
      "execution_count": null,
      "outputs": [
        {
          "output_type": "execute_result",
          "data": {
            "text/plain": [
              "array([[1., 0., 0., 0., 0.],\n",
              "       [1., 0., 0., 0., 0.],\n",
              "       [0., 0., 0., 0., 1.],\n",
              "       ...,\n",
              "       [0., 1., 0., 0., 0.],\n",
              "       [1., 0., 0., 0., 0.],\n",
              "       [0., 0., 0., 1., 0.]])"
            ]
          },
          "metadata": {
            "tags": []
          },
          "execution_count": 57
        }
      ]
    },
    {
      "cell_type": "markdown",
      "metadata": {
        "id": "VsAN7hY9Lxgq"
      },
      "source": [
        " "
      ]
    },
    {
      "cell_type": "markdown",
      "metadata": {
        "id": "Rsm6Lb8oLxgq"
      },
      "source": [
        "#### 두 파이프라인 합치기\n",
        "\n",
        "`FeatureUnion`을 이용해 위의 두 파이프라인을 합칠 수 있다. "
      ]
    },
    {
      "cell_type": "code",
      "metadata": {
        "id": "WjwbNHFhLxgq"
      },
      "source": [
        "from sklearn.pipeline import FeatureUnion\n",
        "\n",
        "full_pipeline = FeatureUnion(transformer_list=[\n",
        "        ('num_pipeline', num_pipeline),\n",
        "        ('cat_pipeline', cat_pipeline),\n",
        "])"
      ],
      "execution_count": null,
      "outputs": []
    },
    {
      "cell_type": "code",
      "metadata": {
        "id": "mPdllX2JLxgq",
        "outputId": "6cbdabe3-025e-4fc6-e232-e34243434374"
      },
      "source": [
        "housing_prepared = full_pipeline.fit_transform(housing)\n",
        "housing_prepared"
      ],
      "execution_count": null,
      "outputs": [
        {
          "output_type": "execute_result",
          "data": {
            "text/plain": [
              "array([[-1.15604281,  0.77194962,  0.74333089, ...,  0.        ,\n",
              "         0.        ,  0.        ],\n",
              "       [-1.17602483,  0.6596948 , -1.1653172 , ...,  0.        ,\n",
              "         0.        ,  0.        ],\n",
              "       [ 1.18684903, -1.34218285,  0.18664186, ...,  0.        ,\n",
              "         0.        ,  1.        ],\n",
              "       ...,\n",
              "       [ 1.58648943, -0.72478134, -1.56295222, ...,  0.        ,\n",
              "         0.        ,  0.        ],\n",
              "       [ 0.78221312, -0.85106801,  0.18664186, ...,  0.        ,\n",
              "         0.        ,  0.        ],\n",
              "       [-1.43579109,  0.99645926,  1.85670895, ...,  0.        ,\n",
              "         1.        ,  0.        ]])"
            ]
          },
          "metadata": {
            "tags": []
          },
          "execution_count": 59
        }
      ]
    },
    {
      "cell_type": "code",
      "metadata": {
        "id": "0QaOgtWgLxgq",
        "outputId": "b0d040c4-5b9c-4652-8b81-9f824df53b72"
      },
      "source": [
        "print('housing_prepared.shape :', housing_prepared.shape)"
      ],
      "execution_count": null,
      "outputs": [
        {
          "output_type": "stream",
          "text": [
            "housing_prepared.shape : (16512, 16)\n"
          ],
          "name": "stdout"
        }
      ]
    },
    {
      "cell_type": "markdown",
      "metadata": {
        "id": "TKFvFkT3Lxgr"
      },
      "source": [
        " "
      ]
    },
    {
      "cell_type": "markdown",
      "metadata": {
        "id": "rn-RDyZfLxgr"
      },
      "source": [
        "## 2.6 모델 선택과 훈련"
      ]
    },
    {
      "cell_type": "markdown",
      "metadata": {
        "id": "PmI5UePSLxgr"
      },
      "source": [
        "### 2.6.1 훈련 세트에서 훈련하고 평가하기"
      ]
    },
    {
      "cell_type": "markdown",
      "metadata": {
        "id": "unBXCMVQLxgr"
      },
      "source": [
        "#### Linear Regression"
      ]
    },
    {
      "cell_type": "code",
      "metadata": {
        "id": "k9UV0a7oLxgr",
        "outputId": "c8cf00cd-1c78-4a67-f871-cce5aeb7240c"
      },
      "source": [
        "from sklearn.linear_model import LinearRegression\n",
        "\n",
        "lin_reg = LinearRegression()\n",
        "lin_reg.fit(housing_prepared, housing_labels)"
      ],
      "execution_count": null,
      "outputs": [
        {
          "output_type": "execute_result",
          "data": {
            "text/plain": [
              "LinearRegression(copy_X=True, fit_intercept=True, n_jobs=1, normalize=False)"
            ]
          },
          "metadata": {
            "tags": []
          },
          "execution_count": 61
        }
      ]
    },
    {
      "cell_type": "code",
      "metadata": {
        "id": "xY7slVMmLxgr",
        "outputId": "4b6ad750-ff39-4219-b193-2412d7cad431"
      },
      "source": [
        "# 훈련 샘플 몇 개를 사용해 전체 파이프라인을 적용해 보기\n",
        "some_data = housing.iloc[:5]\n",
        "some_labels = housing_labels.iloc[:5]\n",
        "some_data_prepared = full_pipeline.transform(some_data)\n",
        "\n",
        "print(\"예측:\", lin_reg.predict(some_data_prepared))\n",
        "print(\"레이블:\", list(some_labels))"
      ],
      "execution_count": null,
      "outputs": [
        {
          "output_type": "stream",
          "text": [
            "예측: [210644.60459286 317768.80697211 210956.43331178  59218.98886849\n",
            " 189747.55849879]\n",
            "레이블: [286600.0, 340600.0, 196900.0, 46300.0, 254500.0]\n"
          ],
          "name": "stdout"
        }
      ]
    },
    {
      "cell_type": "code",
      "metadata": {
        "id": "UWI6m6HRLxgs",
        "outputId": "735eb330-0252-42f6-c134-ddaef34982e7"
      },
      "source": [
        "from sklearn.metrics import mean_squared_error\n",
        "\n",
        "housing_predictions = lin_reg.predict(housing_prepared)\n",
        "lin_mse = mean_squared_error(housing_labels, housing_predictions)\n",
        "lin_rmse = np.sqrt(lin_mse)\n",
        "print('RMSE :', lin_rmse)"
      ],
      "execution_count": null,
      "outputs": [
        {
          "output_type": "stream",
          "text": [
            "RMSE : 68628.19819848922\n"
          ],
          "name": "stdout"
        }
      ]
    },
    {
      "cell_type": "markdown",
      "metadata": {
        "id": "AcPt61fPLxgs"
      },
      "source": [
        " "
      ]
    },
    {
      "cell_type": "markdown",
      "metadata": {
        "id": "VXLQg4nnLxgs"
      },
      "source": [
        "#### DecisionTree"
      ]
    },
    {
      "cell_type": "code",
      "metadata": {
        "id": "zfrfqX9iLxgs",
        "outputId": "ac2d44de-b900-4792-fef1-912c86af2cbe"
      },
      "source": [
        "from sklearn.tree import DecisionTreeRegressor\n",
        "\n",
        "tree_reg = DecisionTreeRegressor()\n",
        "tree_reg.fit(housing_prepared, housing_labels)"
      ],
      "execution_count": null,
      "outputs": [
        {
          "output_type": "execute_result",
          "data": {
            "text/plain": [
              "DecisionTreeRegressor(criterion='mse', max_depth=None, max_features=None,\n",
              "           max_leaf_nodes=None, min_impurity_decrease=0.0,\n",
              "           min_impurity_split=None, min_samples_leaf=1,\n",
              "           min_samples_split=2, min_weight_fraction_leaf=0.0,\n",
              "           presort=False, random_state=None, splitter='best')"
            ]
          },
          "metadata": {
            "tags": []
          },
          "execution_count": 64
        }
      ]
    },
    {
      "cell_type": "code",
      "metadata": {
        "id": "Cwyur1_VLxgs",
        "outputId": "d400583b-f75e-42c0-c243-93cbbe8a2149"
      },
      "source": [
        "housing_predictions = tree_reg.predict(housing_prepared)\n",
        "tree_mse = mean_squared_error(housing_labels, housing_predictions)\n",
        "tree_rmse = np.sqrt(tree_mse)\n",
        "print('RMSE :', tree_rmse)"
      ],
      "execution_count": null,
      "outputs": [
        {
          "output_type": "stream",
          "text": [
            "RMSE : 0.0\n"
          ],
          "name": "stdout"
        }
      ]
    },
    {
      "cell_type": "markdown",
      "metadata": {
        "id": "hot3Bc_FLxgt"
      },
      "source": [
        " "
      ]
    },
    {
      "cell_type": "markdown",
      "metadata": {
        "id": "8G5ws-Z6Lxgt"
      },
      "source": [
        "### 2.6.2 교차 검증을 사용한 평가\n",
        "\n",
        "sklearn.model_selection.[cross_val_score]() 함수로 K-Fold Cross-Validation이 구현되어 있다.\n",
        "- **Parameters:**\n",
        "    - **estimator**: 평가하기 위한 모델\n",
        "    - **X**: Training set\n",
        "    - **y**: Training set Label\n",
        "    - **cv**: K-fold 에서 K 설정 하는 파라미터 (default=3)"
      ]
    },
    {
      "cell_type": "code",
      "metadata": {
        "id": "0icliRpkLxgt"
      },
      "source": [
        "from sklearn.model_selection import cross_val_score\n",
        "\n",
        "scores = cross_val_score(tree_reg, housing_prepared, housing_labels,\n",
        "                         scoring='neg_mean_squared_error', cv=10)\n",
        "tree_rmse_scores = np.sqrt(-scores)"
      ],
      "execution_count": null,
      "outputs": []
    },
    {
      "cell_type": "code",
      "metadata": {
        "id": "hLt_Kw2sLxgt",
        "outputId": "de28966d-ab41-44dd-a154-c65bcfa692fc"
      },
      "source": [
        "def display_scores(scores):\n",
        "    print(\"점수:\", scores)\n",
        "    print(\"평균:\", scores.mean())\n",
        "    print(\"표준편차:\", scores.std())\n",
        "\n",
        "# DecisionTree\n",
        "display_scores(tree_rmse_scores)"
      ],
      "execution_count": null,
      "outputs": [
        {
          "output_type": "stream",
          "text": [
            "점수: [69316.02634772 65498.84994772 71404.25935862 69098.46240168\n",
            " 70580.30735263 75540.88413124 69717.93143674 70428.42648461\n",
            " 75888.17618283 68976.12268448]\n",
            "평균: 70644.94463282847\n",
            "표준편차: 2938.9378926251234\n"
          ],
          "name": "stdout"
        }
      ]
    },
    {
      "cell_type": "code",
      "metadata": {
        "id": "vHD_-X8bLxgt",
        "outputId": "16b3a284-fb5a-4481-cd16-6232744d5918"
      },
      "source": [
        "# Linear Regression\n",
        "lin_scores = cross_val_score(lin_reg, housing_prepared, housing_labels,\n",
        "                             scoring=\"neg_mean_squared_error\", cv=10)\n",
        "lin_rmse_scores = np.sqrt(-lin_scores)\n",
        "display_scores(lin_rmse_scores)"
      ],
      "execution_count": null,
      "outputs": [
        {
          "output_type": "stream",
          "text": [
            "점수: [66761.31989436 66962.60345637 70349.95155196 74756.97149409\n",
            " 68031.13388938 71193.84183426 64968.10792133 68261.66560566\n",
            " 71527.56573669 67665.10082067]\n",
            "평균: 69047.82622047792\n",
            "표준편차: 2735.477455808435\n"
          ],
          "name": "stdout"
        }
      ]
    },
    {
      "cell_type": "markdown",
      "metadata": {
        "id": "Z53XJ1CULxgu"
      },
      "source": [
        " "
      ]
    },
    {
      "cell_type": "markdown",
      "metadata": {
        "id": "EjnCpfZFLxgu"
      },
      "source": [
        "#### RandomForestRegressor"
      ]
    },
    {
      "cell_type": "code",
      "metadata": {
        "id": "xQ-tqjzuLxgu",
        "outputId": "aa0b4897-c5e1-4d4d-8659-01a7c0157e36"
      },
      "source": [
        "from sklearn.ensemble import RandomForestRegressor\n",
        "\n",
        "forest_reg = RandomForestRegressor(random_state=42)\n",
        "forest_reg.fit(housing_prepared, housing_labels)"
      ],
      "execution_count": null,
      "outputs": [
        {
          "output_type": "execute_result",
          "data": {
            "text/plain": [
              "RandomForestRegressor(bootstrap=True, criterion='mse', max_depth=None,\n",
              "           max_features='auto', max_leaf_nodes=None,\n",
              "           min_impurity_decrease=0.0, min_impurity_split=None,\n",
              "           min_samples_leaf=1, min_samples_split=2,\n",
              "           min_weight_fraction_leaf=0.0, n_estimators=10, n_jobs=1,\n",
              "           oob_score=False, random_state=42, verbose=0, warm_start=False)"
            ]
          },
          "metadata": {
            "tags": []
          },
          "execution_count": 69
        }
      ]
    },
    {
      "cell_type": "code",
      "metadata": {
        "id": "e3Hwsmv_Lxgu",
        "outputId": "8feece24-9d9a-416b-835f-35cfcf4ddc5b"
      },
      "source": [
        "housing_predictions = forest_reg.predict(housing_prepared)\n",
        "forest_mse = mean_squared_error(housing_labels, housing_predictions)\n",
        "forest_rmse = np.sqrt(forest_mse)\n",
        "print('RMSE :', forest_rmse)"
      ],
      "execution_count": null,
      "outputs": [
        {
          "output_type": "stream",
          "text": [
            "RMSE : 21941.911027380233\n"
          ],
          "name": "stdout"
        }
      ]
    },
    {
      "cell_type": "code",
      "metadata": {
        "id": "fdz6nlTfLxgu",
        "outputId": "386b9851-f0e9-4cb1-8f97-e8fcae57a7ab"
      },
      "source": [
        "from sklearn.model_selection import cross_val_score\n",
        "\n",
        "forest_scores = cross_val_score(forest_reg, housing_prepared, housing_labels,\n",
        "                                scoring=\"neg_mean_squared_error\", cv=10)\n",
        "forest_rmse_scores = np.sqrt(-forest_scores)\n",
        "display_scores(forest_rmse_scores)"
      ],
      "execution_count": null,
      "outputs": [
        {
          "output_type": "stream",
          "text": [
            "점수: [51650.94405471 48920.80645498 52979.16096752 54412.74042021\n",
            " 50861.29381163 56488.55699727 51866.90120786 49752.24599537\n",
            " 55399.50713191 53309.74548294]\n",
            "평균: 52564.19025244012\n",
            "표준편차: 2301.873803919754\n"
          ],
          "name": "stdout"
        }
      ]
    },
    {
      "cell_type": "markdown",
      "metadata": {
        "id": "pusj3iAvLxgv"
      },
      "source": [
        " "
      ]
    },
    {
      "cell_type": "markdown",
      "metadata": {
        "id": "nMonZ5nBLxgv"
      },
      "source": [
        "## 2.7 모델 세부 튜닝"
      ]
    },
    {
      "cell_type": "markdown",
      "metadata": {
        "id": "708cg_emLxgv"
      },
      "source": [
        "### 2.7.1 그리드 탐색"
      ]
    },
    {
      "cell_type": "code",
      "metadata": {
        "id": "KvNQQ06eLxgv",
        "outputId": "fd87e1e1-500b-4e99-a21a-34f8d97c56fd"
      },
      "source": [
        "from sklearn.model_selection import GridSearchCV\n",
        "\n",
        "param_grid = [\n",
        "    # 하이퍼파라미터 12(=3×4)개의 조합\n",
        "    # n_estimators는 생성할 트리 개수\n",
        "    {'n_estimators': [3, 10, 30], 'max_features': [2, 4, 6, 8]},\n",
        "    # bootstrap은 False로 하고 6(=2×3)개의 조합\n",
        "    {'bootstrap': [False], 'n_estimators': [3, 10], 'max_features': [2, 3, 4]},\n",
        "  ]\n",
        "\n",
        "forest_reg = RandomForestRegressor(random_state=42)\n",
        "# 다섯 폴드에서 훈련하면 총 (12+6)*5=90번의 훈련\n",
        "grid_search = GridSearchCV(forest_reg, param_grid, cv=5, scoring='neg_mean_squared_error', \n",
        "                           return_train_score=True, n_jobs=-1)\n",
        "grid_search.fit(housing_prepared, housing_labels)"
      ],
      "execution_count": null,
      "outputs": [
        {
          "output_type": "execute_result",
          "data": {
            "text/plain": [
              "GridSearchCV(cv=5, error_score='raise',\n",
              "       estimator=RandomForestRegressor(bootstrap=True, criterion='mse', max_depth=None,\n",
              "           max_features='auto', max_leaf_nodes=None,\n",
              "           min_impurity_decrease=0.0, min_impurity_split=None,\n",
              "           min_samples_leaf=1, min_samples_split=2,\n",
              "           min_weight_fraction_leaf=0.0, n_estimators=10, n_jobs=1,\n",
              "           oob_score=False, random_state=42, verbose=0, warm_start=False),\n",
              "       fit_params=None, iid=True, n_jobs=-1,\n",
              "       param_grid=[{'n_estimators': [3, 10, 30], 'max_features': [2, 4, 6, 8]}, {'bootstrap': [False], 'n_estimators': [3, 10], 'max_features': [2, 3, 4]}],\n",
              "       pre_dispatch='2*n_jobs', refit=True, return_train_score=True,\n",
              "       scoring='neg_mean_squared_error', verbose=0)"
            ]
          },
          "metadata": {
            "tags": []
          },
          "execution_count": 72
        }
      ]
    },
    {
      "cell_type": "code",
      "metadata": {
        "id": "3wwVcndCLxgv",
        "outputId": "6634f5f8-0b09-4890-ba08-4898ab6018bf"
      },
      "source": [
        "grid_search.best_params_"
      ],
      "execution_count": null,
      "outputs": [
        {
          "output_type": "execute_result",
          "data": {
            "text/plain": [
              "{'max_features': 8, 'n_estimators': 30}"
            ]
          },
          "metadata": {
            "tags": []
          },
          "execution_count": 73
        }
      ]
    },
    {
      "cell_type": "code",
      "metadata": {
        "id": "xU8CTO5gLxgv",
        "outputId": "a7719b50-984c-4812-ca15-35864ff6f170"
      },
      "source": [
        "grid_search.best_estimator_"
      ],
      "execution_count": null,
      "outputs": [
        {
          "output_type": "execute_result",
          "data": {
            "text/plain": [
              "RandomForestRegressor(bootstrap=True, criterion='mse', max_depth=None,\n",
              "           max_features=8, max_leaf_nodes=None, min_impurity_decrease=0.0,\n",
              "           min_impurity_split=None, min_samples_leaf=1,\n",
              "           min_samples_split=2, min_weight_fraction_leaf=0.0,\n",
              "           n_estimators=30, n_jobs=1, oob_score=False, random_state=42,\n",
              "           verbose=0, warm_start=False)"
            ]
          },
          "metadata": {
            "tags": []
          },
          "execution_count": 74
        }
      ]
    },
    {
      "cell_type": "code",
      "metadata": {
        "id": "f2Djtsd5Lxgw",
        "outputId": "752bb693-8e3a-49d0-d532-8506f36ecc2d"
      },
      "source": [
        "cvres = grid_search.cv_results_\n",
        "for mean_score, params in zip(cvres[\"mean_test_score\"], cvres[\"params\"]):\n",
        "    print(np.sqrt(-mean_score), params)"
      ],
      "execution_count": null,
      "outputs": [
        {
          "output_type": "stream",
          "text": [
            "63647.85444595992 {'max_features': 2, 'n_estimators': 3}\n",
            "55611.50159876327 {'max_features': 2, 'n_estimators': 10}\n",
            "53370.06407363344 {'max_features': 2, 'n_estimators': 30}\n",
            "60959.138858487866 {'max_features': 4, 'n_estimators': 3}\n",
            "52740.58416665252 {'max_features': 4, 'n_estimators': 10}\n",
            "50374.14214614731 {'max_features': 4, 'n_estimators': 30}\n",
            "58661.2866461823 {'max_features': 6, 'n_estimators': 3}\n",
            "52009.973979776936 {'max_features': 6, 'n_estimators': 10}\n",
            "50154.11777368494 {'max_features': 6, 'n_estimators': 30}\n",
            "57865.36168014446 {'max_features': 8, 'n_estimators': 3}\n",
            "51730.07550866553 {'max_features': 8, 'n_estimators': 10}\n",
            "49694.85143334442 {'max_features': 8, 'n_estimators': 30}\n",
            "62874.407393096284 {'bootstrap': False, 'max_features': 2, 'n_estimators': 3}\n",
            "54643.49980834466 {'bootstrap': False, 'max_features': 2, 'n_estimators': 10}\n",
            "59437.89228588419 {'bootstrap': False, 'max_features': 3, 'n_estimators': 3}\n",
            "52735.358293621044 {'bootstrap': False, 'max_features': 3, 'n_estimators': 10}\n",
            "57490.01682787995 {'bootstrap': False, 'max_features': 4, 'n_estimators': 3}\n",
            "51008.261567163354 {'bootstrap': False, 'max_features': 4, 'n_estimators': 10}\n"
          ],
          "name": "stdout"
        }
      ]
    },
    {
      "cell_type": "code",
      "metadata": {
        "id": "lRFDSZZhLxgw",
        "outputId": "1cfed3b2-56ca-471e-9218-58d1e0ed1a90"
      },
      "source": [
        "pd.DataFrame(grid_search.cv_results_).head()"
      ],
      "execution_count": null,
      "outputs": [
        {
          "output_type": "execute_result",
          "data": {
            "text/html": [
              "<div>\n",
              "<style scoped>\n",
              "    .dataframe tbody tr th:only-of-type {\n",
              "        vertical-align: middle;\n",
              "    }\n",
              "\n",
              "    .dataframe tbody tr th {\n",
              "        vertical-align: top;\n",
              "    }\n",
              "\n",
              "    .dataframe thead th {\n",
              "        text-align: right;\n",
              "    }\n",
              "</style>\n",
              "<table border=\"1\" class=\"dataframe\">\n",
              "  <thead>\n",
              "    <tr style=\"text-align: right;\">\n",
              "      <th></th>\n",
              "      <th>mean_fit_time</th>\n",
              "      <th>std_fit_time</th>\n",
              "      <th>mean_score_time</th>\n",
              "      <th>std_score_time</th>\n",
              "      <th>param_max_features</th>\n",
              "      <th>param_n_estimators</th>\n",
              "      <th>param_bootstrap</th>\n",
              "      <th>params</th>\n",
              "      <th>split0_test_score</th>\n",
              "      <th>split1_test_score</th>\n",
              "      <th>...</th>\n",
              "      <th>mean_test_score</th>\n",
              "      <th>std_test_score</th>\n",
              "      <th>rank_test_score</th>\n",
              "      <th>split0_train_score</th>\n",
              "      <th>split1_train_score</th>\n",
              "      <th>split2_train_score</th>\n",
              "      <th>split3_train_score</th>\n",
              "      <th>split4_train_score</th>\n",
              "      <th>mean_train_score</th>\n",
              "      <th>std_train_score</th>\n",
              "    </tr>\n",
              "  </thead>\n",
              "  <tbody>\n",
              "    <tr>\n",
              "      <th>0</th>\n",
              "      <td>0.049492</td>\n",
              "      <td>0.008026</td>\n",
              "      <td>0.002667</td>\n",
              "      <td>0.000286</td>\n",
              "      <td>2</td>\n",
              "      <td>3</td>\n",
              "      <td>NaN</td>\n",
              "      <td>{'max_features': 2, 'n_estimators': 3}</td>\n",
              "      <td>-3.850668e+09</td>\n",
              "      <td>-4.134078e+09</td>\n",
              "      <td>...</td>\n",
              "      <td>-4.051049e+09</td>\n",
              "      <td>1.431223e+08</td>\n",
              "      <td>18</td>\n",
              "      <td>-1.065637e+09</td>\n",
              "      <td>-1.104930e+09</td>\n",
              "      <td>-1.116843e+09</td>\n",
              "      <td>-1.112813e+09</td>\n",
              "      <td>-1.129842e+09</td>\n",
              "      <td>-1.106013e+09</td>\n",
              "      <td>2.173798e+07</td>\n",
              "    </tr>\n",
              "    <tr>\n",
              "      <th>1</th>\n",
              "      <td>0.202101</td>\n",
              "      <td>0.006512</td>\n",
              "      <td>0.008109</td>\n",
              "      <td>0.000283</td>\n",
              "      <td>2</td>\n",
              "      <td>10</td>\n",
              "      <td>NaN</td>\n",
              "      <td>{'max_features': 2, 'n_estimators': 10}</td>\n",
              "      <td>-3.052380e+09</td>\n",
              "      <td>-3.250767e+09</td>\n",
              "      <td>...</td>\n",
              "      <td>-3.092639e+09</td>\n",
              "      <td>1.306954e+08</td>\n",
              "      <td>11</td>\n",
              "      <td>-5.932728e+08</td>\n",
              "      <td>-5.871800e+08</td>\n",
              "      <td>-5.780873e+08</td>\n",
              "      <td>-5.713421e+08</td>\n",
              "      <td>-5.797944e+08</td>\n",
              "      <td>-5.819353e+08</td>\n",
              "      <td>7.584886e+06</td>\n",
              "    </tr>\n",
              "    <tr>\n",
              "      <th>2</th>\n",
              "      <td>0.607539</td>\n",
              "      <td>0.009547</td>\n",
              "      <td>0.023485</td>\n",
              "      <td>0.000599</td>\n",
              "      <td>2</td>\n",
              "      <td>30</td>\n",
              "      <td>NaN</td>\n",
              "      <td>{'max_features': 2, 'n_estimators': 30}</td>\n",
              "      <td>-2.692176e+09</td>\n",
              "      <td>-3.017478e+09</td>\n",
              "      <td>...</td>\n",
              "      <td>-2.848364e+09</td>\n",
              "      <td>1.604534e+08</td>\n",
              "      <td>9</td>\n",
              "      <td>-4.385337e+08</td>\n",
              "      <td>-4.394786e+08</td>\n",
              "      <td>-4.374429e+08</td>\n",
              "      <td>-4.374715e+08</td>\n",
              "      <td>-4.451903e+08</td>\n",
              "      <td>-4.396234e+08</td>\n",
              "      <td>2.883885e+06</td>\n",
              "    </tr>\n",
              "    <tr>\n",
              "      <th>3</th>\n",
              "      <td>0.104583</td>\n",
              "      <td>0.001521</td>\n",
              "      <td>0.002742</td>\n",
              "      <td>0.000168</td>\n",
              "      <td>4</td>\n",
              "      <td>3</td>\n",
              "      <td>NaN</td>\n",
              "      <td>{'max_features': 4, 'n_estimators': 3}</td>\n",
              "      <td>-3.729600e+09</td>\n",
              "      <td>-3.794768e+09</td>\n",
              "      <td>...</td>\n",
              "      <td>-3.716017e+09</td>\n",
              "      <td>1.690029e+08</td>\n",
              "      <td>16</td>\n",
              "      <td>-9.869264e+08</td>\n",
              "      <td>-1.013680e+09</td>\n",
              "      <td>-9.172986e+08</td>\n",
              "      <td>-1.035901e+09</td>\n",
              "      <td>-9.711998e+08</td>\n",
              "      <td>-9.850011e+08</td>\n",
              "      <td>4.047487e+07</td>\n",
              "    </tr>\n",
              "    <tr>\n",
              "      <th>4</th>\n",
              "      <td>0.337706</td>\n",
              "      <td>0.001467</td>\n",
              "      <td>0.007812</td>\n",
              "      <td>0.000341</td>\n",
              "      <td>4</td>\n",
              "      <td>10</td>\n",
              "      <td>NaN</td>\n",
              "      <td>{'max_features': 4, 'n_estimators': 10}</td>\n",
              "      <td>-2.667093e+09</td>\n",
              "      <td>-2.786244e+09</td>\n",
              "      <td>...</td>\n",
              "      <td>-2.781569e+09</td>\n",
              "      <td>1.278498e+08</td>\n",
              "      <td>8</td>\n",
              "      <td>-5.100563e+08</td>\n",
              "      <td>-5.158568e+08</td>\n",
              "      <td>-4.960301e+08</td>\n",
              "      <td>-5.422542e+08</td>\n",
              "      <td>-5.158794e+08</td>\n",
              "      <td>-5.160154e+08</td>\n",
              "      <td>1.498960e+07</td>\n",
              "    </tr>\n",
              "  </tbody>\n",
              "</table>\n",
              "<p>5 rows × 23 columns</p>\n",
              "</div>"
            ],
            "text/plain": [
              "   mean_fit_time  std_fit_time  mean_score_time  std_score_time  \\\n",
              "0       0.049492      0.008026         0.002667        0.000286   \n",
              "1       0.202101      0.006512         0.008109        0.000283   \n",
              "2       0.607539      0.009547         0.023485        0.000599   \n",
              "3       0.104583      0.001521         0.002742        0.000168   \n",
              "4       0.337706      0.001467         0.007812        0.000341   \n",
              "\n",
              "  param_max_features param_n_estimators param_bootstrap  \\\n",
              "0                  2                  3             NaN   \n",
              "1                  2                 10             NaN   \n",
              "2                  2                 30             NaN   \n",
              "3                  4                  3             NaN   \n",
              "4                  4                 10             NaN   \n",
              "\n",
              "                                    params  split0_test_score  \\\n",
              "0   {'max_features': 2, 'n_estimators': 3}      -3.850668e+09   \n",
              "1  {'max_features': 2, 'n_estimators': 10}      -3.052380e+09   \n",
              "2  {'max_features': 2, 'n_estimators': 30}      -2.692176e+09   \n",
              "3   {'max_features': 4, 'n_estimators': 3}      -3.729600e+09   \n",
              "4  {'max_features': 4, 'n_estimators': 10}      -2.667093e+09   \n",
              "\n",
              "   split1_test_score       ...         mean_test_score  std_test_score  \\\n",
              "0      -4.134078e+09       ...           -4.051049e+09    1.431223e+08   \n",
              "1      -3.250767e+09       ...           -3.092639e+09    1.306954e+08   \n",
              "2      -3.017478e+09       ...           -2.848364e+09    1.604534e+08   \n",
              "3      -3.794768e+09       ...           -3.716017e+09    1.690029e+08   \n",
              "4      -2.786244e+09       ...           -2.781569e+09    1.278498e+08   \n",
              "\n",
              "   rank_test_score  split0_train_score  split1_train_score  \\\n",
              "0               18       -1.065637e+09       -1.104930e+09   \n",
              "1               11       -5.932728e+08       -5.871800e+08   \n",
              "2                9       -4.385337e+08       -4.394786e+08   \n",
              "3               16       -9.869264e+08       -1.013680e+09   \n",
              "4                8       -5.100563e+08       -5.158568e+08   \n",
              "\n",
              "   split2_train_score  split3_train_score  split4_train_score  \\\n",
              "0       -1.116843e+09       -1.112813e+09       -1.129842e+09   \n",
              "1       -5.780873e+08       -5.713421e+08       -5.797944e+08   \n",
              "2       -4.374429e+08       -4.374715e+08       -4.451903e+08   \n",
              "3       -9.172986e+08       -1.035901e+09       -9.711998e+08   \n",
              "4       -4.960301e+08       -5.422542e+08       -5.158794e+08   \n",
              "\n",
              "   mean_train_score  std_train_score  \n",
              "0     -1.106013e+09     2.173798e+07  \n",
              "1     -5.819353e+08     7.584886e+06  \n",
              "2     -4.396234e+08     2.883885e+06  \n",
              "3     -9.850011e+08     4.047487e+07  \n",
              "4     -5.160154e+08     1.498960e+07  \n",
              "\n",
              "[5 rows x 23 columns]"
            ]
          },
          "metadata": {
            "tags": []
          },
          "execution_count": 76
        }
      ]
    },
    {
      "cell_type": "markdown",
      "metadata": {
        "id": "MJrHbBh4Lxgw"
      },
      "source": [
        " "
      ]
    },
    {
      "cell_type": "markdown",
      "metadata": {
        "id": "QPwS-r4BLxgw"
      },
      "source": [
        "### 2.7.2 랜덤 탐색\n",
        "\n"
      ]
    },
    {
      "cell_type": "code",
      "metadata": {
        "id": "OQzeGuZhLxgw",
        "outputId": "3c8065f4-9e3b-4bf8-fb50-5c20d0f8751e"
      },
      "source": [
        "from sklearn.model_selection import RandomizedSearchCV\n",
        "from scipy.stats import randint\n",
        "\n",
        "param_distribs = {\n",
        "        'n_estimators': randint(low=1, high=200),\n",
        "        'max_features': randint(low=1, high=8),\n",
        "    }\n",
        "\n",
        "forest_reg = RandomForestRegressor(random_state=42)\n",
        "rnd_search = RandomizedSearchCV(forest_reg, param_distributions=param_distribs,\n",
        "                                n_iter=10, cv=5, scoring='neg_mean_squared_error', \n",
        "                                random_state=42, n_jobs=-1)\n",
        "rnd_search.fit(housing_prepared, housing_labels)"
      ],
      "execution_count": null,
      "outputs": [
        {
          "output_type": "execute_result",
          "data": {
            "text/plain": [
              "RandomizedSearchCV(cv=5, error_score='raise',\n",
              "          estimator=RandomForestRegressor(bootstrap=True, criterion='mse', max_depth=None,\n",
              "           max_features='auto', max_leaf_nodes=None,\n",
              "           min_impurity_decrease=0.0, min_impurity_split=None,\n",
              "           min_samples_leaf=1, min_samples_split=2,\n",
              "           min_weight_fraction_leaf=0.0, n_estimators=10, n_jobs=1,\n",
              "           oob_score=False, random_state=42, verbose=0, warm_start=False),\n",
              "          fit_params=None, iid=True, n_iter=10, n_jobs=-1,\n",
              "          param_distributions={'n_estimators': <scipy.stats._distn_infrastructure.rv_frozen object at 0x7f8d45785940>, 'max_features': <scipy.stats._distn_infrastructure.rv_frozen object at 0x7f8d45785a90>},\n",
              "          pre_dispatch='2*n_jobs', random_state=42, refit=True,\n",
              "          return_train_score='warn', scoring='neg_mean_squared_error',\n",
              "          verbose=0)"
            ]
          },
          "metadata": {
            "tags": []
          },
          "execution_count": 77
        }
      ]
    },
    {
      "cell_type": "code",
      "metadata": {
        "id": "j3nod5doLxgx",
        "outputId": "0867bf9b-d6bc-4a03-afd8-562e85812d71"
      },
      "source": [
        "cvres = rnd_search.cv_results_\n",
        "for mean_score, params in zip(cvres[\"mean_test_score\"], cvres[\"params\"]):\n",
        "    print(np.sqrt(-mean_score), params)"
      ],
      "execution_count": null,
      "outputs": [
        {
          "output_type": "stream",
          "text": [
            "49147.15241724505 {'max_features': 7, 'n_estimators': 180}\n",
            "51396.876896929905 {'max_features': 5, 'n_estimators': 15}\n",
            "50797.05737322649 {'max_features': 3, 'n_estimators': 72}\n",
            "50840.744513982805 {'max_features': 5, 'n_estimators': 21}\n",
            "49276.17530332962 {'max_features': 7, 'n_estimators': 122}\n",
            "50775.46331678437 {'max_features': 3, 'n_estimators': 75}\n",
            "50681.383924974936 {'max_features': 3, 'n_estimators': 88}\n",
            "49612.152530468346 {'max_features': 5, 'n_estimators': 100}\n",
            "50473.01751424941 {'max_features': 3, 'n_estimators': 150}\n",
            "64458.25385034794 {'max_features': 5, 'n_estimators': 2}\n"
          ],
          "name": "stdout"
        }
      ]
    },
    {
      "cell_type": "markdown",
      "metadata": {
        "id": "97HiSaMsLxgx"
      },
      "source": [
        " "
      ]
    },
    {
      "cell_type": "markdown",
      "metadata": {
        "id": "WA5JJN7bLxgx"
      },
      "source": [
        "### 2.7.4 최상의 모델과 오차 분석"
      ]
    },
    {
      "cell_type": "code",
      "metadata": {
        "id": "RLlbIyxyLxgx",
        "outputId": "63dd3a69-56e0-4cfc-fce6-b326948cc286"
      },
      "source": [
        "feature_importances = grid_search.best_estimator_.feature_importances_\n",
        "feature_importances"
      ],
      "execution_count": null,
      "outputs": [
        {
          "output_type": "execute_result",
          "data": {
            "text/plain": [
              "array([7.33442355e-02, 6.29090705e-02, 4.11437985e-02, 1.46726854e-02,\n",
              "       1.41064835e-02, 1.48742809e-02, 1.42575993e-02, 3.66158981e-01,\n",
              "       5.64191792e-02, 1.08792957e-01, 5.33510773e-02, 1.03114883e-02,\n",
              "       1.64780994e-01, 6.02803867e-05, 1.96041560e-03, 2.85647464e-03])"
            ]
          },
          "metadata": {
            "tags": []
          },
          "execution_count": 79
        }
      ]
    },
    {
      "cell_type": "code",
      "metadata": {
        "id": "EnNfiL-MLxgx",
        "outputId": "a0d9f54c-b201-49f5-d806-a94cdda90d81"
      },
      "source": [
        "extra_attribs = [\"rooms_per_hhold\", \"pop_per_hhold\", \"bedrooms_per_room\"]\n",
        "cat_encoder = cat_pipeline.named_steps[\"cat_encoder\"]\n",
        "cat_one_hot_attribs = list(cat_encoder.categories_[0])\n",
        "attributes = num_attribs + extra_attribs + cat_one_hot_attribs\n",
        "sorted(zip(feature_importances, attributes), reverse=True)"
      ],
      "execution_count": null,
      "outputs": [
        {
          "output_type": "execute_result",
          "data": {
            "text/plain": [
              "[(0.3661589806181342, 'median_income'),\n",
              " (0.1647809935615905, 'INLAND'),\n",
              " (0.10879295677551573, 'pop_per_hhold'),\n",
              " (0.07334423551601242, 'longitude'),\n",
              " (0.0629090704826203, 'latitude'),\n",
              " (0.05641917918195401, 'rooms_per_hhold'),\n",
              " (0.05335107734767581, 'bedrooms_per_room'),\n",
              " (0.041143798478729635, 'housing_median_age'),\n",
              " (0.014874280890402767, 'population'),\n",
              " (0.014672685420543237, 'total_rooms'),\n",
              " (0.014257599323407807, 'households'),\n",
              " (0.014106483453584102, 'total_bedrooms'),\n",
              " (0.010311488326303787, '<1H OCEAN'),\n",
              " (0.002856474637320158, 'NEAR OCEAN'),\n",
              " (0.00196041559947807, 'NEAR BAY'),\n",
              " (6.028038672736599e-05, 'ISLAND')]"
            ]
          },
          "metadata": {
            "tags": []
          },
          "execution_count": 80
        }
      ]
    },
    {
      "cell_type": "markdown",
      "metadata": {
        "id": "53ijdwLpLxgx"
      },
      "source": [
        " "
      ]
    },
    {
      "cell_type": "markdown",
      "metadata": {
        "id": "17Gy0-b7Lxgy"
      },
      "source": [
        "### 2.7.5 테스트 세트로 시스템 평가하기"
      ]
    },
    {
      "cell_type": "code",
      "metadata": {
        "id": "oqC5aOi-Lxgy"
      },
      "source": [
        "final_model = grid_search.best_estimator_\n",
        "\n",
        "X_test = strat_test_set.drop(\"median_house_value\", axis=1)\n",
        "y_test = strat_test_set[\"median_house_value\"].copy()\n",
        "\n",
        "X_test_prepared = full_pipeline.transform(X_test)\n",
        "final_predictions = final_model.predict(X_test_prepared)\n",
        "\n",
        "final_mse = mean_squared_error(y_test, final_predictions)\n",
        "final_rmse = np.sqrt(final_mse)"
      ],
      "execution_count": null,
      "outputs": []
    },
    {
      "cell_type": "code",
      "metadata": {
        "id": "Fm49LkLULxgy",
        "outputId": "1ed35bb0-537c-4456-cecd-a3e3d01db5c5"
      },
      "source": [
        "final_rmse"
      ],
      "execution_count": null,
      "outputs": [
        {
          "output_type": "execute_result",
          "data": {
            "text/plain": [
              "47766.00396643308"
            ]
          },
          "metadata": {
            "tags": []
          },
          "execution_count": 82
        }
      ]
    },
    {
      "cell_type": "markdown",
      "metadata": {
        "id": "NQcrr_bfLxgy"
      },
      "source": [
        " "
      ]
    },
    {
      "cell_type": "markdown",
      "metadata": {
        "id": "VnDcuFhpLxgy"
      },
      "source": [
        "## 추가 내용"
      ]
    },
    {
      "cell_type": "markdown",
      "metadata": {
        "id": "CIPd6qVHLxgy"
      },
      "source": [
        "### 전처리와 예측을 포함한 파이프라인"
      ]
    },
    {
      "cell_type": "code",
      "metadata": {
        "id": "P9EJJ9lALxgz",
        "outputId": "ec789aa5-ffbd-4a7a-ac20-be389f4ab471"
      },
      "source": [
        "full_pipeline_with_predictor = Pipeline([\n",
        "        (\"preparation\", full_pipeline),\n",
        "        (\"linear\", LinearRegression())\n",
        "    ])\n",
        "\n",
        "full_pipeline_with_predictor.fit(housing, housing_labels)\n",
        "full_pipeline_with_predictor.predict(some_data)"
      ],
      "execution_count": null,
      "outputs": [
        {
          "output_type": "execute_result",
          "data": {
            "text/plain": [
              "array([210644.60459286, 317768.80697211, 210956.43331178,  59218.98886849,\n",
              "       189747.55849879])"
            ]
          },
          "metadata": {
            "tags": []
          },
          "execution_count": 83
        }
      ]
    },
    {
      "cell_type": "markdown",
      "metadata": {
        "id": "I4CPxBDXLxgz"
      },
      "source": [
        " "
      ]
    },
    {
      "cell_type": "markdown",
      "metadata": {
        "id": "XpMGn-ajLxgz"
      },
      "source": [
        "### joblib을 이용한 모델 저장"
      ]
    },
    {
      "cell_type": "code",
      "metadata": {
        "id": "3ztKVUfiLxgz"
      },
      "source": [
        "my_model = full_pipeline_with_predictor"
      ],
      "execution_count": null,
      "outputs": []
    },
    {
      "cell_type": "code",
      "metadata": {
        "id": "P1uX8Z-0Lxgz"
      },
      "source": [
        "from sklearn.externals import joblib\n",
        "joblib.dump(my_model, \"./model/my_model.pkl\") # DIFF\n",
        "#...\n",
        "my_model_loaded = joblib.load(\"./model/my_model.pkl\") # DIFF"
      ],
      "execution_count": null,
      "outputs": []
    }
  ]
}